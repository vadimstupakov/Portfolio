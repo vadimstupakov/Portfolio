{
 "cells": [
  {
   "cell_type": "markdown",
   "id": "8bc451d8",
   "metadata": {},
   "source": [
    "<div style=\"border:solid green 2px; padding: 20px\">\n",
    "\n",
    "<b>Привет, Вадим! </b>\n",
    "\n",
    "Меня зовут Алина Соловьева и я буду проверять твою работу. Попробую помочь сделать тебе её еще лучше! В Практикуме принято общение на ты, но если это дискомфортно, то сообщи об этом)\n",
    "\n",
    "Ниже ты найдешь мои комментарии - пожалуйста, не перемещай, не изменяй и не удаляй их. Я буду использовать цветовую разметку:\n",
    "\n",
    "<div class=\"alert alert-danger\">\n",
    "<b>Комментарий ревьюера:</b>☁️Так выделены самые важные замечания. Без их отработки проект не будет принят. </div>\n",
    "\n",
    "<div class=\"alert alert-warning\">\n",
    "<b>Комментарий ревьюера:</b>⛅️ Так выделены небольшие замечания.Такие замечания в проекте допустимы, это пространство для улучшений в будущем.\n",
    "</div>\n",
    "\n",
    "<div class=\"alert alert-success\">\n",
    "<b>Комментарий ревьюера:</b>☀️Так я выделяю успешные идеи.</div>\n",
    "\n",
    "Давай работать над проектом в диалоге: если ты что-то меняешь в проекте или отвечаешь на мои комменатри — пиши об этом. Мне будет легче отследить изменения, если ты выделишь свои комментарии:\n",
    "<div class=\"alert alert-info\"> <b>Комментарий студента:</b> Например, вот так.</div>\n",
    "\n",
    "Всё это поможет выполнить повторную проверку твоего проекта оперативнее."
   ]
  },
  {
   "cell_type": "markdown",
   "id": "d963af76",
   "metadata": {
    "deletable": false,
    "editable": false,
    "id": "c81daeeb"
   },
   "source": [
    "# Исследование надежности заемщиков\n"
   ]
  },
  {
   "cell_type": "markdown",
   "id": "d1e5fff7",
   "metadata": {
    "deletable": false,
    "editable": false,
    "id": "827c20bf"
   },
   "source": [
    "Во второй части проекта вы выполните шаги 3 и 4. Их вручную проверит ревьюер.\n",
    "Чтобы вам не пришлось писать код заново для шагов 1 и 2, мы добавили авторские решения в ячейки с кодом. \n",
    "\n"
   ]
  },
  {
   "cell_type": "markdown",
   "id": "3b9ffa2b",
   "metadata": {
    "deletable": false,
    "editable": false,
    "id": "744d7639"
   },
   "source": [
    "## Откройте таблицу и изучите общую информацию о данных"
   ]
  },
  {
   "cell_type": "markdown",
   "id": "032d7839",
   "metadata": {
    "deletable": false,
    "editable": false,
    "id": "e7a14c31"
   },
   "source": [
    "**Задание 1. Импортируйте библиотеку pandas. Считайте данные из csv-файла в датафрейм и сохраните в переменную `data`. Путь к файлу:**\n",
    "\n",
    "`/datasets/data.csv`"
   ]
  },
  {
   "cell_type": "code",
   "execution_count": 1,
   "id": "0d53c2ac",
   "metadata": {
    "deletable": false,
    "id": "7bcf75c9"
   },
   "outputs": [],
   "source": [
    "import pandas as pd\n",
    "import seaborn\n",
    "\n",
    "try:\n",
    "    data = pd.read_csv('/datasets/data.csv')\n",
    "except:\n",
    "    data = pd.read_csv('https://code.s3.yandex.net/datasets/data.csv')"
   ]
  },
  {
   "cell_type": "markdown",
   "id": "e39c1221",
   "metadata": {
    "deletable": false,
    "editable": false,
    "id": "b8038fe3"
   },
   "source": [
    "**Задание 2. Выведите первые 20 строчек датафрейма `data` на экран.**"
   ]
  },
  {
   "cell_type": "code",
   "execution_count": 2,
   "id": "70a491a1",
   "metadata": {
    "deletable": false,
    "id": "2a7cab99",
    "outputId": "1a8f3ef2-d323-4ec2-ddf7-89670b5944c4"
   },
   "outputs": [
    {
     "data": {
      "text/html": [
       "<div>\n",
       "<style scoped>\n",
       "    .dataframe tbody tr th:only-of-type {\n",
       "        vertical-align: middle;\n",
       "    }\n",
       "\n",
       "    .dataframe tbody tr th {\n",
       "        vertical-align: top;\n",
       "    }\n",
       "\n",
       "    .dataframe thead th {\n",
       "        text-align: right;\n",
       "    }\n",
       "</style>\n",
       "<table border=\"1\" class=\"dataframe\">\n",
       "  <thead>\n",
       "    <tr style=\"text-align: right;\">\n",
       "      <th></th>\n",
       "      <th>children</th>\n",
       "      <th>days_employed</th>\n",
       "      <th>dob_years</th>\n",
       "      <th>education</th>\n",
       "      <th>education_id</th>\n",
       "      <th>family_status</th>\n",
       "      <th>family_status_id</th>\n",
       "      <th>gender</th>\n",
       "      <th>income_type</th>\n",
       "      <th>debt</th>\n",
       "      <th>total_income</th>\n",
       "      <th>purpose</th>\n",
       "    </tr>\n",
       "  </thead>\n",
       "  <tbody>\n",
       "    <tr>\n",
       "      <th>0</th>\n",
       "      <td>1</td>\n",
       "      <td>-8437.673028</td>\n",
       "      <td>42</td>\n",
       "      <td>высшее</td>\n",
       "      <td>0</td>\n",
       "      <td>женат / замужем</td>\n",
       "      <td>0</td>\n",
       "      <td>F</td>\n",
       "      <td>сотрудник</td>\n",
       "      <td>0</td>\n",
       "      <td>253875.639453</td>\n",
       "      <td>покупка жилья</td>\n",
       "    </tr>\n",
       "    <tr>\n",
       "      <th>1</th>\n",
       "      <td>1</td>\n",
       "      <td>-4024.803754</td>\n",
       "      <td>36</td>\n",
       "      <td>среднее</td>\n",
       "      <td>1</td>\n",
       "      <td>женат / замужем</td>\n",
       "      <td>0</td>\n",
       "      <td>F</td>\n",
       "      <td>сотрудник</td>\n",
       "      <td>0</td>\n",
       "      <td>112080.014102</td>\n",
       "      <td>приобретение автомобиля</td>\n",
       "    </tr>\n",
       "    <tr>\n",
       "      <th>2</th>\n",
       "      <td>0</td>\n",
       "      <td>-5623.422610</td>\n",
       "      <td>33</td>\n",
       "      <td>Среднее</td>\n",
       "      <td>1</td>\n",
       "      <td>женат / замужем</td>\n",
       "      <td>0</td>\n",
       "      <td>M</td>\n",
       "      <td>сотрудник</td>\n",
       "      <td>0</td>\n",
       "      <td>145885.952297</td>\n",
       "      <td>покупка жилья</td>\n",
       "    </tr>\n",
       "    <tr>\n",
       "      <th>3</th>\n",
       "      <td>3</td>\n",
       "      <td>-4124.747207</td>\n",
       "      <td>32</td>\n",
       "      <td>среднее</td>\n",
       "      <td>1</td>\n",
       "      <td>женат / замужем</td>\n",
       "      <td>0</td>\n",
       "      <td>M</td>\n",
       "      <td>сотрудник</td>\n",
       "      <td>0</td>\n",
       "      <td>267628.550329</td>\n",
       "      <td>дополнительное образование</td>\n",
       "    </tr>\n",
       "    <tr>\n",
       "      <th>4</th>\n",
       "      <td>0</td>\n",
       "      <td>340266.072047</td>\n",
       "      <td>53</td>\n",
       "      <td>среднее</td>\n",
       "      <td>1</td>\n",
       "      <td>гражданский брак</td>\n",
       "      <td>1</td>\n",
       "      <td>F</td>\n",
       "      <td>пенсионер</td>\n",
       "      <td>0</td>\n",
       "      <td>158616.077870</td>\n",
       "      <td>сыграть свадьбу</td>\n",
       "    </tr>\n",
       "    <tr>\n",
       "      <th>5</th>\n",
       "      <td>0</td>\n",
       "      <td>-926.185831</td>\n",
       "      <td>27</td>\n",
       "      <td>высшее</td>\n",
       "      <td>0</td>\n",
       "      <td>гражданский брак</td>\n",
       "      <td>1</td>\n",
       "      <td>M</td>\n",
       "      <td>компаньон</td>\n",
       "      <td>0</td>\n",
       "      <td>255763.565419</td>\n",
       "      <td>покупка жилья</td>\n",
       "    </tr>\n",
       "    <tr>\n",
       "      <th>6</th>\n",
       "      <td>0</td>\n",
       "      <td>-2879.202052</td>\n",
       "      <td>43</td>\n",
       "      <td>высшее</td>\n",
       "      <td>0</td>\n",
       "      <td>женат / замужем</td>\n",
       "      <td>0</td>\n",
       "      <td>F</td>\n",
       "      <td>компаньон</td>\n",
       "      <td>0</td>\n",
       "      <td>240525.971920</td>\n",
       "      <td>операции с жильем</td>\n",
       "    </tr>\n",
       "    <tr>\n",
       "      <th>7</th>\n",
       "      <td>0</td>\n",
       "      <td>-152.779569</td>\n",
       "      <td>50</td>\n",
       "      <td>СРЕДНЕЕ</td>\n",
       "      <td>1</td>\n",
       "      <td>женат / замужем</td>\n",
       "      <td>0</td>\n",
       "      <td>M</td>\n",
       "      <td>сотрудник</td>\n",
       "      <td>0</td>\n",
       "      <td>135823.934197</td>\n",
       "      <td>образование</td>\n",
       "    </tr>\n",
       "    <tr>\n",
       "      <th>8</th>\n",
       "      <td>2</td>\n",
       "      <td>-6929.865299</td>\n",
       "      <td>35</td>\n",
       "      <td>ВЫСШЕЕ</td>\n",
       "      <td>0</td>\n",
       "      <td>гражданский брак</td>\n",
       "      <td>1</td>\n",
       "      <td>F</td>\n",
       "      <td>сотрудник</td>\n",
       "      <td>0</td>\n",
       "      <td>95856.832424</td>\n",
       "      <td>на проведение свадьбы</td>\n",
       "    </tr>\n",
       "    <tr>\n",
       "      <th>9</th>\n",
       "      <td>0</td>\n",
       "      <td>-2188.756445</td>\n",
       "      <td>41</td>\n",
       "      <td>среднее</td>\n",
       "      <td>1</td>\n",
       "      <td>женат / замужем</td>\n",
       "      <td>0</td>\n",
       "      <td>M</td>\n",
       "      <td>сотрудник</td>\n",
       "      <td>0</td>\n",
       "      <td>144425.938277</td>\n",
       "      <td>покупка жилья для семьи</td>\n",
       "    </tr>\n",
       "    <tr>\n",
       "      <th>10</th>\n",
       "      <td>2</td>\n",
       "      <td>-4171.483647</td>\n",
       "      <td>36</td>\n",
       "      <td>высшее</td>\n",
       "      <td>0</td>\n",
       "      <td>женат / замужем</td>\n",
       "      <td>0</td>\n",
       "      <td>M</td>\n",
       "      <td>компаньон</td>\n",
       "      <td>0</td>\n",
       "      <td>113943.491460</td>\n",
       "      <td>покупка недвижимости</td>\n",
       "    </tr>\n",
       "    <tr>\n",
       "      <th>11</th>\n",
       "      <td>0</td>\n",
       "      <td>-792.701887</td>\n",
       "      <td>40</td>\n",
       "      <td>среднее</td>\n",
       "      <td>1</td>\n",
       "      <td>женат / замужем</td>\n",
       "      <td>0</td>\n",
       "      <td>F</td>\n",
       "      <td>сотрудник</td>\n",
       "      <td>0</td>\n",
       "      <td>77069.234271</td>\n",
       "      <td>покупка коммерческой недвижимости</td>\n",
       "    </tr>\n",
       "    <tr>\n",
       "      <th>12</th>\n",
       "      <td>0</td>\n",
       "      <td>NaN</td>\n",
       "      <td>65</td>\n",
       "      <td>среднее</td>\n",
       "      <td>1</td>\n",
       "      <td>гражданский брак</td>\n",
       "      <td>1</td>\n",
       "      <td>M</td>\n",
       "      <td>пенсионер</td>\n",
       "      <td>0</td>\n",
       "      <td>NaN</td>\n",
       "      <td>сыграть свадьбу</td>\n",
       "    </tr>\n",
       "    <tr>\n",
       "      <th>13</th>\n",
       "      <td>0</td>\n",
       "      <td>-1846.641941</td>\n",
       "      <td>54</td>\n",
       "      <td>неоконченное высшее</td>\n",
       "      <td>2</td>\n",
       "      <td>женат / замужем</td>\n",
       "      <td>0</td>\n",
       "      <td>F</td>\n",
       "      <td>сотрудник</td>\n",
       "      <td>0</td>\n",
       "      <td>130458.228857</td>\n",
       "      <td>приобретение автомобиля</td>\n",
       "    </tr>\n",
       "    <tr>\n",
       "      <th>14</th>\n",
       "      <td>0</td>\n",
       "      <td>-1844.956182</td>\n",
       "      <td>56</td>\n",
       "      <td>высшее</td>\n",
       "      <td>0</td>\n",
       "      <td>гражданский брак</td>\n",
       "      <td>1</td>\n",
       "      <td>F</td>\n",
       "      <td>компаньон</td>\n",
       "      <td>1</td>\n",
       "      <td>165127.911772</td>\n",
       "      <td>покупка жилой недвижимости</td>\n",
       "    </tr>\n",
       "    <tr>\n",
       "      <th>15</th>\n",
       "      <td>1</td>\n",
       "      <td>-972.364419</td>\n",
       "      <td>26</td>\n",
       "      <td>среднее</td>\n",
       "      <td>1</td>\n",
       "      <td>женат / замужем</td>\n",
       "      <td>0</td>\n",
       "      <td>F</td>\n",
       "      <td>сотрудник</td>\n",
       "      <td>0</td>\n",
       "      <td>116820.904450</td>\n",
       "      <td>строительство собственной недвижимости</td>\n",
       "    </tr>\n",
       "    <tr>\n",
       "      <th>16</th>\n",
       "      <td>0</td>\n",
       "      <td>-1719.934226</td>\n",
       "      <td>35</td>\n",
       "      <td>среднее</td>\n",
       "      <td>1</td>\n",
       "      <td>женат / замужем</td>\n",
       "      <td>0</td>\n",
       "      <td>F</td>\n",
       "      <td>сотрудник</td>\n",
       "      <td>0</td>\n",
       "      <td>289202.704229</td>\n",
       "      <td>недвижимость</td>\n",
       "    </tr>\n",
       "    <tr>\n",
       "      <th>17</th>\n",
       "      <td>0</td>\n",
       "      <td>-2369.999720</td>\n",
       "      <td>33</td>\n",
       "      <td>высшее</td>\n",
       "      <td>0</td>\n",
       "      <td>гражданский брак</td>\n",
       "      <td>1</td>\n",
       "      <td>M</td>\n",
       "      <td>сотрудник</td>\n",
       "      <td>0</td>\n",
       "      <td>90410.586745</td>\n",
       "      <td>строительство недвижимости</td>\n",
       "    </tr>\n",
       "    <tr>\n",
       "      <th>18</th>\n",
       "      <td>0</td>\n",
       "      <td>400281.136913</td>\n",
       "      <td>53</td>\n",
       "      <td>среднее</td>\n",
       "      <td>1</td>\n",
       "      <td>вдовец / вдова</td>\n",
       "      <td>2</td>\n",
       "      <td>F</td>\n",
       "      <td>пенсионер</td>\n",
       "      <td>0</td>\n",
       "      <td>56823.777243</td>\n",
       "      <td>на покупку подержанного автомобиля</td>\n",
       "    </tr>\n",
       "    <tr>\n",
       "      <th>19</th>\n",
       "      <td>0</td>\n",
       "      <td>-10038.818549</td>\n",
       "      <td>48</td>\n",
       "      <td>СРЕДНЕЕ</td>\n",
       "      <td>1</td>\n",
       "      <td>в разводе</td>\n",
       "      <td>3</td>\n",
       "      <td>F</td>\n",
       "      <td>сотрудник</td>\n",
       "      <td>0</td>\n",
       "      <td>242831.107982</td>\n",
       "      <td>на покупку своего автомобиля</td>\n",
       "    </tr>\n",
       "  </tbody>\n",
       "</table>\n",
       "</div>"
      ],
      "text/plain": [
       "    children  days_employed  dob_years            education  education_id  \\\n",
       "0          1   -8437.673028         42               высшее             0   \n",
       "1          1   -4024.803754         36              среднее             1   \n",
       "2          0   -5623.422610         33              Среднее             1   \n",
       "3          3   -4124.747207         32              среднее             1   \n",
       "4          0  340266.072047         53              среднее             1   \n",
       "5          0    -926.185831         27               высшее             0   \n",
       "6          0   -2879.202052         43               высшее             0   \n",
       "7          0    -152.779569         50              СРЕДНЕЕ             1   \n",
       "8          2   -6929.865299         35               ВЫСШЕЕ             0   \n",
       "9          0   -2188.756445         41              среднее             1   \n",
       "10         2   -4171.483647         36               высшее             0   \n",
       "11         0    -792.701887         40              среднее             1   \n",
       "12         0            NaN         65              среднее             1   \n",
       "13         0   -1846.641941         54  неоконченное высшее             2   \n",
       "14         0   -1844.956182         56               высшее             0   \n",
       "15         1    -972.364419         26              среднее             1   \n",
       "16         0   -1719.934226         35              среднее             1   \n",
       "17         0   -2369.999720         33               высшее             0   \n",
       "18         0  400281.136913         53              среднее             1   \n",
       "19         0  -10038.818549         48              СРЕДНЕЕ             1   \n",
       "\n",
       "       family_status  family_status_id gender income_type  debt  \\\n",
       "0    женат / замужем                 0      F   сотрудник     0   \n",
       "1    женат / замужем                 0      F   сотрудник     0   \n",
       "2    женат / замужем                 0      M   сотрудник     0   \n",
       "3    женат / замужем                 0      M   сотрудник     0   \n",
       "4   гражданский брак                 1      F   пенсионер     0   \n",
       "5   гражданский брак                 1      M   компаньон     0   \n",
       "6    женат / замужем                 0      F   компаньон     0   \n",
       "7    женат / замужем                 0      M   сотрудник     0   \n",
       "8   гражданский брак                 1      F   сотрудник     0   \n",
       "9    женат / замужем                 0      M   сотрудник     0   \n",
       "10   женат / замужем                 0      M   компаньон     0   \n",
       "11   женат / замужем                 0      F   сотрудник     0   \n",
       "12  гражданский брак                 1      M   пенсионер     0   \n",
       "13   женат / замужем                 0      F   сотрудник     0   \n",
       "14  гражданский брак                 1      F   компаньон     1   \n",
       "15   женат / замужем                 0      F   сотрудник     0   \n",
       "16   женат / замужем                 0      F   сотрудник     0   \n",
       "17  гражданский брак                 1      M   сотрудник     0   \n",
       "18    вдовец / вдова                 2      F   пенсионер     0   \n",
       "19         в разводе                 3      F   сотрудник     0   \n",
       "\n",
       "     total_income                                 purpose  \n",
       "0   253875.639453                           покупка жилья  \n",
       "1   112080.014102                 приобретение автомобиля  \n",
       "2   145885.952297                           покупка жилья  \n",
       "3   267628.550329              дополнительное образование  \n",
       "4   158616.077870                         сыграть свадьбу  \n",
       "5   255763.565419                           покупка жилья  \n",
       "6   240525.971920                       операции с жильем  \n",
       "7   135823.934197                             образование  \n",
       "8    95856.832424                   на проведение свадьбы  \n",
       "9   144425.938277                 покупка жилья для семьи  \n",
       "10  113943.491460                    покупка недвижимости  \n",
       "11   77069.234271       покупка коммерческой недвижимости  \n",
       "12            NaN                         сыграть свадьбу  \n",
       "13  130458.228857                 приобретение автомобиля  \n",
       "14  165127.911772              покупка жилой недвижимости  \n",
       "15  116820.904450  строительство собственной недвижимости  \n",
       "16  289202.704229                            недвижимость  \n",
       "17   90410.586745              строительство недвижимости  \n",
       "18   56823.777243      на покупку подержанного автомобиля  \n",
       "19  242831.107982            на покупку своего автомобиля  "
      ]
     },
     "execution_count": 2,
     "metadata": {},
     "output_type": "execute_result"
    }
   ],
   "source": [
    "data.head(20)"
   ]
  },
  {
   "cell_type": "markdown",
   "id": "ffa7c452",
   "metadata": {
    "deletable": false,
    "editable": false,
    "id": "1c12e233"
   },
   "source": [
    "**Задание 3. Выведите основную информацию о датафрейме с помощью метода `info()`.**"
   ]
  },
  {
   "cell_type": "code",
   "execution_count": 3,
   "id": "b22fd9c4",
   "metadata": {
    "deletable": false,
    "id": "2b757bca",
    "outputId": "15376089-8dad-46c9-b520-c05248d43158"
   },
   "outputs": [
    {
     "name": "stdout",
     "output_type": "stream",
     "text": [
      "<class 'pandas.core.frame.DataFrame'>\n",
      "RangeIndex: 21525 entries, 0 to 21524\n",
      "Data columns (total 12 columns):\n",
      " #   Column            Non-Null Count  Dtype  \n",
      "---  ------            --------------  -----  \n",
      " 0   children          21525 non-null  int64  \n",
      " 1   days_employed     19351 non-null  float64\n",
      " 2   dob_years         21525 non-null  int64  \n",
      " 3   education         21525 non-null  object \n",
      " 4   education_id      21525 non-null  int64  \n",
      " 5   family_status     21525 non-null  object \n",
      " 6   family_status_id  21525 non-null  int64  \n",
      " 7   gender            21525 non-null  object \n",
      " 8   income_type       21525 non-null  object \n",
      " 9   debt              21525 non-null  int64  \n",
      " 10  total_income      19351 non-null  float64\n",
      " 11  purpose           21525 non-null  object \n",
      "dtypes: float64(2), int64(5), object(5)\n",
      "memory usage: 2.0+ MB\n"
     ]
    }
   ],
   "source": [
    "data.info()"
   ]
  },
  {
   "cell_type": "markdown",
   "id": "04c258c1",
   "metadata": {
    "deletable": false,
    "editable": false,
    "id": "333ec665"
   },
   "source": [
    "## Предобработка данных"
   ]
  },
  {
   "cell_type": "markdown",
   "id": "a8335694",
   "metadata": {
    "deletable": false,
    "editable": false,
    "id": "02d92d53"
   },
   "source": [
    "### Удаление пропусков"
   ]
  },
  {
   "cell_type": "markdown",
   "id": "e0b93588",
   "metadata": {
    "deletable": false,
    "editable": false,
    "id": "cd84967c"
   },
   "source": [
    "**Задание 4. Выведите количество пропущенных значений для каждого столбца. Используйте комбинацию двух методов.**"
   ]
  },
  {
   "cell_type": "code",
   "execution_count": 4,
   "id": "a6781222",
   "metadata": {
    "deletable": false,
    "id": "7f9b2309",
    "outputId": "81f4d817-781c-465c-ed15-91ce4446810d"
   },
   "outputs": [
    {
     "data": {
      "text/plain": [
       "children               0\n",
       "days_employed       2174\n",
       "dob_years              0\n",
       "education              0\n",
       "education_id           0\n",
       "family_status          0\n",
       "family_status_id       0\n",
       "gender                 0\n",
       "income_type            0\n",
       "debt                   0\n",
       "total_income        2174\n",
       "purpose                0\n",
       "dtype: int64"
      ]
     },
     "execution_count": 4,
     "metadata": {},
     "output_type": "execute_result"
    }
   ],
   "source": [
    "data.isna().sum()"
   ]
  },
  {
   "cell_type": "markdown",
   "id": "0dba922d",
   "metadata": {
    "deletable": false,
    "editable": false,
    "id": "db86e27b"
   },
   "source": [
    "**Задание 5. В двух столбцах есть пропущенные значения. Один из них — `days_employed`. Пропуски в этом столбце вы обработаете на следующем этапе. Другой столбец с пропущенными значениями — `total_income` — хранит данные о доходах. На сумму дохода сильнее всего влияет тип занятости, поэтому заполнить пропуски в этом столбце нужно медианным значением по каждому типу из столбца `income_type`. Например, у человека с типом занятости `сотрудник` пропуск в столбце `total_income` должен быть заполнен медианным доходом среди всех записей с тем же типом.**"
   ]
  },
  {
   "cell_type": "code",
   "execution_count": 5,
   "id": "e930d71f",
   "metadata": {
    "deletable": false,
    "id": "42006a93"
   },
   "outputs": [],
   "source": [
    "for t in data['income_type'].unique():\n",
    "    data.loc[(data['income_type'] == t) & (data['total_income'].isna()), 'total_income'] = \\\n",
    "    data.loc[(data['income_type'] == t), 'total_income'].median()"
   ]
  },
  {
   "cell_type": "markdown",
   "id": "bccca602",
   "metadata": {
    "deletable": false,
    "editable": false,
    "id": "89da5ece"
   },
   "source": [
    "### Обработка аномальных значений"
   ]
  },
  {
   "cell_type": "markdown",
   "id": "54cb09df",
   "metadata": {
    "deletable": false,
    "editable": false,
    "id": "57964554"
   },
   "source": [
    "**Задание 6. В данных могут встречаться артефакты (аномалии) — значения, которые не отражают действительность и появились по какой-то ошибке. таким артефактом будет отрицательное количество дней трудового стажа в столбце `days_employed`. Для реальных данных это нормально. Обработайте значения в этом столбце: замените все отрицательные значения положительными с помощью метода `abs()`.**"
   ]
  },
  {
   "cell_type": "code",
   "execution_count": 6,
   "id": "d7cbe101",
   "metadata": {
    "deletable": false,
    "id": "f6f055bf"
   },
   "outputs": [],
   "source": [
    "data['days_employed'] = data['days_employed'].abs()"
   ]
  },
  {
   "cell_type": "markdown",
   "id": "9d1b7c25",
   "metadata": {
    "deletable": false,
    "editable": false,
    "id": "6107dd2f"
   },
   "source": [
    "**Задание 7. Для каждого типа занятости выведите медианное значение трудового стажа `days_employed` в днях.**"
   ]
  },
  {
   "cell_type": "code",
   "execution_count": 7,
   "id": "7a73e69e",
   "metadata": {
    "deletable": false,
    "id": "85a5faf6",
    "outputId": "801ef80e-522b-4668-f34e-565af7432bcf"
   },
   "outputs": [
    {
     "data": {
      "text/plain": [
       "income_type\n",
       "безработный        366413.652744\n",
       "в декрете            3296.759962\n",
       "госслужащий          2689.368353\n",
       "компаньон            1547.382223\n",
       "пенсионер          365213.306266\n",
       "предприниматель       520.848083\n",
       "сотрудник            1574.202821\n",
       "студент               578.751554\n",
       "Name: days_employed, dtype: float64"
      ]
     },
     "execution_count": 7,
     "metadata": {},
     "output_type": "execute_result"
    }
   ],
   "source": [
    "data.groupby('income_type')['days_employed'].agg('median')"
   ]
  },
  {
   "cell_type": "markdown",
   "id": "4afb09b5",
   "metadata": {
    "deletable": false,
    "editable": false,
    "id": "38d1a030"
   },
   "source": [
    "У двух типов (безработные и пенсионеры) получатся аномально большие значения. Исправить такие значения сложно, поэтому оставьте их как есть. Тем более этот столбец не понадобится вам для исследования."
   ]
  },
  {
   "cell_type": "markdown",
   "id": "56190606",
   "metadata": {
    "deletable": false,
    "editable": false,
    "id": "d8a9f147"
   },
   "source": [
    "**Задание 8. Выведите перечень уникальных значений столбца `children`.**"
   ]
  },
  {
   "cell_type": "code",
   "execution_count": 8,
   "id": "1ae02a75",
   "metadata": {
    "deletable": false,
    "id": "ef5056eb",
    "outputId": "6975b15c-7f95-4697-d16d-a0c79b657b03"
   },
   "outputs": [
    {
     "data": {
      "text/plain": [
       "array([ 1,  0,  3,  2, -1,  4, 20,  5])"
      ]
     },
     "execution_count": 8,
     "metadata": {},
     "output_type": "execute_result"
    }
   ],
   "source": [
    "data['children'].unique()"
   ]
  },
  {
   "cell_type": "markdown",
   "id": "8e36b793",
   "metadata": {
    "deletable": false,
    "editable": false,
    "id": "40b9ebf2"
   },
   "source": [
    "**Задание 9. В столбце `children` есть два аномальных значения. Удалите строки, в которых встречаются такие аномальные значения из датафрейма `data`.**"
   ]
  },
  {
   "cell_type": "code",
   "execution_count": 9,
   "id": "b42ddec7",
   "metadata": {
    "deletable": false,
    "id": "3ff9801d"
   },
   "outputs": [],
   "source": [
    "data = data[(data['children'] != -1) & (data['children'] != 20)]"
   ]
  },
  {
   "cell_type": "markdown",
   "id": "507c4b48",
   "metadata": {
    "deletable": false,
    "editable": false,
    "id": "bbc4d0ce"
   },
   "source": [
    "**Задание 10. Ещё раз выведите перечень уникальных значений столбца `children`, чтобы убедиться, что артефакты удалены.**"
   ]
  },
  {
   "cell_type": "code",
   "execution_count": 10,
   "id": "a4cad6d1",
   "metadata": {
    "deletable": false,
    "id": "ad4fa8b7",
    "outputId": "b2097101-d49d-44d9-901b-32a65c9463d1"
   },
   "outputs": [
    {
     "data": {
      "text/plain": [
       "array([1, 0, 3, 2, 4, 5])"
      ]
     },
     "execution_count": 10,
     "metadata": {},
     "output_type": "execute_result"
    }
   ],
   "source": [
    "data['children'].unique()"
   ]
  },
  {
   "cell_type": "markdown",
   "id": "a65bba0a",
   "metadata": {
    "deletable": false,
    "editable": false,
    "id": "75440b63"
   },
   "source": [
    "### Удаление пропусков (продолжение)"
   ]
  },
  {
   "cell_type": "markdown",
   "id": "83b8fd78",
   "metadata": {
    "deletable": false,
    "editable": false,
    "id": "f4ea573f"
   },
   "source": [
    "**Задание 11. Заполните пропуски в столбце `days_employed` медианными значениями по каждого типа занятости `income_type`.**"
   ]
  },
  {
   "cell_type": "code",
   "execution_count": 11,
   "id": "6dd09e11",
   "metadata": {
    "deletable": false,
    "id": "af6b1a7e"
   },
   "outputs": [],
   "source": [
    "for t in data['income_type'].unique():\n",
    "    data.loc[(data['income_type'] == t) & (data['days_employed'].isna()), 'days_employed'] = \\\n",
    "    data.loc[(data['income_type'] == t), 'days_employed'].median()"
   ]
  },
  {
   "cell_type": "markdown",
   "id": "8f29d0f2",
   "metadata": {
    "deletable": false,
    "editable": false,
    "id": "2753f40d"
   },
   "source": [
    "**Задание 12. Убедитесь, что все пропуски заполнены. Проверьте себя и ещё раз выведите количество пропущенных значений для каждого столбца с помощью двух методов.**"
   ]
  },
  {
   "cell_type": "code",
   "execution_count": 12,
   "id": "f7a2fac9",
   "metadata": {
    "deletable": false,
    "id": "55f78bc2",
    "outputId": "8da1e4e1-358e-4e87-98c9-f261bce0a7b2"
   },
   "outputs": [
    {
     "data": {
      "text/plain": [
       "children            0\n",
       "days_employed       0\n",
       "dob_years           0\n",
       "education           0\n",
       "education_id        0\n",
       "family_status       0\n",
       "family_status_id    0\n",
       "gender              0\n",
       "income_type         0\n",
       "debt                0\n",
       "total_income        0\n",
       "purpose             0\n",
       "dtype: int64"
      ]
     },
     "execution_count": 12,
     "metadata": {},
     "output_type": "execute_result"
    }
   ],
   "source": [
    "data.isna().sum()"
   ]
  },
  {
   "cell_type": "markdown",
   "id": "635cbf92",
   "metadata": {
    "deletable": false,
    "editable": false,
    "id": "ddc81e43"
   },
   "source": [
    "### Изменение типов данных"
   ]
  },
  {
   "cell_type": "markdown",
   "id": "0ae55b85",
   "metadata": {
    "deletable": false,
    "editable": false,
    "id": "42d19d24"
   },
   "source": [
    "**Задание 13. Замените вещественный тип данных в столбце `total_income` на целочисленный с помощью метода `astype()`.**"
   ]
  },
  {
   "cell_type": "code",
   "execution_count": 13,
   "id": "f7ce13cd",
   "metadata": {
    "deletable": false,
    "id": "920b65ad"
   },
   "outputs": [],
   "source": [
    "data['total_income'] = data['total_income'].astype(int)"
   ]
  },
  {
   "cell_type": "markdown",
   "id": "eb10d12a",
   "metadata": {
    "deletable": false,
    "editable": false,
    "id": "80c420ba"
   },
   "source": [
    "### Обработка дубликатов"
   ]
  },
  {
   "cell_type": "markdown",
   "id": "cba8c705",
   "metadata": {
    "deletable": false,
    "editable": false
   },
   "source": [
    "**Задание 14. Обработайте неявные дубликаты в столбце `education`. В этом столбце есть одни и те же значения, но записанные по-разному: с использованием заглавных и строчных букв. Приведите их к нижнему регистру. Проверьте остальные столбцы.**"
   ]
  },
  {
   "cell_type": "code",
   "execution_count": 14,
   "id": "33c5664d",
   "metadata": {
    "deletable": false
   },
   "outputs": [],
   "source": [
    "data['education'] = data['education'].str.lower()"
   ]
  },
  {
   "cell_type": "markdown",
   "id": "12f8c127",
   "metadata": {
    "deletable": false,
    "editable": false,
    "id": "dc587695"
   },
   "source": [
    "**Задание 15. Выведите на экран количество строк-дубликатов в данных. Если такие строки присутствуют, удалите их.**"
   ]
  },
  {
   "cell_type": "code",
   "execution_count": 15,
   "id": "f4f641a1",
   "metadata": {
    "deletable": false,
    "id": "3ee445e4",
    "outputId": "9684deba-1934-42d1-99e1-cda61740f822"
   },
   "outputs": [
    {
     "data": {
      "text/plain": [
       "71"
      ]
     },
     "execution_count": 15,
     "metadata": {},
     "output_type": "execute_result"
    }
   ],
   "source": [
    "data.duplicated().sum()"
   ]
  },
  {
   "cell_type": "code",
   "execution_count": 16,
   "id": "ab22ccdb",
   "metadata": {
    "deletable": false,
    "id": "8575fe05"
   },
   "outputs": [],
   "source": [
    "data = data.drop_duplicates()"
   ]
  },
  {
   "cell_type": "markdown",
   "id": "655754b9",
   "metadata": {
    "deletable": false,
    "editable": false,
    "id": "9904cf55"
   },
   "source": [
    "### Категоризация данных"
   ]
  },
  {
   "cell_type": "markdown",
   "id": "ec54b6e4",
   "metadata": {
    "deletable": false,
    "editable": false,
    "id": "72fcc8a2"
   },
   "source": [
    "**Задание 16. На основании диапазонов, указанных ниже, создайте в датафрейме `data` столбец `total_income_category` с категориями:**\n",
    "\n",
    "- 0–30000 — `'E'`;\n",
    "- 30001–50000 — `'D'`;\n",
    "- 50001–200000 — `'C'`;\n",
    "- 200001–1000000 — `'B'`;\n",
    "- 1000001 и выше — `'A'`.\n",
    "\n",
    "\n",
    "**Например, кредитополучателю с доходом 25000 нужно назначить категорию `'E'`, а клиенту, получающему 235000, — `'B'`. Используйте собственную функцию с именем `categorize_income()` и метод `apply()`.**"
   ]
  },
  {
   "cell_type": "code",
   "execution_count": 17,
   "id": "3e7dfcc1",
   "metadata": {
    "deletable": false,
    "id": "e1771346"
   },
   "outputs": [],
   "source": [
    "def categorize_income(income):\n",
    "    try:\n",
    "        if 0 <= income <= 30000:\n",
    "            return 'E'\n",
    "        elif 30001 <= income <= 50000:\n",
    "            return 'D'\n",
    "        elif 50001 <= income <= 200000:\n",
    "            return 'C'\n",
    "        elif 200001 <= income <= 1000000:\n",
    "            return 'B'\n",
    "        elif income >= 1000001:\n",
    "            return 'A'\n",
    "    except:\n",
    "        pass"
   ]
  },
  {
   "cell_type": "code",
   "execution_count": 18,
   "id": "5cbac332",
   "metadata": {
    "deletable": false,
    "id": "d5f3586d"
   },
   "outputs": [],
   "source": [
    "data['total_income_category'] = data['total_income'].apply(categorize_income)"
   ]
  },
  {
   "cell_type": "markdown",
   "id": "dbfdb09c",
   "metadata": {
    "deletable": false,
    "editable": false,
    "id": "dde49b5c"
   },
   "source": [
    "**Задание 17. Выведите на экран перечень уникальных целей взятия кредита из столбца `purpose`.**"
   ]
  },
  {
   "cell_type": "code",
   "execution_count": 19,
   "id": "6882eff5",
   "metadata": {
    "deletable": false,
    "id": "f67ce9b3",
    "outputId": "673c12d9-7d7e-4ae0-9812-c622c89dd244"
   },
   "outputs": [
    {
     "data": {
      "text/plain": [
       "array(['покупка жилья', 'приобретение автомобиля',\n",
       "       'дополнительное образование', 'сыграть свадьбу',\n",
       "       'операции с жильем', 'образование', 'на проведение свадьбы',\n",
       "       'покупка жилья для семьи', 'покупка недвижимости',\n",
       "       'покупка коммерческой недвижимости', 'покупка жилой недвижимости',\n",
       "       'строительство собственной недвижимости', 'недвижимость',\n",
       "       'строительство недвижимости', 'на покупку подержанного автомобиля',\n",
       "       'на покупку своего автомобиля',\n",
       "       'операции с коммерческой недвижимостью',\n",
       "       'строительство жилой недвижимости', 'жилье',\n",
       "       'операции со своей недвижимостью', 'автомобили',\n",
       "       'заняться образованием', 'сделка с подержанным автомобилем',\n",
       "       'получение образования', 'автомобиль', 'свадьба',\n",
       "       'получение дополнительного образования', 'покупка своего жилья',\n",
       "       'операции с недвижимостью', 'получение высшего образования',\n",
       "       'свой автомобиль', 'сделка с автомобилем',\n",
       "       'профильное образование', 'высшее образование',\n",
       "       'покупка жилья для сдачи', 'на покупку автомобиля', 'ремонт жилью',\n",
       "       'заняться высшим образованием'], dtype=object)"
      ]
     },
     "execution_count": 19,
     "metadata": {},
     "output_type": "execute_result"
    }
   ],
   "source": [
    "data['purpose'].unique()"
   ]
  },
  {
   "cell_type": "markdown",
   "id": "e4175dee",
   "metadata": {
    "deletable": false,
    "editable": false,
    "id": "85d0aef0"
   },
   "source": [
    "**Задание 18. Создайте функцию, которая на основании данных из столбца `purpose` сформирует новый столбец `purpose_category`, в который войдут следующие категории:**\n",
    "\n",
    "- `'операции с автомобилем'`,\n",
    "- `'операции с недвижимостью'`,\n",
    "- `'проведение свадьбы'`,\n",
    "- `'получение образования'`.\n",
    "\n",
    "**Например, если в столбце `purpose` находится подстрока `'на покупку автомобиля'`, то в столбце `purpose_category` должна появиться строка `'операции с автомобилем'`.**\n",
    "\n",
    "**Используйте собственную функцию с именем `categorize_purpose()` и метод `apply()`. Изучите данные в столбце `purpose` и определите, какие подстроки помогут вам правильно определить категорию.**"
   ]
  },
  {
   "cell_type": "code",
   "execution_count": 20,
   "id": "b4204b0d",
   "metadata": {
    "deletable": false,
    "id": "e149fab4"
   },
   "outputs": [],
   "source": [
    "def categorize_purpose(row):\n",
    "    try:\n",
    "        if 'автом' in row:\n",
    "            return 'операции с автомобилем'\n",
    "        elif 'жил' in row or 'недвиж' in row:\n",
    "            return 'операции с недвижимостью'\n",
    "        elif 'свад' in row:\n",
    "            return 'проведение свадьбы'\n",
    "        elif 'образов' in row:\n",
    "            return 'получение образования'\n",
    "    except:\n",
    "        return 'нет категории'"
   ]
  },
  {
   "cell_type": "code",
   "execution_count": 21,
   "id": "e1f9c3e3",
   "metadata": {
    "deletable": false,
    "id": "bf36e69b"
   },
   "outputs": [],
   "source": [
    "data['purpose_category'] = data['purpose'].apply(categorize_purpose)"
   ]
  },
  {
   "cell_type": "markdown",
   "id": "f933c682",
   "metadata": {
    "deletable": false,
    "editable": false,
    "id": "09b242bf"
   },
   "source": [
    "### Шаг 3. Исследуйте данные и ответьте на вопросы"
   ]
  },
  {
   "cell_type": "markdown",
   "id": "9e972a38",
   "metadata": {
    "deletable": false,
    "editable": false,
    "id": "c5d66278"
   },
   "source": [
    "#### 3.1 Есть ли зависимость между количеством детей и возвратом кредита в срок?"
   ]
  },
  {
   "cell_type": "code",
   "execution_count": 22,
   "id": "55286488",
   "metadata": {
    "deletable": false,
    "id": "2cacfc4a"
   },
   "outputs": [
    {
     "name": "stdout",
     "output_type": "stream",
     "text": [
      "Оценка репрезентативности выборки:\n",
      " children\n",
      "0    14091\n",
      "1     4808\n",
      "2     2052\n",
      "3      330\n",
      "4       41\n",
      "5        9\n",
      "Name: debt, dtype: int64\n",
      "\n",
      "Доля людей, не погасивших кредит в срок:\n",
      " children\n",
      "5    0.0%\n",
      "0    7.5%\n",
      "3    8.2%\n",
      "1    9.2%\n",
      "2    9.5%\n",
      "4    9.8%\n",
      "Name: debt, dtype: object\n",
      "AxesSubplot(0.125,0.125;0.775x0.755)\n"
     ]
    },
    {
     "data": {
      "image/png": "[encoded data removed]",
      "text/plain": [
       "<Figure size 720x504 with 1 Axes>"
      ]
     },
     "metadata": {},
     "output_type": "display_data"
    }
   ],
   "source": [
    "print(f\"Оценка репрезентативности выборки:\\n {data.groupby('children')['debt'].count()}\")\n",
    "print()\n",
    "print(f\"Доля людей, не погасивших кредит в срок:\\n \\\n",
    "{data.groupby('children')['debt'].mean().sort_values().apply('{:.1%}'.format)}\")\n",
    "seaborn.set(rc={'figure.figsize':(10, 7)})\n",
    "print(seaborn.barplot(data = data, x = 'children', y = 'debt'))\n",
    "\n",
    "# Ваш код будет здесь. Вы можете создавать новые ячейки."
   ]
  },
  {
   "cell_type": "markdown",
   "id": "2667049c",
   "metadata": {
    "deletable": false,
    "id": "3a6b99ec"
   },
   "source": [
    "**Вывод:** \n",
    "При наличии детей нет прямой зависимости возвратом кредита в срок от их количества *(при наличии от 1 до 4 детей проблемы с соблюдением сроков возникают примерно у 9% людей).* Погашение кредита в срок в 100% случаев у заемщиков с 5 детьми  объясняется малой выборкой *(всего 9 строк).* С уверенностью можно сделать вывод о том, что у заемщиков без детей реже происходит просрочка по кредиту, нежели у заемщиков с детьми *(вероятоно, это связано с тем, что из-за детей чаще возникают непредвиденные расходы)*."
   ]
  },
  {
   "cell_type": "markdown",
   "id": "3d4f25b0",
   "metadata": {},
   "source": [
    "\n",
    "<div class=\"alert alert-success\">\n",
    "<b>Комментарий ревьюера:</b>☀️Да, согласна с тобой</div>\n"
   ]
  },
  {
   "cell_type": "markdown",
   "id": "024bb1f5",
   "metadata": {
    "deletable": false,
    "editable": false,
    "id": "97be82ca"
   },
   "source": [
    "#### 3.2 Есть ли зависимость между семейным положением и возвратом кредита в срок?"
   ]
  },
  {
   "cell_type": "code",
   "execution_count": 23,
   "id": "bb4468e3",
   "metadata": {
    "deletable": false,
    "id": "dc3f7ee8"
   },
   "outputs": [
    {
     "name": "stdout",
     "output_type": "stream",
     "text": [
      "Оценка репрезентативности выборки:\n",
      " family_status\n",
      "Не женат / не замужем     2796\n",
      "в разводе                 1189\n",
      "вдовец / вдова             951\n",
      "гражданский брак          4134\n",
      "женат / замужем          12261\n",
      "Name: debt, dtype: int64\n",
      "\n",
      "Доля людей, не погасивших кредит в срок:\n",
      " family_status\n",
      "вдовец / вдова           6.6%\n",
      "в разводе                7.1%\n",
      "женат / замужем          7.6%\n",
      "гражданский брак         9.3%\n",
      "Не женат / не замужем    9.8%\n",
      "Name: debt, dtype: object\n"
     ]
    },
    {
     "data": {
      "text/plain": [
       "<AxesSubplot:xlabel='family_status', ylabel='debt'>"
      ]
     },
     "execution_count": 23,
     "metadata": {},
     "output_type": "execute_result"
    },
    {
     "data": {
      "image/png": "[encoded data removed]",
      "text/plain": [
       "<Figure size 720x504 with 1 Axes>"
      ]
     },
     "metadata": {},
     "output_type": "display_data"
    }
   ],
   "source": [
    "print(f\"Оценка репрезентативности выборки:\\n {data.groupby('family_status')['debt'].count()}\")\n",
    "print()\n",
    "print(f\"Доля людей, не погасивших кредит в срок:\\n \\\n",
    "{data.groupby('family_status')['debt'].mean().sort_values().apply('{:.1%}'.format)}\")\n",
    "seaborn.set(rc={'figure.figsize':(10, 7)})\n",
    "seaborn.barplot(data = data, x = 'family_status', y = 'debt')\n",
    "\n",
    "# Ваш код будет здесь. Вы можете создавать новые ячейки."
   ]
  },
  {
   "cell_type": "markdown",
   "id": "952d3917",
   "metadata": {
    "deletable": false,
    "id": "1cef7837"
   },
   "source": [
    "**Вывод:** \n",
    "Зависимость между семейным положением и возвратом кредита в срок прослеживается более явно. Заемщики, заключавшие брак *(находящиеся в браке, разведенные или овдовевшие)*, чаще возвращают кредит в срок, нежели люди никогда не вступавшие в брак *(в т.ч. находящиеся в гражданском браке)*. Судя по всему решение о вступлении в брак говорит не только об ответственности к взрослой семейной жизни, но и об ответсвенности как кредитополучателя."
   ]
  },
  {
   "cell_type": "markdown",
   "id": "fcad1916",
   "metadata": {},
   "source": [
    "\n",
    "<div class=\"alert alert-success\">\n",
    "<b>Комментарий ревьюера:</b>☀️Все точно так</div>\n"
   ]
  },
  {
   "cell_type": "markdown",
   "id": "bf2e5935",
   "metadata": {
    "deletable": false,
    "editable": false,
    "id": "1e8b2fca"
   },
   "source": [
    "#### 3.3 Есть ли зависимость между уровнем дохода и возвратом кредита в срок?"
   ]
  },
  {
   "cell_type": "code",
   "execution_count": 24,
   "id": "5d6779a3",
   "metadata": {
    "deletable": false,
    "id": "cd7e3720"
   },
   "outputs": [
    {
     "name": "stdout",
     "output_type": "stream",
     "text": [
      "Оценка репрезентативности выборки:\n",
      " total_income_category\n",
      "A       25\n",
      "B     5014\n",
      "C    15921\n",
      "D      349\n",
      "E       22\n",
      "Name: debt, dtype: int64\n",
      "\n",
      "Доля людей, не погасивших кредит в срок:\n",
      " total_income_category\n",
      "D    6.0%\n",
      "B    7.1%\n",
      "A    8.0%\n",
      "C    8.5%\n",
      "E    9.1%\n",
      "Name: debt, dtype: object\n",
      "\n",
      "Категории: \n",
      "0–30000 — E \n",
      "30001–50000 — D \n",
      "50001–200000 — C \n",
      "200001–1000000 — B \n",
      "1000001 и выше — A\n"
     ]
    },
    {
     "data": {
      "image/png": "[encoded data removed]",
      "text/plain": [
       "<Figure size 720x504 with 1 Axes>"
      ]
     },
     "metadata": {},
     "output_type": "display_data"
    }
   ],
   "source": [
    "print(f\"Оценка репрезентативности выборки:\\n {data.groupby('total_income_category')['debt'].count()}\")\n",
    "print()\n",
    "print(f\"Доля людей, не погасивших кредит в срок:\\n \\\n",
    "{data.groupby('total_income_category')['debt'].mean().sort_values().apply('{:.1%}'.format)}\")\n",
    "seaborn.set(rc={'figure.figsize':(10, 7)})\n",
    "seaborn.barplot(data = data, x = 'total_income_category', y = 'debt', order = 'ABCDE')\n",
    "print()\n",
    "print('Категории: \\n0–30000 — E \\n30001–50000 — D \\n50001–200000 — C \\n200001–1000000 — B \\n1000001 и выше — A')"
   ]
  },
  {
   "cell_type": "markdown",
   "id": "d8a8d97a",
   "metadata": {
    "deletable": false,
    "id": "e8593def"
   },
   "source": [
    "**Вывод:** \n",
    "Судя по репрезентативности выборки, богачи *(заемщики, с доходом от 1 000 000)* и бедняки *(заемщики, с доходом до 30 000)* интересуют нас в меньшей степени *(т.к. первые реже нуждаются в кредитах, а вторым их реже выдают, либо же они сами понимают, что не смогут выплатить кредит и не стоит влезать в долги с их низким доходом)*. Заемщиков с доходом ниже средненго (от 30 000 до 50 000) сильно меньше, чем заемщиков со средним доходом *(от 50 000 до 200 000)* и доходом выше среднего *(от 200 000 до 1 000 000)*. Тем не менее, заемщики с доходом ниже среднего реже всего допускают просрочки по кредиту. Большим спросом пользуется у кредит у людей со средним достатком и выше, поэтому стоит присмотреться к ним повнимательнее. И по проведенному анализу можно сделать вывод о том, что более надежные кредитоплательщики люди с достатком выше среднего, нежели люди со средним доходом *(разница 1,4%, что в масштабах выборки довольно внушительно)*. А тем немногочисленным беднякам, которые все же взяли кредит, сложнее всего погасить свою задолженность в срок.\n"
   ]
  },
  {
   "cell_type": "markdown",
   "id": "81768235",
   "metadata": {},
   "source": [
    "\n",
    "<div class=\"alert alert-success\">\n",
    "<b>Комментарий ревьюера:</b>☀️Верно, можно еще процентаж отдельно посчитать для категорий В и С, т.к. они самые многочисленные по сравнению с остальными</div>\n"
   ]
  },
  {
   "cell_type": "markdown",
   "id": "1f49f962",
   "metadata": {},
   "source": [
    "<div class=\"alert alert-info\"> <b>Комментарий студента:</b> Не могу понять, отдельный процентаж для категорий В и С в чем? У категории В возникают просрочки в 7.1% случаев, у категории С в 8.5%, из чего мы делаем вывод, что категория В наиболее надежная для нас. Или о чем речь?"
   ]
  },
  {
   "cell_type": "markdown",
   "id": "1d01b2f8",
   "metadata": {
    "deletable": false,
    "editable": false,
    "id": "99ecbd1f"
   },
   "source": [
    "#### 3.4 Как разные цели кредита влияют на его возврат в срок?"
   ]
  },
  {
   "cell_type": "code",
   "execution_count": 25,
   "id": "0c1744de",
   "metadata": {
    "deletable": false,
    "id": "2b687290"
   },
   "outputs": [
    {
     "name": "stdout",
     "output_type": "stream",
     "text": [
      "Оценка репрезентативности выборки:\n",
      " purpose_category\n",
      "операции с автомобилем       4279\n",
      "операции с недвижимостью    10751\n",
      "получение образования        3988\n",
      "проведение свадьбы           2313\n",
      "Name: debt, dtype: int64\n",
      "\n",
      "Доля людей, не погасивших кредит в срок:\n",
      " purpose_category\n",
      "операции с недвижимостью    7.3%\n",
      "проведение свадьбы          7.9%\n",
      "получение образования       9.3%\n",
      "операции с автомобилем      9.3%\n",
      "Name: debt, dtype: object\n"
     ]
    },
    {
     "data": {
      "text/plain": [
       "<AxesSubplot:xlabel='purpose_category', ylabel='debt'>"
      ]
     },
     "execution_count": 25,
     "metadata": {},
     "output_type": "execute_result"
    },
    {
     "data": {
      "image/png": "[encoded data removed]",
      "text/plain": [
       "<Figure size 864x504 with 1 Axes>"
      ]
     },
     "metadata": {},
     "output_type": "display_data"
    }
   ],
   "source": [
    "print(f\"Оценка репрезентативности выборки:\\n {data.groupby('purpose_category')['debt'].count()}\")\n",
    "print()\n",
    "print(f\"Доля людей, не погасивших кредит в срок:\\n \\\n",
    "{data.groupby('purpose_category')['debt'].mean().sort_values().apply('{:.1%}'.format)}\")\n",
    "seaborn.set(rc={'figure.figsize':(12, 7)})\n",
    "seaborn.barplot(data = data, x = 'purpose_category', y = 'debt')\n",
    "\n"
   ]
  },
  {
   "cell_type": "markdown",
   "id": "c2b985ff",
   "metadata": {
    "deletable": false,
    "id": "b4bb2ce6"
   },
   "source": [
    "**Вывод:** \n",
    "Цель кредита также сказывается на его возврате в срок. Кредит на операции с недвижимостью и проведение свадьбы чаще вернут в срок, чем кредит на покупку автомобиля или получение образования. Скорее всего, это связано с тем, что кредиты на операции с недвижимостью берут довольно обдуманно и рассчитывая свою платежеспособность, а кредиты на свадьбы проще погасить в срок за счет свадебных подарков. Чего нельзя сказать о кредитах на операции с авто и на образование. Это, вероятно, связано с тем, что кредиты на образование чаще берут молодые люди, еще не обладающие большим доходом и достаточной финансовой грамотностью, а операции с автомобилем чаще вызывают еще массу непредвиденных расходов на свой транспорт. "
   ]
  },
  {
   "cell_type": "markdown",
   "id": "d83c52ad",
   "metadata": {},
   "source": [
    "\n",
    "<div class=\"alert alert-success\">\n",
    "<b>Комментарий ревьюера:</b>☀️Да, отлично. Спасибо за подробный вывод и анализ</div>\n"
   ]
  },
  {
   "cell_type": "markdown",
   "id": "2b845eeb",
   "metadata": {
    "deletable": false,
    "editable": false,
    "id": "09c3ac4c"
   },
   "source": [
    "#### 3.5 Приведите возможные причины появления пропусков в исходных данных."
   ]
  },
  {
   "cell_type": "markdown",
   "id": "abd4f597",
   "metadata": {
    "deletable": false,
    "id": "9da2ceda"
   },
   "source": [
    "*Ответ:* \n",
    "В исходных данных были пропуски в сведениях о доходах и трудовом стаже\n",
    "Это могло произойти по следующим причинам: клиент не захотел оставлять сведения о доходах, не мог вспомнить и посчитать свой трудовой стаж, доходов и стажа нет, поэтому оставили пропуск. Вероятно, при подаче заявки на сайте не стоят ограничения в полях для заполнения и можно оставить их пустыми (случайно или намеренно). \n",
    "Также данные могли пропасть из-за технических ошибок"
   ]
  },
  {
   "cell_type": "markdown",
   "id": "2983a63f",
   "metadata": {},
   "source": [
    "\n",
    "<div class=\"alert alert-success\">\n",
    "<b>Комментарий ревьюера:</b>☀️Да, пропуски могут быть обусловлены кривым запросом к БД или механикой сбора данных</div>\n"
   ]
  },
  {
   "cell_type": "markdown",
   "id": "0e24944c",
   "metadata": {
    "deletable": false,
    "editable": false,
    "id": "7b0487d6"
   },
   "source": [
    "#### 3.6 Объясните, почему заполнить пропуски медианным значением — лучшее решение для количественных переменных."
   ]
  },
  {
   "cell_type": "markdown",
   "id": "32e74622",
   "metadata": {
    "deletable": false,
    "id": "7ecf2b8e"
   },
   "source": [
    "*Ответ:* \n",
    "Медианное значение лучшее решение, т.к. дает более реалистичное значение, игнорируя аномальные значения. Сгруппировав данные по категориям мы смогли получить приближенные к жизни данные вместо пустых значений, не учитывая завышенные или заниженные показатели"
   ]
  },
  {
   "cell_type": "markdown",
   "id": "e5a98410",
   "metadata": {},
   "source": [
    "\n",
    "<div class=\"alert alert-success\">\n",
    "<b>Комментарий ревьюера:</b>☀️Абсолютно точно! Медиана наиболее устойчива к выбросам</div>\n"
   ]
  },
  {
   "cell_type": "markdown",
   "id": "65efde78",
   "metadata": {
    "deletable": false,
    "editable": false,
    "id": "6db5255a"
   },
   "source": [
    "### Шаг 4: общий вывод."
   ]
  },
  {
   "cell_type": "markdown",
   "id": "b8b375d7",
   "metadata": {
    "deletable": false,
    "id": "bad65432"
   },
   "source": [
    "В результате исследования видно, что цели кредита, доход кредитополучателя, его семейное положение и наличие детей влият на возврат кредита в срок. Исходя из сделанных ранее выводов можно точнее прогнозировать вероятность возвращения клиентом кредита в положенный срок в зависимости от вышеназванных факторов. Полученны выводы пригодятся для принятия решения об одобрении кредита, его суммы и процентной ставки. Идеальным клиентом для кредитного отдела является человек с доходом выше среднего, без детей, состоящий в браке *(или ранее был в нем)*, целью которого являются операции с недвижимостью. А при рассмотрении заявки на кредит от человека с минимальным доходом, далеким от брака и который только собирается получить образование, необходимо тщательно учитывать все риски невозвращения платежа в срок."
   ]
  },
  {
   "cell_type": "markdown",
   "id": "5ccc5a0c",
   "metadata": {},
   "source": [
    "\n",
    "<div class=\"alert alert-success\">\n",
    "<b>Комментарий ревьюера:</b>☀️Спасибо за подробный, содержательный общий вывод. </div>\n"
   ]
  },
  {
   "cell_type": "markdown",
   "id": "aad069fe",
   "metadata": {},
   "source": [
    "\n",
    "<div class=\"alert alert-success\">\n",
    "<b>Комментарий ревьюера:</b>☀️Вадим, у тебя отличный проект. Безукоризненный я бы сказала:) Отправляю его тебе, чтобы ты ознакомился с моими комментариями и оставил свои. Ты молодец!</div>\n"
   ]
  },
  {
   "cell_type": "markdown",
   "id": "38307549",
   "metadata": {},
   "source": [
    "<div class=\"alert alert-info\"> <b>Комментарий студента:</b> Спасибо за высокую оценку! "
   ]
  },
  {
   "cell_type": "markdown",
   "id": "48aa2d32",
   "metadata": {},
   "source": [
    "\n",
    "<div class=\"alert alert-success\">\n",
    "<b>Комментарий ревьюера v2.0:</b>☀️Все принято) </div>\n"
   ]
  }
 ],
 "metadata": {
  "ExecuteTimeLog": [
   {
    "duration": 68,
    "start_time": "2022-11-26T19:18:36.123Z"
   },
   {
    "duration": 506,
    "start_time": "2022-11-26T19:18:41.203Z"
   },
   {
    "duration": 23,
    "start_time": "2022-11-26T19:18:41.711Z"
   },
   {
    "duration": 15,
    "start_time": "2022-11-26T19:18:41.736Z"
   },
   {
    "duration": 11,
    "start_time": "2022-11-26T19:18:41.752Z"
   },
   {
    "duration": 64,
    "start_time": "2022-11-26T19:18:41.765Z"
   },
   {
    "duration": 4,
    "start_time": "2022-11-26T19:18:41.830Z"
   },
   {
    "duration": 15,
    "start_time": "2022-11-26T19:18:41.836Z"
   },
   {
    "duration": 4,
    "start_time": "2022-11-26T19:18:41.853Z"
   },
   {
    "duration": 37,
    "start_time": "2022-11-26T19:18:41.859Z"
   },
   {
    "duration": 6,
    "start_time": "2022-11-26T19:18:41.899Z"
   },
   {
    "duration": 48,
    "start_time": "2022-11-26T19:18:41.907Z"
   },
   {
    "duration": 10,
    "start_time": "2022-11-26T19:18:41.957Z"
   },
   {
    "duration": 10,
    "start_time": "2022-11-26T19:18:41.969Z"
   },
   {
    "duration": 18,
    "start_time": "2022-11-26T19:18:41.999Z"
   },
   {
    "duration": 20,
    "start_time": "2022-11-26T19:18:42.019Z"
   },
   {
    "duration": 17,
    "start_time": "2022-11-26T19:18:42.041Z"
   },
   {
    "duration": 3,
    "start_time": "2022-11-26T19:18:42.060Z"
   },
   {
    "duration": 40,
    "start_time": "2022-11-26T19:18:42.064Z"
   },
   {
    "duration": 13,
    "start_time": "2022-11-26T19:18:42.106Z"
   },
   {
    "duration": 5,
    "start_time": "2022-11-26T19:18:42.121Z"
   },
   {
    "duration": 17,
    "start_time": "2022-11-26T19:18:42.127Z"
   },
   {
    "duration": 8,
    "start_time": "2022-11-26T19:18:42.146Z"
   },
   {
    "duration": 8,
    "start_time": "2022-11-26T19:18:42.156Z"
   },
   {
    "duration": 4,
    "start_time": "2022-11-26T19:18:42.167Z"
   },
   {
    "duration": 25,
    "start_time": "2022-11-26T19:18:42.173Z"
   },
   {
    "duration": 6,
    "start_time": "2022-11-26T19:20:27.249Z"
   },
   {
    "duration": 30,
    "start_time": "2022-11-26T19:21:32.013Z"
   },
   {
    "duration": 6,
    "start_time": "2022-11-26T19:22:09.468Z"
   },
   {
    "duration": 17,
    "start_time": "2022-11-26T19:36:41.385Z"
   },
   {
    "duration": 7,
    "start_time": "2022-11-26T19:37:04.837Z"
   },
   {
    "duration": 1025,
    "start_time": "2022-11-26T19:45:33.270Z"
   },
   {
    "duration": 18,
    "start_time": "2022-11-26T19:45:34.297Z"
   },
   {
    "duration": 20,
    "start_time": "2022-11-26T19:45:34.316Z"
   },
   {
    "duration": 9,
    "start_time": "2022-11-26T19:45:34.338Z"
   },
   {
    "duration": 51,
    "start_time": "2022-11-26T19:45:34.349Z"
   },
   {
    "duration": 3,
    "start_time": "2022-11-26T19:45:34.402Z"
   },
   {
    "duration": 12,
    "start_time": "2022-11-26T19:45:34.406Z"
   },
   {
    "duration": 4,
    "start_time": "2022-11-26T19:45:34.419Z"
   },
   {
    "duration": 9,
    "start_time": "2022-11-26T19:45:34.425Z"
   },
   {
    "duration": 9,
    "start_time": "2022-11-26T19:45:34.436Z"
   },
   {
    "duration": 51,
    "start_time": "2022-11-26T19:45:34.446Z"
   },
   {
    "duration": 10,
    "start_time": "2022-11-26T19:45:34.499Z"
   },
   {
    "duration": 4,
    "start_time": "2022-11-26T19:45:34.510Z"
   },
   {
    "duration": 13,
    "start_time": "2022-11-26T19:45:34.516Z"
   },
   {
    "duration": 22,
    "start_time": "2022-11-26T19:45:34.531Z"
   },
   {
    "duration": 16,
    "start_time": "2022-11-26T19:45:34.555Z"
   },
   {
    "duration": 25,
    "start_time": "2022-11-26T19:45:34.572Z"
   },
   {
    "duration": 9,
    "start_time": "2022-11-26T19:45:34.598Z"
   },
   {
    "duration": 10,
    "start_time": "2022-11-26T19:45:34.609Z"
   },
   {
    "duration": 4,
    "start_time": "2022-11-26T19:45:34.620Z"
   },
   {
    "duration": 12,
    "start_time": "2022-11-26T19:45:34.626Z"
   },
   {
    "duration": 100,
    "start_time": "2022-11-26T19:45:34.639Z"
   },
   {
    "duration": 0,
    "start_time": "2022-11-26T19:45:34.741Z"
   },
   {
    "duration": 0,
    "start_time": "2022-11-26T19:45:34.742Z"
   },
   {
    "duration": 0,
    "start_time": "2022-11-26T19:45:34.743Z"
   },
   {
    "duration": 174,
    "start_time": "2022-11-26T19:45:43.168Z"
   },
   {
    "duration": 173,
    "start_time": "2022-11-26T19:46:40.522Z"
   },
   {
    "duration": 17,
    "start_time": "2022-11-26T19:46:46.201Z"
   },
   {
    "duration": 161,
    "start_time": "2022-11-26T19:46:52.319Z"
   },
   {
    "duration": 369,
    "start_time": "2022-11-26T19:47:36.486Z"
   },
   {
    "duration": 32,
    "start_time": "2022-11-26T19:47:54.224Z"
   },
   {
    "duration": 364,
    "start_time": "2022-11-26T19:48:09.366Z"
   },
   {
    "duration": 358,
    "start_time": "2022-11-26T19:48:42.093Z"
   },
   {
    "duration": 412,
    "start_time": "2022-11-26T19:54:04.744Z"
   },
   {
    "duration": 482,
    "start_time": "2022-11-26T19:54:41.877Z"
   },
   {
    "duration": 400,
    "start_time": "2022-11-26T19:54:51.681Z"
   },
   {
    "duration": 7,
    "start_time": "2022-11-26T19:55:39.676Z"
   },
   {
    "duration": 41,
    "start_time": "2022-11-26T19:56:17.414Z"
   },
   {
    "duration": 5,
    "start_time": "2022-11-26T19:56:22.351Z"
   },
   {
    "duration": 10,
    "start_time": "2022-11-26T19:56:37.695Z"
   },
   {
    "duration": 8,
    "start_time": "2022-11-26T19:57:02.483Z"
   },
   {
    "duration": 355,
    "start_time": "2022-11-26T19:57:10.625Z"
   },
   {
    "duration": 335,
    "start_time": "2022-11-26T19:58:41.421Z"
   },
   {
    "duration": 338,
    "start_time": "2022-11-26T19:59:57.335Z"
   },
   {
    "duration": 351,
    "start_time": "2022-11-26T20:00:52.131Z"
   },
   {
    "duration": 347,
    "start_time": "2022-11-26T20:00:58.771Z"
   },
   {
    "duration": 547,
    "start_time": "2022-11-26T20:05:29.616Z"
   },
   {
    "duration": 595,
    "start_time": "2022-11-26T20:10:29.836Z"
   },
   {
    "duration": 396,
    "start_time": "2022-11-26T20:10:43.016Z"
   },
   {
    "duration": 521,
    "start_time": "2022-11-26T20:10:56.055Z"
   },
   {
    "duration": 438,
    "start_time": "2022-11-26T20:10:59.924Z"
   },
   {
    "duration": 368,
    "start_time": "2022-11-26T20:11:12.258Z"
   },
   {
    "duration": 373,
    "start_time": "2022-11-26T20:11:17.686Z"
   },
   {
    "duration": 405,
    "start_time": "2022-11-26T20:11:24.584Z"
   },
   {
    "duration": 84,
    "start_time": "2022-11-26T20:12:05.194Z"
   },
   {
    "duration": 17,
    "start_time": "2022-11-26T20:12:05.280Z"
   },
   {
    "duration": 30,
    "start_time": "2022-11-26T20:12:05.299Z"
   },
   {
    "duration": 35,
    "start_time": "2022-11-26T20:12:05.331Z"
   },
   {
    "duration": 53,
    "start_time": "2022-11-26T20:12:05.368Z"
   },
   {
    "duration": 3,
    "start_time": "2022-11-26T20:12:05.423Z"
   },
   {
    "duration": 28,
    "start_time": "2022-11-26T20:12:05.427Z"
   },
   {
    "duration": 27,
    "start_time": "2022-11-26T20:12:05.456Z"
   },
   {
    "duration": 21,
    "start_time": "2022-11-26T20:12:05.484Z"
   },
   {
    "duration": 30,
    "start_time": "2022-11-26T20:12:05.506Z"
   },
   {
    "duration": 55,
    "start_time": "2022-11-26T20:12:05.538Z"
   },
   {
    "duration": 9,
    "start_time": "2022-11-26T20:12:05.595Z"
   },
   {
    "duration": 21,
    "start_time": "2022-11-26T20:12:05.605Z"
   },
   {
    "duration": 30,
    "start_time": "2022-11-26T20:12:05.628Z"
   },
   {
    "duration": 34,
    "start_time": "2022-11-26T20:12:05.659Z"
   },
   {
    "duration": 22,
    "start_time": "2022-11-26T20:12:05.695Z"
   },
   {
    "duration": 5,
    "start_time": "2022-11-26T20:12:05.718Z"
   },
   {
    "duration": 34,
    "start_time": "2022-11-26T20:12:05.724Z"
   },
   {
    "duration": 18,
    "start_time": "2022-11-26T20:12:05.760Z"
   },
   {
    "duration": 30,
    "start_time": "2022-11-26T20:12:05.779Z"
   },
   {
    "duration": 41,
    "start_time": "2022-11-26T20:12:05.811Z"
   },
   {
    "duration": 526,
    "start_time": "2022-11-26T20:12:05.854Z"
   },
   {
    "duration": 405,
    "start_time": "2022-11-26T20:12:06.382Z"
   },
   {
    "duration": 7,
    "start_time": "2022-11-26T20:12:06.789Z"
   },
   {
    "duration": 30,
    "start_time": "2022-11-26T20:12:06.798Z"
   },
   {
    "duration": 415,
    "start_time": "2022-11-26T20:12:55.343Z"
   },
   {
    "duration": 42,
    "start_time": "2022-11-26T20:13:20.149Z"
   },
   {
    "duration": 389,
    "start_time": "2022-11-26T20:13:25.291Z"
   },
   {
    "duration": 47,
    "start_time": "2022-11-26T20:14:27.224Z"
   },
   {
    "duration": 403,
    "start_time": "2022-11-26T20:14:48.982Z"
   },
   {
    "duration": 404,
    "start_time": "2022-11-26T20:15:40.164Z"
   },
   {
    "duration": 399,
    "start_time": "2022-11-26T20:15:46.399Z"
   },
   {
    "duration": 416,
    "start_time": "2022-11-26T20:16:32.062Z"
   },
   {
    "duration": 409,
    "start_time": "2022-11-26T20:17:09.115Z"
   },
   {
    "duration": 495,
    "start_time": "2022-11-26T20:19:26.929Z"
   },
   {
    "duration": 389,
    "start_time": "2022-11-26T20:19:40.850Z"
   },
   {
    "duration": 416,
    "start_time": "2022-11-26T20:19:55.242Z"
   },
   {
    "duration": 423,
    "start_time": "2022-11-26T20:19:59.625Z"
   },
   {
    "duration": 11,
    "start_time": "2022-11-26T20:21:24.082Z"
   },
   {
    "duration": 11,
    "start_time": "2022-11-26T20:22:09.667Z"
   },
   {
    "duration": 404,
    "start_time": "2022-11-26T20:22:49.210Z"
   },
   {
    "duration": 69,
    "start_time": "2022-11-26T20:22:54.326Z"
   },
   {
    "duration": 15,
    "start_time": "2022-11-26T20:22:54.397Z"
   },
   {
    "duration": 17,
    "start_time": "2022-11-26T20:22:54.414Z"
   },
   {
    "duration": 9,
    "start_time": "2022-11-26T20:22:54.433Z"
   },
   {
    "duration": 61,
    "start_time": "2022-11-26T20:22:54.444Z"
   },
   {
    "duration": 4,
    "start_time": "2022-11-26T20:22:54.507Z"
   },
   {
    "duration": 10,
    "start_time": "2022-11-26T20:22:54.512Z"
   },
   {
    "duration": 7,
    "start_time": "2022-11-26T20:22:54.524Z"
   },
   {
    "duration": 7,
    "start_time": "2022-11-26T20:22:54.533Z"
   },
   {
    "duration": 5,
    "start_time": "2022-11-26T20:22:54.542Z"
   },
   {
    "duration": 64,
    "start_time": "2022-11-26T20:22:54.548Z"
   },
   {
    "duration": 11,
    "start_time": "2022-11-26T20:22:54.614Z"
   },
   {
    "duration": 6,
    "start_time": "2022-11-26T20:22:54.626Z"
   },
   {
    "duration": 16,
    "start_time": "2022-11-26T20:22:54.633Z"
   },
   {
    "duration": 24,
    "start_time": "2022-11-26T20:22:54.651Z"
   },
   {
    "duration": 37,
    "start_time": "2022-11-26T20:22:54.677Z"
   },
   {
    "duration": 4,
    "start_time": "2022-11-26T20:22:54.716Z"
   },
   {
    "duration": 22,
    "start_time": "2022-11-26T20:22:54.722Z"
   },
   {
    "duration": 7,
    "start_time": "2022-11-26T20:22:54.745Z"
   },
   {
    "duration": 6,
    "start_time": "2022-11-26T20:22:54.754Z"
   },
   {
    "duration": 16,
    "start_time": "2022-11-26T20:22:54.761Z"
   },
   {
    "duration": 473,
    "start_time": "2022-11-26T20:22:54.779Z"
   },
   {
    "duration": 400,
    "start_time": "2022-11-26T20:22:55.254Z"
   },
   {
    "duration": 434,
    "start_time": "2022-11-26T20:22:55.656Z"
   },
   {
    "duration": 384,
    "start_time": "2022-11-26T20:22:56.096Z"
   },
   {
    "duration": 42,
    "start_time": "2022-11-26T20:23:52.588Z"
   },
   {
    "duration": 21,
    "start_time": "2022-11-26T20:25:33.715Z"
   },
   {
    "duration": 21,
    "start_time": "2022-11-26T20:25:50.631Z"
   },
   {
    "duration": 30,
    "start_time": "2022-11-26T20:26:45.644Z"
   },
   {
    "duration": 30,
    "start_time": "2022-11-26T20:27:08.396Z"
   },
   {
    "duration": 31,
    "start_time": "2022-11-26T20:27:43.823Z"
   },
   {
    "duration": 363,
    "start_time": "2022-11-26T20:28:06.581Z"
   },
   {
    "duration": 384,
    "start_time": "2022-11-26T20:29:18.485Z"
   },
   {
    "duration": 141,
    "start_time": "2022-11-26T20:29:39.834Z"
   },
   {
    "duration": 361,
    "start_time": "2022-11-26T20:29:47.880Z"
   },
   {
    "duration": 32,
    "start_time": "2022-11-26T20:29:56.099Z"
   },
   {
    "duration": 20,
    "start_time": "2022-11-26T20:31:17.258Z"
   },
   {
    "duration": 87,
    "start_time": "2022-11-26T20:31:25.951Z"
   },
   {
    "duration": 20,
    "start_time": "2022-11-26T20:31:26.041Z"
   },
   {
    "duration": 33,
    "start_time": "2022-11-26T20:31:26.063Z"
   },
   {
    "duration": 18,
    "start_time": "2022-11-26T20:31:26.099Z"
   },
   {
    "duration": 43,
    "start_time": "2022-11-26T20:31:26.119Z"
   },
   {
    "duration": 3,
    "start_time": "2022-11-26T20:31:26.164Z"
   },
   {
    "duration": 40,
    "start_time": "2022-11-26T20:31:26.169Z"
   },
   {
    "duration": 9,
    "start_time": "2022-11-26T20:31:26.211Z"
   },
   {
    "duration": 24,
    "start_time": "2022-11-26T20:31:26.221Z"
   },
   {
    "duration": 5,
    "start_time": "2022-11-26T20:31:26.247Z"
   },
   {
    "duration": 47,
    "start_time": "2022-11-26T20:31:26.254Z"
   },
   {
    "duration": 9,
    "start_time": "2022-11-26T20:31:26.303Z"
   },
   {
    "duration": 11,
    "start_time": "2022-11-26T20:31:26.313Z"
   },
   {
    "duration": 23,
    "start_time": "2022-11-26T20:31:26.326Z"
   },
   {
    "duration": 37,
    "start_time": "2022-11-26T20:31:26.351Z"
   },
   {
    "duration": 22,
    "start_time": "2022-11-26T20:31:26.390Z"
   },
   {
    "duration": 3,
    "start_time": "2022-11-26T20:31:26.414Z"
   },
   {
    "duration": 24,
    "start_time": "2022-11-26T20:31:26.419Z"
   },
   {
    "duration": 35,
    "start_time": "2022-11-26T20:31:26.445Z"
   },
   {
    "duration": 21,
    "start_time": "2022-11-26T20:31:26.481Z"
   },
   {
    "duration": 22,
    "start_time": "2022-11-26T20:31:26.504Z"
   },
   {
    "duration": 424,
    "start_time": "2022-11-26T20:31:26.527Z"
   },
   {
    "duration": 384,
    "start_time": "2022-11-26T20:31:26.952Z"
   },
   {
    "duration": 20,
    "start_time": "2022-11-26T20:31:27.338Z"
   },
   {
    "duration": 0,
    "start_time": "2022-11-26T20:31:27.360Z"
   },
   {
    "duration": 383,
    "start_time": "2022-11-26T20:33:30.406Z"
   },
   {
    "duration": 538,
    "start_time": "2022-11-26T20:37:14.707Z"
   },
   {
    "duration": 400,
    "start_time": "2022-11-26T20:38:13.203Z"
   },
   {
    "duration": 376,
    "start_time": "2022-11-26T20:38:19.090Z"
   },
   {
    "duration": 367,
    "start_time": "2022-11-26T20:38:29.438Z"
   },
   {
    "duration": 379,
    "start_time": "2022-11-26T20:38:56.886Z"
   },
   {
    "duration": 69,
    "start_time": "2022-11-26T20:44:59.270Z"
   },
   {
    "duration": 15,
    "start_time": "2022-11-26T20:44:59.341Z"
   },
   {
    "duration": 16,
    "start_time": "2022-11-26T20:44:59.358Z"
   },
   {
    "duration": 27,
    "start_time": "2022-11-26T20:44:59.376Z"
   },
   {
    "duration": 33,
    "start_time": "2022-11-26T20:44:59.405Z"
   },
   {
    "duration": 4,
    "start_time": "2022-11-26T20:44:59.439Z"
   },
   {
    "duration": 25,
    "start_time": "2022-11-26T20:44:59.444Z"
   },
   {
    "duration": 34,
    "start_time": "2022-11-26T20:44:59.470Z"
   },
   {
    "duration": 31,
    "start_time": "2022-11-26T20:44:59.506Z"
   },
   {
    "duration": 17,
    "start_time": "2022-11-26T20:44:59.539Z"
   },
   {
    "duration": 68,
    "start_time": "2022-11-26T20:44:59.557Z"
   },
   {
    "duration": 9,
    "start_time": "2022-11-26T20:44:59.626Z"
   },
   {
    "duration": 22,
    "start_time": "2022-11-26T20:44:59.637Z"
   },
   {
    "duration": 33,
    "start_time": "2022-11-26T20:44:59.661Z"
   },
   {
    "duration": 40,
    "start_time": "2022-11-26T20:44:59.695Z"
   },
   {
    "duration": 41,
    "start_time": "2022-11-26T20:44:59.736Z"
   },
   {
    "duration": 4,
    "start_time": "2022-11-26T20:44:59.779Z"
   },
   {
    "duration": 49,
    "start_time": "2022-11-26T20:44:59.785Z"
   },
   {
    "duration": 25,
    "start_time": "2022-11-26T20:44:59.836Z"
   },
   {
    "duration": 20,
    "start_time": "2022-11-26T20:44:59.863Z"
   },
   {
    "duration": 31,
    "start_time": "2022-11-26T20:44:59.885Z"
   },
   {
    "duration": 449,
    "start_time": "2022-11-26T20:44:59.918Z"
   },
   {
    "duration": 388,
    "start_time": "2022-11-26T20:45:00.368Z"
   },
   {
    "duration": 369,
    "start_time": "2022-11-26T20:45:00.758Z"
   },
   {
    "duration": 374,
    "start_time": "2022-11-26T20:45:01.129Z"
   },
   {
    "duration": 357,
    "start_time": "2022-11-26T20:46:46.830Z"
   },
   {
    "duration": 359,
    "start_time": "2022-11-26T20:46:54.371Z"
   },
   {
    "duration": 72,
    "start_time": "2022-11-26T20:47:03.751Z"
   },
   {
    "duration": 16,
    "start_time": "2022-11-26T20:47:03.825Z"
   },
   {
    "duration": 16,
    "start_time": "2022-11-26T20:47:03.842Z"
   },
   {
    "duration": 9,
    "start_time": "2022-11-26T20:47:03.860Z"
   },
   {
    "duration": 57,
    "start_time": "2022-11-26T20:47:03.870Z"
   },
   {
    "duration": 4,
    "start_time": "2022-11-26T20:47:03.928Z"
   },
   {
    "duration": 11,
    "start_time": "2022-11-26T20:47:03.933Z"
   },
   {
    "duration": 4,
    "start_time": "2022-11-26T20:47:03.945Z"
   },
   {
    "duration": 9,
    "start_time": "2022-11-26T20:47:03.951Z"
   },
   {
    "duration": 4,
    "start_time": "2022-11-26T20:47:03.962Z"
   },
   {
    "duration": 56,
    "start_time": "2022-11-26T20:47:03.968Z"
   },
   {
    "duration": 10,
    "start_time": "2022-11-26T20:47:04.027Z"
   },
   {
    "duration": 4,
    "start_time": "2022-11-26T20:47:04.039Z"
   },
   {
    "duration": 11,
    "start_time": "2022-11-26T20:47:04.044Z"
   },
   {
    "duration": 46,
    "start_time": "2022-11-26T20:47:04.057Z"
   },
   {
    "duration": 20,
    "start_time": "2022-11-26T20:47:04.105Z"
   },
   {
    "duration": 4,
    "start_time": "2022-11-26T20:47:04.127Z"
   },
   {
    "duration": 18,
    "start_time": "2022-11-26T20:47:04.133Z"
   },
   {
    "duration": 20,
    "start_time": "2022-11-26T20:47:04.153Z"
   },
   {
    "duration": 12,
    "start_time": "2022-11-26T20:47:04.175Z"
   },
   {
    "duration": 23,
    "start_time": "2022-11-26T20:47:04.189Z"
   },
   {
    "duration": 425,
    "start_time": "2022-11-26T20:47:04.214Z"
   },
   {
    "duration": 410,
    "start_time": "2022-11-26T20:47:04.641Z"
   },
   {
    "duration": 394,
    "start_time": "2022-11-26T20:47:05.053Z"
   },
   {
    "duration": 395,
    "start_time": "2022-11-26T20:47:05.449Z"
   },
   {
    "duration": 52,
    "start_time": "2022-11-26T20:47:58.825Z"
   },
   {
    "duration": 42,
    "start_time": "2022-11-26T20:48:06.793Z"
   },
   {
    "duration": 395,
    "start_time": "2022-11-26T20:48:11.690Z"
   },
   {
    "duration": 360,
    "start_time": "2022-11-26T20:48:17.238Z"
   },
   {
    "duration": 378,
    "start_time": "2022-11-26T20:48:21.743Z"
   },
   {
    "duration": 382,
    "start_time": "2022-11-26T20:49:40.019Z"
   },
   {
    "duration": 507,
    "start_time": "2022-11-26T20:49:59.746Z"
   },
   {
    "duration": 351,
    "start_time": "2022-11-26T20:50:06.247Z"
   },
   {
    "duration": 371,
    "start_time": "2022-11-26T20:50:32.304Z"
   },
   {
    "duration": 49,
    "start_time": "2022-11-26T20:50:50.641Z"
   },
   {
    "duration": 62,
    "start_time": "2022-11-26T20:50:58.535Z"
   },
   {
    "duration": 383,
    "start_time": "2022-11-26T20:51:12.143Z"
   },
   {
    "duration": 391,
    "start_time": "2022-11-26T20:51:17.801Z"
   },
   {
    "duration": 355,
    "start_time": "2022-11-26T20:51:36.527Z"
   },
   {
    "duration": 71,
    "start_time": "2022-11-26T20:52:06.385Z"
   },
   {
    "duration": 15,
    "start_time": "2022-11-26T20:52:06.458Z"
   },
   {
    "duration": 22,
    "start_time": "2022-11-26T20:52:06.474Z"
   },
   {
    "duration": 10,
    "start_time": "2022-11-26T20:52:06.498Z"
   },
   {
    "duration": 38,
    "start_time": "2022-11-26T20:52:06.510Z"
   },
   {
    "duration": 4,
    "start_time": "2022-11-26T20:52:06.550Z"
   },
   {
    "duration": 12,
    "start_time": "2022-11-26T20:52:06.556Z"
   },
   {
    "duration": 29,
    "start_time": "2022-11-26T20:52:06.569Z"
   },
   {
    "duration": 6,
    "start_time": "2022-11-26T20:52:06.599Z"
   },
   {
    "duration": 6,
    "start_time": "2022-11-26T20:52:06.606Z"
   },
   {
    "duration": 34,
    "start_time": "2022-11-26T20:52:06.613Z"
   },
   {
    "duration": 9,
    "start_time": "2022-11-26T20:52:06.648Z"
   },
   {
    "duration": 4,
    "start_time": "2022-11-26T20:52:06.659Z"
   },
   {
    "duration": 38,
    "start_time": "2022-11-26T20:52:06.665Z"
   },
   {
    "duration": 18,
    "start_time": "2022-11-26T20:52:06.704Z"
   },
   {
    "duration": 17,
    "start_time": "2022-11-26T20:52:06.724Z"
   },
   {
    "duration": 4,
    "start_time": "2022-11-26T20:52:06.743Z"
   },
   {
    "duration": 13,
    "start_time": "2022-11-26T20:52:06.748Z"
   },
   {
    "duration": 6,
    "start_time": "2022-11-26T20:52:06.763Z"
   },
   {
    "duration": 4,
    "start_time": "2022-11-26T20:52:06.796Z"
   },
   {
    "duration": 24,
    "start_time": "2022-11-26T20:52:06.802Z"
   },
   {
    "duration": 431,
    "start_time": "2022-11-26T20:52:06.828Z"
   },
   {
    "duration": 395,
    "start_time": "2022-11-26T20:52:07.260Z"
   },
   {
    "duration": 377,
    "start_time": "2022-11-26T20:52:07.657Z"
   },
   {
    "duration": 381,
    "start_time": "2022-11-26T20:52:08.036Z"
   },
   {
    "duration": 371,
    "start_time": "2022-11-26T20:52:36.647Z"
   },
   {
    "duration": 76,
    "start_time": "2022-11-26T20:53:20.037Z"
   },
   {
    "duration": 16,
    "start_time": "2022-11-26T20:53:20.115Z"
   },
   {
    "duration": 15,
    "start_time": "2022-11-26T20:53:20.133Z"
   },
   {
    "duration": 9,
    "start_time": "2022-11-26T20:53:20.150Z"
   },
   {
    "duration": 57,
    "start_time": "2022-11-26T20:53:20.161Z"
   },
   {
    "duration": 4,
    "start_time": "2022-11-26T20:53:20.220Z"
   },
   {
    "duration": 11,
    "start_time": "2022-11-26T20:53:20.225Z"
   },
   {
    "duration": 4,
    "start_time": "2022-11-26T20:53:20.238Z"
   },
   {
    "duration": 7,
    "start_time": "2022-11-26T20:53:20.243Z"
   },
   {
    "duration": 13,
    "start_time": "2022-11-26T20:53:20.251Z"
   },
   {
    "duration": 63,
    "start_time": "2022-11-26T20:53:20.266Z"
   },
   {
    "duration": 11,
    "start_time": "2022-11-26T20:53:20.331Z"
   },
   {
    "duration": 5,
    "start_time": "2022-11-26T20:53:20.344Z"
   },
   {
    "duration": 13,
    "start_time": "2022-11-26T20:53:20.352Z"
   },
   {
    "duration": 37,
    "start_time": "2022-11-26T20:53:20.367Z"
   },
   {
    "duration": 18,
    "start_time": "2022-11-26T20:53:20.405Z"
   },
   {
    "duration": 3,
    "start_time": "2022-11-26T20:53:20.425Z"
   },
   {
    "duration": 14,
    "start_time": "2022-11-26T20:53:20.429Z"
   },
   {
    "duration": 15,
    "start_time": "2022-11-26T20:53:20.444Z"
   },
   {
    "duration": 7,
    "start_time": "2022-11-26T20:53:20.460Z"
   },
   {
    "duration": 27,
    "start_time": "2022-11-26T20:53:20.469Z"
   },
   {
    "duration": 389,
    "start_time": "2022-11-26T20:53:20.498Z"
   },
   {
    "duration": 389,
    "start_time": "2022-11-26T20:53:20.889Z"
   },
   {
    "duration": 358,
    "start_time": "2022-11-26T20:53:21.280Z"
   },
   {
    "duration": 367,
    "start_time": "2022-11-26T20:53:21.640Z"
   },
   {
    "duration": 69,
    "start_time": "2022-11-26T20:55:11.601Z"
   },
   {
    "duration": 15,
    "start_time": "2022-11-26T20:55:11.672Z"
   },
   {
    "duration": 15,
    "start_time": "2022-11-26T20:55:11.688Z"
   },
   {
    "duration": 9,
    "start_time": "2022-11-26T20:55:11.705Z"
   },
   {
    "duration": 35,
    "start_time": "2022-11-26T20:55:11.716Z"
   },
   {
    "duration": 4,
    "start_time": "2022-11-26T20:55:11.752Z"
   },
   {
    "duration": 10,
    "start_time": "2022-11-26T20:55:11.757Z"
   },
   {
    "duration": 28,
    "start_time": "2022-11-26T20:55:11.769Z"
   },
   {
    "duration": 5,
    "start_time": "2022-11-26T20:55:11.799Z"
   },
   {
    "duration": 6,
    "start_time": "2022-11-26T20:55:11.806Z"
   },
   {
    "duration": 41,
    "start_time": "2022-11-26T20:55:11.813Z"
   },
   {
    "duration": 9,
    "start_time": "2022-11-26T20:55:11.856Z"
   },
   {
    "duration": 4,
    "start_time": "2022-11-26T20:55:11.867Z"
   },
   {
    "duration": 12,
    "start_time": "2022-11-26T20:55:11.896Z"
   },
   {
    "duration": 23,
    "start_time": "2022-11-26T20:55:11.909Z"
   },
   {
    "duration": 18,
    "start_time": "2022-11-26T20:55:11.934Z"
   },
   {
    "duration": 4,
    "start_time": "2022-11-26T20:55:11.954Z"
   },
   {
    "duration": 15,
    "start_time": "2022-11-26T20:55:11.959Z"
   },
   {
    "duration": 8,
    "start_time": "2022-11-26T20:55:11.997Z"
   },
   {
    "duration": 4,
    "start_time": "2022-11-26T20:55:12.006Z"
   },
   {
    "duration": 10,
    "start_time": "2022-11-26T20:55:12.012Z"
   },
   {
    "duration": 413,
    "start_time": "2022-11-26T20:55:12.023Z"
   },
   {
    "duration": 381,
    "start_time": "2022-11-26T20:55:12.438Z"
   },
   {
    "duration": 375,
    "start_time": "2022-11-26T20:55:12.821Z"
   },
   {
    "duration": 359,
    "start_time": "2022-11-26T20:55:13.198Z"
   },
   {
    "duration": 69,
    "start_time": "2022-11-26T21:08:12.542Z"
   },
   {
    "duration": 16,
    "start_time": "2022-11-26T21:08:12.612Z"
   },
   {
    "duration": 15,
    "start_time": "2022-11-26T21:08:12.630Z"
   },
   {
    "duration": 9,
    "start_time": "2022-11-26T21:08:12.648Z"
   },
   {
    "duration": 60,
    "start_time": "2022-11-26T21:08:12.659Z"
   },
   {
    "duration": 4,
    "start_time": "2022-11-26T21:08:12.721Z"
   },
   {
    "duration": 10,
    "start_time": "2022-11-26T21:08:12.727Z"
   },
   {
    "duration": 5,
    "start_time": "2022-11-26T21:08:12.739Z"
   },
   {
    "duration": 9,
    "start_time": "2022-11-26T21:08:12.745Z"
   },
   {
    "duration": 5,
    "start_time": "2022-11-26T21:08:12.758Z"
   },
   {
    "duration": 61,
    "start_time": "2022-11-26T21:08:12.765Z"
   },
   {
    "duration": 9,
    "start_time": "2022-11-26T21:08:12.828Z"
   },
   {
    "duration": 4,
    "start_time": "2022-11-26T21:08:12.838Z"
   },
   {
    "duration": 12,
    "start_time": "2022-11-26T21:08:12.844Z"
   },
   {
    "duration": 42,
    "start_time": "2022-11-26T21:08:12.857Z"
   },
   {
    "duration": 20,
    "start_time": "2022-11-26T21:08:12.901Z"
   },
   {
    "duration": 3,
    "start_time": "2022-11-26T21:08:12.923Z"
   },
   {
    "duration": 14,
    "start_time": "2022-11-26T21:08:12.928Z"
   },
   {
    "duration": 6,
    "start_time": "2022-11-26T21:08:12.944Z"
   },
   {
    "duration": 9,
    "start_time": "2022-11-26T21:08:12.952Z"
   },
   {
    "duration": 15,
    "start_time": "2022-11-26T21:08:12.962Z"
   },
   {
    "duration": 420,
    "start_time": "2022-11-26T21:08:12.978Z"
   },
   {
    "duration": 515,
    "start_time": "2022-11-26T21:08:13.400Z"
   },
   {
    "duration": 370,
    "start_time": "2022-11-26T21:08:13.917Z"
   },
   {
    "duration": 374,
    "start_time": "2022-11-26T21:08:14.289Z"
   },
   {
    "duration": 21,
    "start_time": "2022-11-26T21:17:07.734Z"
   },
   {
    "duration": 374,
    "start_time": "2022-11-26T21:17:15.054Z"
   },
   {
    "duration": 400,
    "start_time": "2022-11-26T21:19:14.825Z"
   },
   {
    "duration": 360,
    "start_time": "2022-11-26T21:19:28.390Z"
   },
   {
    "duration": 338,
    "start_time": "2022-11-26T21:19:47.805Z"
   },
   {
    "duration": 339,
    "start_time": "2022-11-26T21:19:53.232Z"
   },
   {
    "duration": 345,
    "start_time": "2022-11-26T21:19:58.223Z"
   },
   {
    "duration": 422,
    "start_time": "2022-11-26T21:20:58.596Z"
   },
   {
    "duration": 390,
    "start_time": "2022-11-26T21:21:13.609Z"
   },
   {
    "duration": 354,
    "start_time": "2022-11-26T21:21:22.310Z"
   },
   {
    "duration": 405,
    "start_time": "2022-11-26T21:22:38.604Z"
   },
   {
    "duration": 367,
    "start_time": "2022-11-26T21:22:54.546Z"
   },
   {
    "duration": 69,
    "start_time": "2022-11-26T21:23:16.096Z"
   },
   {
    "duration": 15,
    "start_time": "2022-11-26T21:23:16.167Z"
   },
   {
    "duration": 27,
    "start_time": "2022-11-26T21:23:16.184Z"
   },
   {
    "duration": 11,
    "start_time": "2022-11-26T21:23:16.213Z"
   },
   {
    "duration": 33,
    "start_time": "2022-11-26T21:23:16.225Z"
   },
   {
    "duration": 3,
    "start_time": "2022-11-26T21:23:16.260Z"
   },
   {
    "duration": 17,
    "start_time": "2022-11-26T21:23:16.264Z"
   },
   {
    "duration": 22,
    "start_time": "2022-11-26T21:23:16.282Z"
   },
   {
    "duration": 13,
    "start_time": "2022-11-26T21:23:16.305Z"
   },
   {
    "duration": 14,
    "start_time": "2022-11-26T21:23:16.321Z"
   },
   {
    "duration": 44,
    "start_time": "2022-11-26T21:23:16.337Z"
   },
   {
    "duration": 10,
    "start_time": "2022-11-26T21:23:16.383Z"
   },
   {
    "duration": 21,
    "start_time": "2022-11-26T21:23:16.395Z"
   },
   {
    "duration": 14,
    "start_time": "2022-11-26T21:23:16.418Z"
   },
   {
    "duration": 19,
    "start_time": "2022-11-26T21:23:16.434Z"
   },
   {
    "duration": 16,
    "start_time": "2022-11-26T21:23:16.454Z"
   },
   {
    "duration": 3,
    "start_time": "2022-11-26T21:23:16.471Z"
   },
   {
    "duration": 14,
    "start_time": "2022-11-26T21:23:16.476Z"
   },
   {
    "duration": 15,
    "start_time": "2022-11-26T21:23:16.491Z"
   },
   {
    "duration": 6,
    "start_time": "2022-11-26T21:23:16.508Z"
   },
   {
    "duration": 11,
    "start_time": "2022-11-26T21:23:16.515Z"
   },
   {
    "duration": 405,
    "start_time": "2022-11-26T21:23:16.527Z"
   },
   {
    "duration": 396,
    "start_time": "2022-11-26T21:23:16.933Z"
   },
   {
    "duration": 363,
    "start_time": "2022-11-26T21:23:17.331Z"
   },
   {
    "duration": 369,
    "start_time": "2022-11-26T21:23:17.696Z"
   },
   {
    "duration": 390,
    "start_time": "2022-11-26T21:24:06.219Z"
   },
   {
    "duration": 328,
    "start_time": "2022-11-26T21:27:43.505Z"
   },
   {
    "duration": 372,
    "start_time": "2022-11-26T21:29:48.292Z"
   },
   {
    "duration": 18,
    "start_time": "2022-11-26T21:32:54.744Z"
   },
   {
    "duration": 364,
    "start_time": "2022-11-26T21:33:02.736Z"
   },
   {
    "duration": 360,
    "start_time": "2022-11-26T21:33:15.570Z"
   },
   {
    "duration": 502,
    "start_time": "2022-11-26T21:33:22.489Z"
   },
   {
    "duration": 367,
    "start_time": "2022-11-26T21:33:28.389Z"
   },
   {
    "duration": 22,
    "start_time": "2022-11-26T21:35:27.114Z"
   },
   {
    "duration": 1584,
    "start_time": "2022-11-26T22:01:26.320Z"
   },
   {
    "duration": 374,
    "start_time": "2022-11-26T22:01:50.042Z"
   },
   {
    "duration": 10,
    "start_time": "2022-11-26T22:02:26.089Z"
   },
   {
    "duration": 9,
    "start_time": "2022-11-26T22:02:30.833Z"
   },
   {
    "duration": 9,
    "start_time": "2022-11-26T22:02:33.878Z"
   },
   {
    "duration": 73,
    "start_time": "2022-11-26T22:14:05.292Z"
   },
   {
    "duration": 16,
    "start_time": "2022-11-26T22:14:05.367Z"
   },
   {
    "duration": 16,
    "start_time": "2022-11-26T22:14:05.385Z"
   },
   {
    "duration": 9,
    "start_time": "2022-11-26T22:14:05.403Z"
   },
   {
    "duration": 35,
    "start_time": "2022-11-26T22:14:05.413Z"
   },
   {
    "duration": 3,
    "start_time": "2022-11-26T22:14:05.450Z"
   },
   {
    "duration": 13,
    "start_time": "2022-11-26T22:14:05.455Z"
   },
   {
    "duration": 28,
    "start_time": "2022-11-26T22:14:05.469Z"
   },
   {
    "duration": 6,
    "start_time": "2022-11-26T22:14:05.499Z"
   },
   {
    "duration": 9,
    "start_time": "2022-11-26T22:14:05.507Z"
   },
   {
    "duration": 37,
    "start_time": "2022-11-26T22:14:05.517Z"
   },
   {
    "duration": 10,
    "start_time": "2022-11-26T22:14:05.555Z"
   },
   {
    "duration": 4,
    "start_time": "2022-11-26T22:14:05.566Z"
   },
   {
    "duration": 32,
    "start_time": "2022-11-26T22:14:05.572Z"
   },
   {
    "duration": 19,
    "start_time": "2022-11-26T22:14:05.606Z"
   },
   {
    "duration": 19,
    "start_time": "2022-11-26T22:14:05.627Z"
   },
   {
    "duration": 4,
    "start_time": "2022-11-26T22:14:05.647Z"
   },
   {
    "duration": 24,
    "start_time": "2022-11-26T22:14:05.653Z"
   },
   {
    "duration": 22,
    "start_time": "2022-11-26T22:14:05.678Z"
   },
   {
    "duration": 4,
    "start_time": "2022-11-26T22:14:05.702Z"
   },
   {
    "duration": 10,
    "start_time": "2022-11-26T22:14:05.708Z"
   },
   {
    "duration": 464,
    "start_time": "2022-11-26T22:14:05.719Z"
   },
   {
    "duration": 381,
    "start_time": "2022-11-26T22:14:06.185Z"
   },
   {
    "duration": 365,
    "start_time": "2022-11-26T22:14:06.567Z"
   },
   {
    "duration": 350,
    "start_time": "2022-11-26T22:14:06.934Z"
   },
   {
    "duration": 70,
    "start_time": "2022-11-26T22:27:59.373Z"
   },
   {
    "duration": 15,
    "start_time": "2022-11-26T22:27:59.445Z"
   },
   {
    "duration": 15,
    "start_time": "2022-11-26T22:27:59.462Z"
   },
   {
    "duration": 28,
    "start_time": "2022-11-26T22:27:59.479Z"
   },
   {
    "duration": 38,
    "start_time": "2022-11-26T22:27:59.509Z"
   },
   {
    "duration": 3,
    "start_time": "2022-11-26T22:27:59.549Z"
   },
   {
    "duration": 9,
    "start_time": "2022-11-26T22:27:59.554Z"
   },
   {
    "duration": 31,
    "start_time": "2022-11-26T22:27:59.565Z"
   },
   {
    "duration": 6,
    "start_time": "2022-11-26T22:27:59.598Z"
   },
   {
    "duration": 4,
    "start_time": "2022-11-26T22:27:59.607Z"
   },
   {
    "duration": 35,
    "start_time": "2022-11-26T22:27:59.612Z"
   },
   {
    "duration": 8,
    "start_time": "2022-11-26T22:27:59.649Z"
   },
   {
    "duration": 37,
    "start_time": "2022-11-26T22:27:59.659Z"
   },
   {
    "duration": 11,
    "start_time": "2022-11-26T22:27:59.698Z"
   },
   {
    "duration": 25,
    "start_time": "2022-11-26T22:27:59.711Z"
   },
   {
    "duration": 22,
    "start_time": "2022-11-26T22:27:59.738Z"
   },
   {
    "duration": 4,
    "start_time": "2022-11-26T22:27:59.761Z"
   },
   {
    "duration": 32,
    "start_time": "2022-11-26T22:27:59.767Z"
   },
   {
    "duration": 6,
    "start_time": "2022-11-26T22:27:59.801Z"
   },
   {
    "duration": 5,
    "start_time": "2022-11-26T22:27:59.808Z"
   },
   {
    "duration": 12,
    "start_time": "2022-11-26T22:27:59.815Z"
   },
   {
    "duration": 425,
    "start_time": "2022-11-26T22:27:59.829Z"
   },
   {
    "duration": 397,
    "start_time": "2022-11-26T22:28:00.255Z"
   },
   {
    "duration": 376,
    "start_time": "2022-11-26T22:28:00.654Z"
   },
   {
    "duration": 371,
    "start_time": "2022-11-26T22:28:01.032Z"
   },
   {
    "duration": 2098,
    "start_time": "2023-06-18T17:50:41.290Z"
   },
   {
    "duration": 21,
    "start_time": "2023-06-18T17:50:43.390Z"
   },
   {
    "duration": 16,
    "start_time": "2023-06-18T17:50:43.413Z"
   },
   {
    "duration": 19,
    "start_time": "2023-06-18T17:50:43.431Z"
   },
   {
    "duration": 55,
    "start_time": "2023-06-18T17:50:43.452Z"
   },
   {
    "duration": 4,
    "start_time": "2023-06-18T17:50:43.509Z"
   },
   {
    "duration": 22,
    "start_time": "2023-06-18T17:50:43.515Z"
   },
   {
    "duration": 14,
    "start_time": "2023-06-18T17:50:43.538Z"
   },
   {
    "duration": 20,
    "start_time": "2023-06-18T17:50:43.554Z"
   },
   {
    "duration": 13,
    "start_time": "2023-06-18T17:50:43.576Z"
   },
   {
    "duration": 80,
    "start_time": "2023-06-18T17:50:43.591Z"
   },
   {
    "duration": 16,
    "start_time": "2023-06-18T17:50:43.673Z"
   },
   {
    "duration": 26,
    "start_time": "2023-06-18T17:50:43.691Z"
   },
   {
    "duration": 45,
    "start_time": "2023-06-18T17:50:43.718Z"
   },
   {
    "duration": 44,
    "start_time": "2023-06-18T17:50:43.765Z"
   },
   {
    "duration": 29,
    "start_time": "2023-06-18T17:50:43.810Z"
   },
   {
    "duration": 20,
    "start_time": "2023-06-18T17:50:43.842Z"
   },
   {
    "duration": 27,
    "start_time": "2023-06-18T17:50:43.868Z"
   },
   {
    "duration": 22,
    "start_time": "2023-06-18T17:50:43.897Z"
   },
   {
    "duration": 6,
    "start_time": "2023-06-18T17:50:43.921Z"
   },
   {
    "duration": 42,
    "start_time": "2023-06-18T17:50:43.929Z"
   },
   {
    "duration": 391,
    "start_time": "2023-06-18T17:50:43.973Z"
   },
   {
    "duration": 385,
    "start_time": "2023-06-18T17:50:44.365Z"
   },
   {
    "duration": 381,
    "start_time": "2023-06-18T17:50:44.752Z"
   },
   {
    "duration": 371,
    "start_time": "2023-06-18T17:50:45.136Z"
   }
  ],
  "colab": {
   "name": "dpp_template_part2.ipynb",
   "provenance": []
  },
  "kernelspec": {
   "display_name": "Python 3 (ipykernel)",
   "language": "python",
   "name": "python3"
  },
  "language_info": {
   "codemirror_mode": {
    "name": "ipython",
    "version": 3
   },
   "file_extension": ".py",
   "mimetype": "text/x-python",
   "name": "python",
   "nbconvert_exporter": "python",
   "pygments_lexer": "ipython3",
   "version": "3.9.5"
  },
  "toc": {
   "base_numbering": 1,
   "nav_menu": {},
   "number_sections": true,
   "sideBar": true,
   "skip_h1_title": true,
   "title_cell": "Table of Contents",
   "title_sidebar": "Contents",
   "toc_cell": false,
   "toc_position": {},
   "toc_section_display": true,
   "toc_window_display": false
  }
 },
 "nbformat": 4,
 "nbformat_minor": 5
}
