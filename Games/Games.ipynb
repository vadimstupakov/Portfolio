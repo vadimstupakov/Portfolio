{
 "cells": [
  {
   "cell_type": "markdown",
   "id": "7e4029c2",
   "metadata": {},
   "source": [
    "# Изучение закономерностей, определяющих успешность игр"
   ]
  },
  {
   "cell_type": "markdown",
   "id": "fe59f7ec",
   "metadata": {},
   "source": [
    " Из открытых источников взяты исторические данные о продажах игр, оценки пользователей и экспертов, жанры и платформы. Данные представлены до 2016 года.\n",
    " \n",
    " Необходимо выявить определяющие успешность игры закономерности. Это позволит сделать ставку на потенциально популярный продукт и спланировать рекламные кампании."
   ]
  },
  {
   "cell_type": "markdown",
   "id": "945a70cb",
   "metadata": {},
   "source": [
    "# Описание данных"
   ]
  },
  {
   "cell_type": "markdown",
   "id": "59e344fd",
   "metadata": {},
   "source": [
    "``Name`` — название игры  \n",
    "``Platform`` — платформа  \n",
    "``Year_of_Release`` — год выпуска  \n",
    "``Genre`` — жанр игры  \n",
    "``NA_sales`` — продажи в Северной Америке (миллионы проданных копий)  \n",
    "``EU_sales`` — продажи в Европе (миллионы проданных копий)  \n",
    "``JP_sales`` — продажи в Японии (миллионы проданных копий)  \n",
    "``Other_sales`` — продажи в других странах (миллионы проданных копий)  \n",
    "``Critic_Score`` — оценка критиков (максимум 100)  \n",
    "``User_Score`` — оценка пользователей (максимум 10)  \n",
    "``Rating`` — рейтинг от организации ESRB (англ. Entertainment Software Rating Board). Эта ассоциация определяет рейтинг компьютерных игр и присваивает им подходящую возрастную категорию."
   ]
  },
  {
   "cell_type": "markdown",
   "id": "7d81cd61",
   "metadata": {
    "toc": true
   },
   "source": [
    "<h1>Table of Contents<span class=\"tocSkip\"></span></h1>\n",
    "<div class=\"toc\"><ul class=\"toc-item\"><li><span><a href=\"#Импорт-библиотек-и-загрузка-данных\" data-toc-modified-id=\"Импорт-библиотек-и-загрузка-данных-1\"><span class=\"toc-item-num\">1&nbsp;&nbsp;</span>Импорт библиотек и загрузка данных</a></span></li><li><span><a href=\"#Предобработка-данных\" data-toc-modified-id=\"Предобработка-данных-2\"><span class=\"toc-item-num\">2&nbsp;&nbsp;</span>Предобработка данных</a></span></li><li><span><a href=\"#Исследовательских-анализ-данных\" data-toc-modified-id=\"Исследовательских-анализ-данных-3\"><span class=\"toc-item-num\">3&nbsp;&nbsp;</span><strong>Исследовательских анализ данных</strong></a></span><ul class=\"toc-item\"><li><span><a href=\"#Cколько-игр-выпускалось-в-разные-годы\" data-toc-modified-id=\"Cколько-игр-выпускалось-в-разные-годы-3.1\"><span class=\"toc-item-num\">3.1&nbsp;&nbsp;</span>Cколько игр выпускалось в разные годы</a></span></li><li><span><a href=\"#За-какой-характерный-срок-появляются-новые-и-исчезают-старые-платформы\" data-toc-modified-id=\"За-какой-характерный-срок-появляются-новые-и-исчезают-старые-платформы-3.2\"><span class=\"toc-item-num\">3.2&nbsp;&nbsp;</span>За какой характерный срок появляются новые и исчезают старые платформы</a></span></li><li><span><a href=\"#Какие-платформы-лидируют-по-продажам,-растут-или-падают\" data-toc-modified-id=\"Какие-платформы-лидируют-по-продажам,-растут-или-падают-3.3\"><span class=\"toc-item-num\">3.3&nbsp;&nbsp;</span>Какие платформы лидируют по продажам, растут или падают</a></span></li><li><span><a href=\"#«ящик-с-усами»-по-глобальным-продажам-игр-в-разбивке-по-платформам\" data-toc-modified-id=\"«ящик-с-усами»-по-глобальным-продажам-игр-в-разбивке-по-платформам-3.4\"><span class=\"toc-item-num\">3.4&nbsp;&nbsp;</span>«ящик с усами» по глобальным продажам игр в разбивке по платформам</a></span></li><li><span><a href=\"#Корреляция-между-отзывами-и-продажами\" data-toc-modified-id=\"Корреляция-между-отзывами-и-продажами-3.5\"><span class=\"toc-item-num\">3.5&nbsp;&nbsp;</span>Корреляция между отзывами и продажами</a></span></li><li><span><a href=\"#Распределение-игр-по-жанрам\" data-toc-modified-id=\"Распределение-игр-по-жанрам-3.6\"><span class=\"toc-item-num\">3.6&nbsp;&nbsp;</span>Распределение игр по жанрам</a></span></li><li><span><a href=\"#Популярность-платформ-по-регионам\" data-toc-modified-id=\"Популярность-платформ-по-регионам-3.7\"><span class=\"toc-item-num\">3.7&nbsp;&nbsp;</span>Популярность платформ по регионам</a></span></li><li><span><a href=\"#Популярность-жанров-по-регионам\" data-toc-modified-id=\"Популярность-жанров-по-регионам-3.8\"><span class=\"toc-item-num\">3.8&nbsp;&nbsp;</span>Популярность жанров по регионам</a></span></li><li><span><a href=\"#Влияние-возрастного-рейтинга-по-регионам\" data-toc-modified-id=\"Влияние-возрастного-рейтинга-по-регионам-3.9\"><span class=\"toc-item-num\">3.9&nbsp;&nbsp;</span>Влияние возрастного рейтинга по регионам</a></span></li></ul></li><li><span><a href=\"#Проверка-гипотез\" data-toc-modified-id=\"Проверка-гипотез-4\"><span class=\"toc-item-num\">4&nbsp;&nbsp;</span>Проверка гипотез</a></span></li><li><span><a href=\"#Вывод\" data-toc-modified-id=\"Вывод-5\"><span class=\"toc-item-num\">5&nbsp;&nbsp;</span>Вывод</a></span></li></ul></div>"
   ]
  },
  {
   "cell_type": "markdown",
   "id": "d0fcffe1",
   "metadata": {},
   "source": [
    "## Импорт библиотек и загрузка данных"
   ]
  },
  {
   "cell_type": "code",
   "execution_count": 1,
   "id": "1e390033",
   "metadata": {},
   "outputs": [],
   "source": [
    "import pandas as pd\n",
    "import seaborn as sns\n",
    "import numpy as np\n",
    "import matplotlib.pyplot as plt\n",
    "from scipy import stats as st\n",
    "pd.set_option('display.max_rows', 10, 'display.max_columns', None)"
   ]
  },
  {
   "cell_type": "code",
   "execution_count": 2,
   "id": "a964c3a8",
   "metadata": {
    "scrolled": true
   },
   "outputs": [
    {
     "name": "stdout",
     "output_type": "stream",
     "text": [
      "<class 'pandas.core.frame.DataFrame'>\n",
      "RangeIndex: 16715 entries, 0 to 16714\n",
      "Data columns (total 11 columns):\n",
      " #   Column           Non-Null Count  Dtype  \n",
      "---  ------           --------------  -----  \n",
      " 0   Name             16713 non-null  object \n",
      " 1   Platform         16715 non-null  object \n",
      " 2   Year_of_Release  16446 non-null  float64\n",
      " 3   Genre            16713 non-null  object \n",
      " 4   NA_sales         16715 non-null  float64\n",
      " 5   EU_sales         16715 non-null  float64\n",
      " 6   JP_sales         16715 non-null  float64\n",
      " 7   Other_sales      16715 non-null  float64\n",
      " 8   Critic_Score     8137 non-null   float64\n",
      " 9   User_Score       10014 non-null  object \n",
      " 10  Rating           9949 non-null   object \n",
      "dtypes: float64(6), object(5)\n",
      "memory usage: 1.4+ MB\n"
     ]
    },
    {
     "data": {
      "text/html": [
       "<div>\n",
       "<style scoped>\n",
       "    .dataframe tbody tr th:only-of-type {\n",
       "        vertical-align: middle;\n",
       "    }\n",
       "\n",
       "    .dataframe tbody tr th {\n",
       "        vertical-align: top;\n",
       "    }\n",
       "\n",
       "    .dataframe thead th {\n",
       "        text-align: right;\n",
       "    }\n",
       "</style>\n",
       "<table border=\"1\" class=\"dataframe\">\n",
       "  <thead>\n",
       "    <tr style=\"text-align: right;\">\n",
       "      <th></th>\n",
       "      <th>Name</th>\n",
       "      <th>Platform</th>\n",
       "      <th>Year_of_Release</th>\n",
       "      <th>Genre</th>\n",
       "      <th>NA_sales</th>\n",
       "      <th>EU_sales</th>\n",
       "      <th>JP_sales</th>\n",
       "      <th>Other_sales</th>\n",
       "      <th>Critic_Score</th>\n",
       "      <th>User_Score</th>\n",
       "      <th>Rating</th>\n",
       "    </tr>\n",
       "  </thead>\n",
       "  <tbody>\n",
       "    <tr>\n",
       "      <th>0</th>\n",
       "      <td>Wii Sports</td>\n",
       "      <td>Wii</td>\n",
       "      <td>2006.0</td>\n",
       "      <td>Sports</td>\n",
       "      <td>41.36</td>\n",
       "      <td>28.96</td>\n",
       "      <td>3.77</td>\n",
       "      <td>8.45</td>\n",
       "      <td>76.0</td>\n",
       "      <td>8</td>\n",
       "      <td>E</td>\n",
       "    </tr>\n",
       "    <tr>\n",
       "      <th>1</th>\n",
       "      <td>Super Mario Bros.</td>\n",
       "      <td>NES</td>\n",
       "      <td>1985.0</td>\n",
       "      <td>Platform</td>\n",
       "      <td>29.08</td>\n",
       "      <td>3.58</td>\n",
       "      <td>6.81</td>\n",
       "      <td>0.77</td>\n",
       "      <td>NaN</td>\n",
       "      <td>NaN</td>\n",
       "      <td>NaN</td>\n",
       "    </tr>\n",
       "    <tr>\n",
       "      <th>2</th>\n",
       "      <td>Mario Kart Wii</td>\n",
       "      <td>Wii</td>\n",
       "      <td>2008.0</td>\n",
       "      <td>Racing</td>\n",
       "      <td>15.68</td>\n",
       "      <td>12.76</td>\n",
       "      <td>3.79</td>\n",
       "      <td>3.29</td>\n",
       "      <td>82.0</td>\n",
       "      <td>8.3</td>\n",
       "      <td>E</td>\n",
       "    </tr>\n",
       "    <tr>\n",
       "      <th>3</th>\n",
       "      <td>Wii Sports Resort</td>\n",
       "      <td>Wii</td>\n",
       "      <td>2009.0</td>\n",
       "      <td>Sports</td>\n",
       "      <td>15.61</td>\n",
       "      <td>10.93</td>\n",
       "      <td>3.28</td>\n",
       "      <td>2.95</td>\n",
       "      <td>80.0</td>\n",
       "      <td>8</td>\n",
       "      <td>E</td>\n",
       "    </tr>\n",
       "    <tr>\n",
       "      <th>4</th>\n",
       "      <td>Pokemon Red/Pokemon Blue</td>\n",
       "      <td>GB</td>\n",
       "      <td>1996.0</td>\n",
       "      <td>Role-Playing</td>\n",
       "      <td>11.27</td>\n",
       "      <td>8.89</td>\n",
       "      <td>10.22</td>\n",
       "      <td>1.00</td>\n",
       "      <td>NaN</td>\n",
       "      <td>NaN</td>\n",
       "      <td>NaN</td>\n",
       "    </tr>\n",
       "  </tbody>\n",
       "</table>\n",
       "</div>"
      ],
      "text/plain": [
       "                       Name Platform  Year_of_Release         Genre  NA_sales  \\\n",
       "0                Wii Sports      Wii           2006.0        Sports     41.36   \n",
       "1         Super Mario Bros.      NES           1985.0      Platform     29.08   \n",
       "2            Mario Kart Wii      Wii           2008.0        Racing     15.68   \n",
       "3         Wii Sports Resort      Wii           2009.0        Sports     15.61   \n",
       "4  Pokemon Red/Pokemon Blue       GB           1996.0  Role-Playing     11.27   \n",
       "\n",
       "   EU_sales  JP_sales  Other_sales  Critic_Score User_Score Rating  \n",
       "0     28.96      3.77         8.45          76.0          8      E  \n",
       "1      3.58      6.81         0.77           NaN        NaN    NaN  \n",
       "2     12.76      3.79         3.29          82.0        8.3      E  \n",
       "3     10.93      3.28         2.95          80.0          8      E  \n",
       "4      8.89     10.22         1.00           NaN        NaN    NaN  "
      ]
     },
     "execution_count": 2,
     "metadata": {},
     "output_type": "execute_result"
    }
   ],
   "source": [
    "try:\n",
    "    data = pd.read_csv('games.csv')\n",
    "except:\n",
    "    data = pd.read_csv('/datasets/games.csv')\n",
    "data.info()\n",
    "data.head()"
   ]
  },
  {
   "cell_type": "markdown",
   "id": "14349d56",
   "metadata": {},
   "source": [
    "## Предобработка данных"
   ]
  },
  {
   "cell_type": "code",
   "execution_count": 3,
   "id": "0bb71978",
   "metadata": {},
   "outputs": [],
   "source": [
    "#переименуем столбцы\n",
    "data.columns = data.columns.str.lower()"
   ]
  },
  {
   "cell_type": "code",
   "execution_count": 5,
   "id": "a02b84f1",
   "metadata": {},
   "outputs": [
    {
     "name": "stdout",
     "output_type": "stream",
     "text": [
      "      name platform  year_of_release genre  na_sales  eu_sales  jp_sales  \\\n",
      "659    NaN      GEN           1993.0   NaN      1.78      0.53      0.00   \n",
      "14244  NaN      GEN           1993.0   NaN      0.00      0.00      0.03   \n",
      "\n",
      "       other_sales  critic_score user_score rating  \n",
      "659           0.08           NaN        NaN    NaN  \n",
      "14244         0.00           NaN        NaN    NaN  \n"
     ]
    }
   ],
   "source": [
    "#удалим абсолютно пустые строки\n",
    "print(data.query('name.isna()'))\n",
    "data = data[data['name'].isna() != True]"
   ]
  },
  {
   "cell_type": "code",
   "execution_count": 6,
   "id": "cf22ab0f",
   "metadata": {},
   "outputs": [
    {
     "data": {
      "text/html": [
       "<div>\n",
       "<style scoped>\n",
       "    .dataframe tbody tr th:only-of-type {\n",
       "        vertical-align: middle;\n",
       "    }\n",
       "\n",
       "    .dataframe tbody tr th {\n",
       "        vertical-align: top;\n",
       "    }\n",
       "\n",
       "    .dataframe thead th {\n",
       "        text-align: right;\n",
       "    }\n",
       "</style>\n",
       "<table border=\"1\" class=\"dataframe\">\n",
       "  <thead>\n",
       "    <tr style=\"text-align: right;\">\n",
       "      <th></th>\n",
       "      <th>name</th>\n",
       "      <th>platform</th>\n",
       "      <th>year_of_release</th>\n",
       "      <th>genre</th>\n",
       "      <th>na_sales</th>\n",
       "      <th>eu_sales</th>\n",
       "      <th>jp_sales</th>\n",
       "      <th>other_sales</th>\n",
       "      <th>critic_score</th>\n",
       "      <th>user_score</th>\n",
       "      <th>rating</th>\n",
       "    </tr>\n",
       "  </thead>\n",
       "  <tbody>\n",
       "    <tr>\n",
       "      <th>0</th>\n",
       "      <td>Wii Sports</td>\n",
       "      <td>Wii</td>\n",
       "      <td>2006.0</td>\n",
       "      <td>Sports</td>\n",
       "      <td>41.36</td>\n",
       "      <td>28.96</td>\n",
       "      <td>3.77</td>\n",
       "      <td>8.45</td>\n",
       "      <td>76.0</td>\n",
       "      <td>8</td>\n",
       "      <td>E</td>\n",
       "    </tr>\n",
       "    <tr>\n",
       "      <th>2</th>\n",
       "      <td>Mario Kart Wii</td>\n",
       "      <td>Wii</td>\n",
       "      <td>2008.0</td>\n",
       "      <td>Racing</td>\n",
       "      <td>15.68</td>\n",
       "      <td>12.76</td>\n",
       "      <td>3.79</td>\n",
       "      <td>3.29</td>\n",
       "      <td>82.0</td>\n",
       "      <td>8.3</td>\n",
       "      <td>E</td>\n",
       "    </tr>\n",
       "    <tr>\n",
       "      <th>3</th>\n",
       "      <td>Wii Sports Resort</td>\n",
       "      <td>Wii</td>\n",
       "      <td>2009.0</td>\n",
       "      <td>Sports</td>\n",
       "      <td>15.61</td>\n",
       "      <td>10.93</td>\n",
       "      <td>3.28</td>\n",
       "      <td>2.95</td>\n",
       "      <td>80.0</td>\n",
       "      <td>8</td>\n",
       "      <td>E</td>\n",
       "    </tr>\n",
       "    <tr>\n",
       "      <th>6</th>\n",
       "      <td>New Super Mario Bros.</td>\n",
       "      <td>DS</td>\n",
       "      <td>2006.0</td>\n",
       "      <td>Platform</td>\n",
       "      <td>11.28</td>\n",
       "      <td>9.14</td>\n",
       "      <td>6.50</td>\n",
       "      <td>2.88</td>\n",
       "      <td>89.0</td>\n",
       "      <td>8.5</td>\n",
       "      <td>E</td>\n",
       "    </tr>\n",
       "    <tr>\n",
       "      <th>7</th>\n",
       "      <td>Wii Play</td>\n",
       "      <td>Wii</td>\n",
       "      <td>2006.0</td>\n",
       "      <td>Misc</td>\n",
       "      <td>13.96</td>\n",
       "      <td>9.18</td>\n",
       "      <td>2.93</td>\n",
       "      <td>2.84</td>\n",
       "      <td>58.0</td>\n",
       "      <td>6.6</td>\n",
       "      <td>E</td>\n",
       "    </tr>\n",
       "    <tr>\n",
       "      <th>...</th>\n",
       "      <td>...</td>\n",
       "      <td>...</td>\n",
       "      <td>...</td>\n",
       "      <td>...</td>\n",
       "      <td>...</td>\n",
       "      <td>...</td>\n",
       "      <td>...</td>\n",
       "      <td>...</td>\n",
       "      <td>...</td>\n",
       "      <td>...</td>\n",
       "      <td>...</td>\n",
       "    </tr>\n",
       "    <tr>\n",
       "      <th>16663</th>\n",
       "      <td>E.T. The Extra-Terrestrial</td>\n",
       "      <td>GBA</td>\n",
       "      <td>2001.0</td>\n",
       "      <td>Action</td>\n",
       "      <td>0.01</td>\n",
       "      <td>0.00</td>\n",
       "      <td>0.00</td>\n",
       "      <td>0.00</td>\n",
       "      <td>46.0</td>\n",
       "      <td>2.4</td>\n",
       "      <td>E</td>\n",
       "    </tr>\n",
       "    <tr>\n",
       "      <th>16673</th>\n",
       "      <td>Mortal Kombat: Deadly Alliance</td>\n",
       "      <td>GBA</td>\n",
       "      <td>2002.0</td>\n",
       "      <td>Fighting</td>\n",
       "      <td>0.01</td>\n",
       "      <td>0.00</td>\n",
       "      <td>0.00</td>\n",
       "      <td>0.00</td>\n",
       "      <td>81.0</td>\n",
       "      <td>8.8</td>\n",
       "      <td>M</td>\n",
       "    </tr>\n",
       "    <tr>\n",
       "      <th>16692</th>\n",
       "      <td>Metal Gear Solid V: Ground Zeroes</td>\n",
       "      <td>PC</td>\n",
       "      <td>2014.0</td>\n",
       "      <td>Action</td>\n",
       "      <td>0.00</td>\n",
       "      <td>0.01</td>\n",
       "      <td>0.00</td>\n",
       "      <td>0.00</td>\n",
       "      <td>80.0</td>\n",
       "      <td>7.6</td>\n",
       "      <td>M</td>\n",
       "    </tr>\n",
       "    <tr>\n",
       "      <th>16696</th>\n",
       "      <td>Breach</td>\n",
       "      <td>PC</td>\n",
       "      <td>2011.0</td>\n",
       "      <td>Shooter</td>\n",
       "      <td>0.01</td>\n",
       "      <td>0.00</td>\n",
       "      <td>0.00</td>\n",
       "      <td>0.00</td>\n",
       "      <td>61.0</td>\n",
       "      <td>5.8</td>\n",
       "      <td>T</td>\n",
       "    </tr>\n",
       "    <tr>\n",
       "      <th>16702</th>\n",
       "      <td>STORM: Frontline Nation</td>\n",
       "      <td>PC</td>\n",
       "      <td>2011.0</td>\n",
       "      <td>Strategy</td>\n",
       "      <td>0.00</td>\n",
       "      <td>0.01</td>\n",
       "      <td>0.00</td>\n",
       "      <td>0.00</td>\n",
       "      <td>60.0</td>\n",
       "      <td>7.2</td>\n",
       "      <td>E10+</td>\n",
       "    </tr>\n",
       "  </tbody>\n",
       "</table>\n",
       "<p>6947 rows × 11 columns</p>\n",
       "</div>"
      ],
      "text/plain": [
       "                                    name platform  year_of_release     genre  \\\n",
       "0                             Wii Sports      Wii           2006.0    Sports   \n",
       "2                         Mario Kart Wii      Wii           2008.0    Racing   \n",
       "3                      Wii Sports Resort      Wii           2009.0    Sports   \n",
       "6                  New Super Mario Bros.       DS           2006.0  Platform   \n",
       "7                               Wii Play      Wii           2006.0      Misc   \n",
       "...                                  ...      ...              ...       ...   \n",
       "16663         E.T. The Extra-Terrestrial      GBA           2001.0    Action   \n",
       "16673     Mortal Kombat: Deadly Alliance      GBA           2002.0  Fighting   \n",
       "16692  Metal Gear Solid V: Ground Zeroes       PC           2014.0    Action   \n",
       "16696                             Breach       PC           2011.0   Shooter   \n",
       "16702            STORM: Frontline Nation       PC           2011.0  Strategy   \n",
       "\n",
       "       na_sales  eu_sales  jp_sales  other_sales  critic_score user_score  \\\n",
       "0         41.36     28.96      3.77         8.45          76.0          8   \n",
       "2         15.68     12.76      3.79         3.29          82.0        8.3   \n",
       "3         15.61     10.93      3.28         2.95          80.0          8   \n",
       "6         11.28      9.14      6.50         2.88          89.0        8.5   \n",
       "7         13.96      9.18      2.93         2.84          58.0        6.6   \n",
       "...         ...       ...       ...          ...           ...        ...   \n",
       "16663      0.01      0.00      0.00         0.00          46.0        2.4   \n",
       "16673      0.01      0.00      0.00         0.00          81.0        8.8   \n",
       "16692      0.00      0.01      0.00         0.00          80.0        7.6   \n",
       "16696      0.01      0.00      0.00         0.00          61.0        5.8   \n",
       "16702      0.00      0.01      0.00         0.00          60.0        7.2   \n",
       "\n",
       "      rating  \n",
       "0          E  \n",
       "2          E  \n",
       "3          E  \n",
       "6          E  \n",
       "7          E  \n",
       "...      ...  \n",
       "16663      E  \n",
       "16673      M  \n",
       "16692      M  \n",
       "16696      T  \n",
       "16702   E10+  \n",
       "\n",
       "[6947 rows x 11 columns]"
      ]
     },
     "execution_count": 6,
     "metadata": {},
     "output_type": "execute_result"
    }
   ],
   "source": [
    "data.query('critic_score.isna() and user_score.isna() and rating.isna()')\n",
    "#предположим, что рейтинги игры кореллируются с ее продажами\n",
    "non_null_data = data.query('not critic_score.isna() and not user_score.isna() and not rating.isna() and user_score != \"tbd\"')\n",
    "non_null_data\n",
    "#посмотрим на полностью заполненные данные и там где нет ТБД"
   ]
  },
  {
   "cell_type": "code",
   "execution_count": 7,
   "id": "06e60ead",
   "metadata": {},
   "outputs": [
    {
     "name": "stderr",
     "output_type": "stream",
     "text": [
      "/tmp/ipykernel_82/2863358091.py:1: SettingWithCopyWarning: \n",
      "A value is trying to be set on a copy of a slice from a DataFrame.\n",
      "Try using .loc[row_indexer,col_indexer] = value instead\n",
      "\n",
      "See the caveats in the documentation: https://pandas.pydata.org/pandas-docs/stable/user_guide/indexing.html#returning-a-view-versus-a-copy\n",
      "  non_null_data['user_score'] = non_null_data['user_score'].astype('float')\n"
     ]
    },
    {
     "data": {
      "text/html": [
       "<div>\n",
       "<style scoped>\n",
       "    .dataframe tbody tr th:only-of-type {\n",
       "        vertical-align: middle;\n",
       "    }\n",
       "\n",
       "    .dataframe tbody tr th {\n",
       "        vertical-align: top;\n",
       "    }\n",
       "\n",
       "    .dataframe thead th {\n",
       "        text-align: right;\n",
       "    }\n",
       "</style>\n",
       "<table border=\"1\" class=\"dataframe\">\n",
       "  <thead>\n",
       "    <tr style=\"text-align: right;\">\n",
       "      <th></th>\n",
       "      <th>year_of_release</th>\n",
       "      <th>na_sales</th>\n",
       "      <th>eu_sales</th>\n",
       "      <th>jp_sales</th>\n",
       "      <th>other_sales</th>\n",
       "      <th>critic_score</th>\n",
       "      <th>user_score</th>\n",
       "    </tr>\n",
       "  </thead>\n",
       "  <tbody>\n",
       "    <tr>\n",
       "      <th>year_of_release</th>\n",
       "      <td>1.000000</td>\n",
       "      <td>-0.016281</td>\n",
       "      <td>0.041319</td>\n",
       "      <td>-0.038469</td>\n",
       "      <td>0.042274</td>\n",
       "      <td>-0.007867</td>\n",
       "      <td>-0.254104</td>\n",
       "    </tr>\n",
       "    <tr>\n",
       "      <th>na_sales</th>\n",
       "      <td>-0.016281</td>\n",
       "      <td>1.000000</td>\n",
       "      <td>0.840107</td>\n",
       "      <td>0.467366</td>\n",
       "      <td>0.726972</td>\n",
       "      <td>0.233994</td>\n",
       "      <td>0.086496</td>\n",
       "    </tr>\n",
       "    <tr>\n",
       "      <th>eu_sales</th>\n",
       "      <td>0.041319</td>\n",
       "      <td>0.840107</td>\n",
       "      <td>1.000000</td>\n",
       "      <td>0.519173</td>\n",
       "      <td>0.716320</td>\n",
       "      <td>0.212247</td>\n",
       "      <td>0.055729</td>\n",
       "    </tr>\n",
       "    <tr>\n",
       "      <th>jp_sales</th>\n",
       "      <td>-0.038469</td>\n",
       "      <td>0.467366</td>\n",
       "      <td>0.519173</td>\n",
       "      <td>1.000000</td>\n",
       "      <td>0.394378</td>\n",
       "      <td>0.146299</td>\n",
       "      <td>0.126711</td>\n",
       "    </tr>\n",
       "    <tr>\n",
       "      <th>other_sales</th>\n",
       "      <td>0.042274</td>\n",
       "      <td>0.726972</td>\n",
       "      <td>0.716320</td>\n",
       "      <td>0.394378</td>\n",
       "      <td>1.000000</td>\n",
       "      <td>0.191423</td>\n",
       "      <td>0.057342</td>\n",
       "    </tr>\n",
       "    <tr>\n",
       "      <th>critic_score</th>\n",
       "      <td>-0.007867</td>\n",
       "      <td>0.233994</td>\n",
       "      <td>0.212247</td>\n",
       "      <td>0.146299</td>\n",
       "      <td>0.191423</td>\n",
       "      <td>1.000000</td>\n",
       "      <td>0.582061</td>\n",
       "    </tr>\n",
       "    <tr>\n",
       "      <th>user_score</th>\n",
       "      <td>-0.254104</td>\n",
       "      <td>0.086496</td>\n",
       "      <td>0.055729</td>\n",
       "      <td>0.126711</td>\n",
       "      <td>0.057342</td>\n",
       "      <td>0.582061</td>\n",
       "      <td>1.000000</td>\n",
       "    </tr>\n",
       "  </tbody>\n",
       "</table>\n",
       "</div>"
      ],
      "text/plain": [
       "                 year_of_release  na_sales  eu_sales  jp_sales  other_sales  \\\n",
       "year_of_release         1.000000 -0.016281  0.041319 -0.038469     0.042274   \n",
       "na_sales               -0.016281  1.000000  0.840107  0.467366     0.726972   \n",
       "eu_sales                0.041319  0.840107  1.000000  0.519173     0.716320   \n",
       "jp_sales               -0.038469  0.467366  0.519173  1.000000     0.394378   \n",
       "other_sales             0.042274  0.726972  0.716320  0.394378     1.000000   \n",
       "critic_score           -0.007867  0.233994  0.212247  0.146299     0.191423   \n",
       "user_score             -0.254104  0.086496  0.055729  0.126711     0.057342   \n",
       "\n",
       "                 critic_score  user_score  \n",
       "year_of_release     -0.007867   -0.254104  \n",
       "na_sales             0.233994    0.086496  \n",
       "eu_sales             0.212247    0.055729  \n",
       "jp_sales             0.146299    0.126711  \n",
       "other_sales          0.191423    0.057342  \n",
       "critic_score         1.000000    0.582061  \n",
       "user_score           0.582061    1.000000  "
      ]
     },
     "execution_count": 7,
     "metadata": {},
     "output_type": "execute_result"
    }
   ],
   "source": [
    "non_null_data['user_score'] = non_null_data['user_score'].astype('float')\n",
    "non_null_data.corr()"
   ]
  },
  {
   "cell_type": "markdown",
   "id": "dab3ed5f",
   "metadata": {},
   "source": [
    "TBD значит \"To be determind\", значит рейтинг пока что не рассчитался. С продажами корелляция слабая, но оценки игроков и критиков кореллируются между собой. Хоть и присутствует средняя корелляция, заполнять пропуски будет некорректно, поэтому оставим как есть. Значение \"TBD\" заменим на пропуски для перевода столбца в тип float"
   ]
  },
  {
   "cell_type": "code",
   "execution_count": 9,
   "id": "67b50cdf",
   "metadata": {},
   "outputs": [],
   "source": [
    "data['rating'] = data['rating'].fillna('Unknown')\n",
    "data.loc[data['user_score'] == 'tbd', 'user_score'] = np.NaN\n",
    "data = data.dropna(subset = ['year_of_release'])\n",
    "#удаляем и заполняем все пропуски после проведенного анализа.\n",
    "#пропущенные годы не восстановить, но их не так много, поэтому удалим"
   ]
  },
  {
   "cell_type": "code",
   "execution_count": 10,
   "id": "b06abffa",
   "metadata": {},
   "outputs": [],
   "source": [
    "data['year_of_release'] = data['year_of_release'].astype('int')\n",
    "data['critic_score'] = pd.to_numeric(data['critic_score'], errors = 'ignore')\n",
    "data['user_score'] = pd.to_numeric(data['user_score'], errors = 'ignore')"
   ]
  },
  {
   "cell_type": "code",
   "execution_count": 11,
   "id": "1f1d9c6e",
   "metadata": {
    "scrolled": true
   },
   "outputs": [
    {
     "name": "stdout",
     "output_type": "stream",
     "text": [
      "<class 'pandas.core.frame.DataFrame'>\n",
      "Int64Index: 16444 entries, 0 to 16714\n",
      "Data columns (total 11 columns):\n",
      " #   Column           Non-Null Count  Dtype  \n",
      "---  ------           --------------  -----  \n",
      " 0   name             16444 non-null  object \n",
      " 1   platform         16444 non-null  object \n",
      " 2   year_of_release  16444 non-null  int64  \n",
      " 3   genre            16444 non-null  object \n",
      " 4   na_sales         16444 non-null  float64\n",
      " 5   eu_sales         16444 non-null  float64\n",
      " 6   jp_sales         16444 non-null  float64\n",
      " 7   other_sales      16444 non-null  float64\n",
      " 8   critic_score     7983 non-null   float64\n",
      " 9   user_score       7463 non-null   float64\n",
      " 10  rating           16444 non-null  object \n",
      "dtypes: float64(6), int64(1), object(4)\n",
      "memory usage: 1.5+ MB\n"
     ]
    }
   ],
   "source": [
    "data.info()"
   ]
  },
  {
   "cell_type": "code",
   "execution_count": 12,
   "id": "21ff92c9",
   "metadata": {},
   "outputs": [
    {
     "data": {
      "text/html": [
       "<div>\n",
       "<style scoped>\n",
       "    .dataframe tbody tr th:only-of-type {\n",
       "        vertical-align: middle;\n",
       "    }\n",
       "\n",
       "    .dataframe tbody tr th {\n",
       "        vertical-align: top;\n",
       "    }\n",
       "\n",
       "    .dataframe thead th {\n",
       "        text-align: right;\n",
       "    }\n",
       "</style>\n",
       "<table border=\"1\" class=\"dataframe\">\n",
       "  <thead>\n",
       "    <tr style=\"text-align: right;\">\n",
       "      <th></th>\n",
       "      <th>name</th>\n",
       "      <th>platform</th>\n",
       "      <th>year_of_release</th>\n",
       "      <th>genre</th>\n",
       "      <th>na_sales</th>\n",
       "      <th>eu_sales</th>\n",
       "      <th>jp_sales</th>\n",
       "      <th>other_sales</th>\n",
       "      <th>critic_score</th>\n",
       "      <th>user_score</th>\n",
       "      <th>rating</th>\n",
       "      <th>total_sales</th>\n",
       "    </tr>\n",
       "  </thead>\n",
       "  <tbody>\n",
       "    <tr>\n",
       "      <th>0</th>\n",
       "      <td>Wii Sports</td>\n",
       "      <td>Wii</td>\n",
       "      <td>2006</td>\n",
       "      <td>Sports</td>\n",
       "      <td>41.36</td>\n",
       "      <td>28.96</td>\n",
       "      <td>3.77</td>\n",
       "      <td>8.45</td>\n",
       "      <td>76.0</td>\n",
       "      <td>8.0</td>\n",
       "      <td>E</td>\n",
       "      <td>82.54</td>\n",
       "    </tr>\n",
       "    <tr>\n",
       "      <th>1</th>\n",
       "      <td>Super Mario Bros.</td>\n",
       "      <td>NES</td>\n",
       "      <td>1985</td>\n",
       "      <td>Platform</td>\n",
       "      <td>29.08</td>\n",
       "      <td>3.58</td>\n",
       "      <td>6.81</td>\n",
       "      <td>0.77</td>\n",
       "      <td>NaN</td>\n",
       "      <td>NaN</td>\n",
       "      <td>Unknown</td>\n",
       "      <td>40.24</td>\n",
       "    </tr>\n",
       "    <tr>\n",
       "      <th>2</th>\n",
       "      <td>Mario Kart Wii</td>\n",
       "      <td>Wii</td>\n",
       "      <td>2008</td>\n",
       "      <td>Racing</td>\n",
       "      <td>15.68</td>\n",
       "      <td>12.76</td>\n",
       "      <td>3.79</td>\n",
       "      <td>3.29</td>\n",
       "      <td>82.0</td>\n",
       "      <td>8.3</td>\n",
       "      <td>E</td>\n",
       "      <td>35.52</td>\n",
       "    </tr>\n",
       "    <tr>\n",
       "      <th>3</th>\n",
       "      <td>Wii Sports Resort</td>\n",
       "      <td>Wii</td>\n",
       "      <td>2009</td>\n",
       "      <td>Sports</td>\n",
       "      <td>15.61</td>\n",
       "      <td>10.93</td>\n",
       "      <td>3.28</td>\n",
       "      <td>2.95</td>\n",
       "      <td>80.0</td>\n",
       "      <td>8.0</td>\n",
       "      <td>E</td>\n",
       "      <td>32.77</td>\n",
       "    </tr>\n",
       "    <tr>\n",
       "      <th>4</th>\n",
       "      <td>Pokemon Red/Pokemon Blue</td>\n",
       "      <td>GB</td>\n",
       "      <td>1996</td>\n",
       "      <td>Role-Playing</td>\n",
       "      <td>11.27</td>\n",
       "      <td>8.89</td>\n",
       "      <td>10.22</td>\n",
       "      <td>1.00</td>\n",
       "      <td>NaN</td>\n",
       "      <td>NaN</td>\n",
       "      <td>Unknown</td>\n",
       "      <td>31.38</td>\n",
       "    </tr>\n",
       "    <tr>\n",
       "      <th>...</th>\n",
       "      <td>...</td>\n",
       "      <td>...</td>\n",
       "      <td>...</td>\n",
       "      <td>...</td>\n",
       "      <td>...</td>\n",
       "      <td>...</td>\n",
       "      <td>...</td>\n",
       "      <td>...</td>\n",
       "      <td>...</td>\n",
       "      <td>...</td>\n",
       "      <td>...</td>\n",
       "      <td>...</td>\n",
       "    </tr>\n",
       "    <tr>\n",
       "      <th>16710</th>\n",
       "      <td>Samurai Warriors: Sanada Maru</td>\n",
       "      <td>PS3</td>\n",
       "      <td>2016</td>\n",
       "      <td>Action</td>\n",
       "      <td>0.00</td>\n",
       "      <td>0.00</td>\n",
       "      <td>0.01</td>\n",
       "      <td>0.00</td>\n",
       "      <td>NaN</td>\n",
       "      <td>NaN</td>\n",
       "      <td>Unknown</td>\n",
       "      <td>0.01</td>\n",
       "    </tr>\n",
       "    <tr>\n",
       "      <th>16711</th>\n",
       "      <td>LMA Manager 2007</td>\n",
       "      <td>X360</td>\n",
       "      <td>2006</td>\n",
       "      <td>Sports</td>\n",
       "      <td>0.00</td>\n",
       "      <td>0.01</td>\n",
       "      <td>0.00</td>\n",
       "      <td>0.00</td>\n",
       "      <td>NaN</td>\n",
       "      <td>NaN</td>\n",
       "      <td>Unknown</td>\n",
       "      <td>0.01</td>\n",
       "    </tr>\n",
       "    <tr>\n",
       "      <th>16712</th>\n",
       "      <td>Haitaka no Psychedelica</td>\n",
       "      <td>PSV</td>\n",
       "      <td>2016</td>\n",
       "      <td>Adventure</td>\n",
       "      <td>0.00</td>\n",
       "      <td>0.00</td>\n",
       "      <td>0.01</td>\n",
       "      <td>0.00</td>\n",
       "      <td>NaN</td>\n",
       "      <td>NaN</td>\n",
       "      <td>Unknown</td>\n",
       "      <td>0.01</td>\n",
       "    </tr>\n",
       "    <tr>\n",
       "      <th>16713</th>\n",
       "      <td>Spirits &amp; Spells</td>\n",
       "      <td>GBA</td>\n",
       "      <td>2003</td>\n",
       "      <td>Platform</td>\n",
       "      <td>0.01</td>\n",
       "      <td>0.00</td>\n",
       "      <td>0.00</td>\n",
       "      <td>0.00</td>\n",
       "      <td>NaN</td>\n",
       "      <td>NaN</td>\n",
       "      <td>Unknown</td>\n",
       "      <td>0.01</td>\n",
       "    </tr>\n",
       "    <tr>\n",
       "      <th>16714</th>\n",
       "      <td>Winning Post 8 2016</td>\n",
       "      <td>PSV</td>\n",
       "      <td>2016</td>\n",
       "      <td>Simulation</td>\n",
       "      <td>0.00</td>\n",
       "      <td>0.00</td>\n",
       "      <td>0.01</td>\n",
       "      <td>0.00</td>\n",
       "      <td>NaN</td>\n",
       "      <td>NaN</td>\n",
       "      <td>Unknown</td>\n",
       "      <td>0.01</td>\n",
       "    </tr>\n",
       "  </tbody>\n",
       "</table>\n",
       "<p>16444 rows × 12 columns</p>\n",
       "</div>"
      ],
      "text/plain": [
       "                                name platform  year_of_release         genre  \\\n",
       "0                         Wii Sports      Wii             2006        Sports   \n",
       "1                  Super Mario Bros.      NES             1985      Platform   \n",
       "2                     Mario Kart Wii      Wii             2008        Racing   \n",
       "3                  Wii Sports Resort      Wii             2009        Sports   \n",
       "4           Pokemon Red/Pokemon Blue       GB             1996  Role-Playing   \n",
       "...                              ...      ...              ...           ...   \n",
       "16710  Samurai Warriors: Sanada Maru      PS3             2016        Action   \n",
       "16711               LMA Manager 2007     X360             2006        Sports   \n",
       "16712        Haitaka no Psychedelica      PSV             2016     Adventure   \n",
       "16713               Spirits & Spells      GBA             2003      Platform   \n",
       "16714            Winning Post 8 2016      PSV             2016    Simulation   \n",
       "\n",
       "       na_sales  eu_sales  jp_sales  other_sales  critic_score  user_score  \\\n",
       "0         41.36     28.96      3.77         8.45          76.0         8.0   \n",
       "1         29.08      3.58      6.81         0.77           NaN         NaN   \n",
       "2         15.68     12.76      3.79         3.29          82.0         8.3   \n",
       "3         15.61     10.93      3.28         2.95          80.0         8.0   \n",
       "4         11.27      8.89     10.22         1.00           NaN         NaN   \n",
       "...         ...       ...       ...          ...           ...         ...   \n",
       "16710      0.00      0.00      0.01         0.00           NaN         NaN   \n",
       "16711      0.00      0.01      0.00         0.00           NaN         NaN   \n",
       "16712      0.00      0.00      0.01         0.00           NaN         NaN   \n",
       "16713      0.01      0.00      0.00         0.00           NaN         NaN   \n",
       "16714      0.00      0.00      0.01         0.00           NaN         NaN   \n",
       "\n",
       "        rating  total_sales  \n",
       "0            E        82.54  \n",
       "1      Unknown        40.24  \n",
       "2            E        35.52  \n",
       "3            E        32.77  \n",
       "4      Unknown        31.38  \n",
       "...        ...          ...  \n",
       "16710  Unknown         0.01  \n",
       "16711  Unknown         0.01  \n",
       "16712  Unknown         0.01  \n",
       "16713  Unknown         0.01  \n",
       "16714  Unknown         0.01  \n",
       "\n",
       "[16444 rows x 12 columns]"
      ]
     },
     "execution_count": 12,
     "metadata": {},
     "output_type": "execute_result"
    }
   ],
   "source": [
    "data['total_sales'] = data[['na_sales','eu_sales','jp_sales', 'other_sales']].sum(axis = 1)\n",
    "data"
   ]
  },
  {
   "cell_type": "markdown",
   "id": "4d7282b0",
   "metadata": {},
   "source": [
    "## **Исследовательских анализ данных**"
   ]
  },
  {
   "cell_type": "markdown",
   "id": "a5c7e2f7",
   "metadata": {},
   "source": [
    "### Cколько игр выпускалось в разные годы"
   ]
  },
  {
   "cell_type": "code",
   "execution_count": 13,
   "id": "23dd96d9",
   "metadata": {},
   "outputs": [
    {
     "data": {
      "image/png": "[encoded data removed]",
      "text/plain": [
       "<Figure size 864x360 with 1 Axes>"
      ]
     },
     "metadata": {
      "needs_background": "light"
     },
     "output_type": "display_data"
    }
   ],
   "source": [
    "data.pivot_table(index = 'year_of_release', values = 'name', aggfunc = 'count').reset_index() \\\n",
    ".plot(kind = 'bar', \n",
    "      x = 'year_of_release', \n",
    "      y ='name', \n",
    "      xlabel = 'Год', \n",
    "      ylabel = 'Количество игр', \n",
    "      figsize = (12,5), \n",
    "      legend = None) \\\n",
    ".set_title('Динамика количества выпущенных игр по годам')\n",
    "plt.show()"
   ]
  },
  {
   "cell_type": "markdown",
   "id": "04b717ec",
   "metadata": {},
   "source": [
    "С 2005 по 2010 гг. наблюдается значительный подъем гейм-индустрии и достижение наибольших объемов производства игр. Вероятно, это связано с появлением консолей нового поколения таких как PS3 и XBox 360.\n",
    "\n",
    "Для нашего анализа логично взять период с 2013 г., когда прошел пик, спад и с подъема начался новый цикл"
   ]
  },
  {
   "cell_type": "markdown",
   "id": "9bf4e9f7",
   "metadata": {},
   "source": [
    "### За какой характерный срок появляются новые и исчезают старые платформы"
   ]
  },
  {
   "cell_type": "code",
   "execution_count": 14,
   "id": "d919b097",
   "metadata": {},
   "outputs": [
    {
     "data": {
      "text/html": [
       "<div>\n",
       "<style scoped>\n",
       "    .dataframe tbody tr th:only-of-type {\n",
       "        vertical-align: middle;\n",
       "    }\n",
       "\n",
       "    .dataframe tbody tr th {\n",
       "        vertical-align: top;\n",
       "    }\n",
       "\n",
       "    .dataframe thead th {\n",
       "        text-align: right;\n",
       "    }\n",
       "</style>\n",
       "<table border=\"1\" class=\"dataframe\">\n",
       "  <thead>\n",
       "    <tr style=\"text-align: right;\">\n",
       "      <th></th>\n",
       "      <th>platform</th>\n",
       "      <th>years</th>\n",
       "    </tr>\n",
       "  </thead>\n",
       "  <tbody>\n",
       "    <tr>\n",
       "      <th>14</th>\n",
       "      <td>PC</td>\n",
       "      <td>31</td>\n",
       "    </tr>\n",
       "    <tr>\n",
       "      <th>3</th>\n",
       "      <td>DS</td>\n",
       "      <td>28</td>\n",
       "    </tr>\n",
       "    <tr>\n",
       "      <th>2</th>\n",
       "      <td>GB</td>\n",
       "      <td>13</td>\n",
       "    </tr>\n",
       "    <tr>\n",
       "      <th>4</th>\n",
       "      <td>X360</td>\n",
       "      <td>11</td>\n",
       "    </tr>\n",
       "    <tr>\n",
       "      <th>6</th>\n",
       "      <td>PS2</td>\n",
       "      <td>11</td>\n",
       "    </tr>\n",
       "    <tr>\n",
       "      <th>...</th>\n",
       "      <td>...</td>\n",
       "      <td>...</td>\n",
       "    </tr>\n",
       "    <tr>\n",
       "      <th>24</th>\n",
       "      <td>SCD</td>\n",
       "      <td>1</td>\n",
       "    </tr>\n",
       "    <tr>\n",
       "      <th>28</th>\n",
       "      <td>3DO</td>\n",
       "      <td>1</td>\n",
       "    </tr>\n",
       "    <tr>\n",
       "      <th>27</th>\n",
       "      <td>TG16</td>\n",
       "      <td>0</td>\n",
       "    </tr>\n",
       "    <tr>\n",
       "      <th>29</th>\n",
       "      <td>GG</td>\n",
       "      <td>0</td>\n",
       "    </tr>\n",
       "    <tr>\n",
       "      <th>30</th>\n",
       "      <td>PCFX</td>\n",
       "      <td>0</td>\n",
       "    </tr>\n",
       "  </tbody>\n",
       "</table>\n",
       "<p>31 rows × 2 columns</p>\n",
       "</div>"
      ],
      "text/plain": [
       "   platform  years\n",
       "14       PC     31\n",
       "3        DS     28\n",
       "2        GB     13\n",
       "4      X360     11\n",
       "6       PS2     11\n",
       "..      ...    ...\n",
       "24      SCD      1\n",
       "28      3DO      1\n",
       "27     TG16      0\n",
       "29       GG      0\n",
       "30     PCFX      0\n",
       "\n",
       "[31 rows x 2 columns]"
      ]
     },
     "execution_count": 14,
     "metadata": {},
     "output_type": "execute_result"
    }
   ],
   "source": [
    "df = []\n",
    "for platform in data['platform'].unique():\n",
    "    df.append({'platform' : platform, 'years' : data.loc[data['platform'] == platform, 'year_of_release'].max() \n",
    "    - data.loc[data['platform'] == platform, 'year_of_release'].min()})\n",
    "df = pd.DataFrame(df)\n",
    "df.sort_values(by = 'years', ascending = False)"
   ]
  },
  {
   "cell_type": "markdown",
   "id": "7cc92191",
   "metadata": {},
   "source": [
    "Посмотрим за какой характерный срок появляются новые и исчезают старые платформы. Можно сказать, что срок жизни достаточно успешной плафтормы составляет 5-10 лет. Чем она успешнее и чем дольше не будут появляться новые поколения или инновации конкурентов, тем дольше она просуществует. В случае же провала о ней будут помнить лишь пару лет. Исключения составляют лишь Nintendo DS и ПК. "
   ]
  },
  {
   "cell_type": "markdown",
   "id": "7f6499c3",
   "metadata": {},
   "source": [
    "### Какие платформы лидируют по продажам, растут или падают"
   ]
  },
  {
   "cell_type": "code",
   "execution_count": 15,
   "id": "2a5b6a04",
   "metadata": {},
   "outputs": [
    {
     "data": {
      "text/html": [
       "<div>\n",
       "<style scoped>\n",
       "    .dataframe tbody tr th:only-of-type {\n",
       "        vertical-align: middle;\n",
       "    }\n",
       "\n",
       "    .dataframe tbody tr th {\n",
       "        vertical-align: top;\n",
       "    }\n",
       "\n",
       "    .dataframe thead th {\n",
       "        text-align: right;\n",
       "    }\n",
       "</style>\n",
       "<table border=\"1\" class=\"dataframe\">\n",
       "  <thead>\n",
       "    <tr style=\"text-align: right;\">\n",
       "      <th></th>\n",
       "      <th>total_sales</th>\n",
       "    </tr>\n",
       "    <tr>\n",
       "      <th>platform</th>\n",
       "      <th></th>\n",
       "    </tr>\n",
       "  </thead>\n",
       "  <tbody>\n",
       "    <tr>\n",
       "      <th>PS2</th>\n",
       "      <td>1233.56</td>\n",
       "    </tr>\n",
       "    <tr>\n",
       "      <th>X360</th>\n",
       "      <td>961.24</td>\n",
       "    </tr>\n",
       "    <tr>\n",
       "      <th>PS3</th>\n",
       "      <td>931.34</td>\n",
       "    </tr>\n",
       "    <tr>\n",
       "      <th>Wii</th>\n",
       "      <td>891.18</td>\n",
       "    </tr>\n",
       "    <tr>\n",
       "      <th>DS</th>\n",
       "      <td>802.78</td>\n",
       "    </tr>\n",
       "  </tbody>\n",
       "</table>\n",
       "</div>"
      ],
      "text/plain": [
       "          total_sales\n",
       "platform             \n",
       "PS2           1233.56\n",
       "X360           961.24\n",
       "PS3            931.34\n",
       "Wii            891.18\n",
       "DS             802.78"
      ]
     },
     "execution_count": 15,
     "metadata": {},
     "output_type": "execute_result"
    }
   ],
   "source": [
    "data.pivot_table(index = 'platform', values = 'total_sales', aggfunc = 'sum')\\\n",
    ".sort_values(by = 'total_sales', ascending = False).head(5)"
   ]
  },
  {
   "cell_type": "markdown",
   "id": "d1023b80",
   "metadata": {},
   "source": [
    "В принципе за все время больше всего продаж оказалось у PS2. Для нашего анализа это не особо актуально, тк это устаревшее поколение, но в целом это свидетельствует о популяности компании и лояльности к ней пользователей."
   ]
  },
  {
   "cell_type": "markdown",
   "id": "41576ed2",
   "metadata": {},
   "source": [
    "Посмотрим на продажи всех платформ за выбранный нами отчетный период"
   ]
  },
  {
   "cell_type": "code",
   "execution_count": 16,
   "id": "76192690",
   "metadata": {
    "scrolled": true
   },
   "outputs": [
    {
     "data": {
      "text/html": [
       "<div>\n",
       "<style scoped>\n",
       "    .dataframe tbody tr th:only-of-type {\n",
       "        vertical-align: middle;\n",
       "    }\n",
       "\n",
       "    .dataframe tbody tr th {\n",
       "        vertical-align: top;\n",
       "    }\n",
       "\n",
       "    .dataframe thead th {\n",
       "        text-align: right;\n",
       "    }\n",
       "</style>\n",
       "<table border=\"1\" class=\"dataframe\">\n",
       "  <thead>\n",
       "    <tr style=\"text-align: right;\">\n",
       "      <th></th>\n",
       "      <th>platform</th>\n",
       "      <th>sum</th>\n",
       "      <th>count</th>\n",
       "      <th>median</th>\n",
       "    </tr>\n",
       "  </thead>\n",
       "  <tbody>\n",
       "    <tr>\n",
       "      <th>4</th>\n",
       "      <td>PS4</td>\n",
       "      <td>314.14</td>\n",
       "      <td>392</td>\n",
       "      <td>0.200</td>\n",
       "    </tr>\n",
       "    <tr>\n",
       "      <th>3</th>\n",
       "      <td>PS3</td>\n",
       "      <td>181.43</td>\n",
       "      <td>345</td>\n",
       "      <td>0.150</td>\n",
       "    </tr>\n",
       "    <tr>\n",
       "      <th>10</th>\n",
       "      <td>XOne</td>\n",
       "      <td>159.32</td>\n",
       "      <td>247</td>\n",
       "      <td>0.220</td>\n",
       "    </tr>\n",
       "    <tr>\n",
       "      <th>0</th>\n",
       "      <td>3DS</td>\n",
       "      <td>143.25</td>\n",
       "      <td>303</td>\n",
       "      <td>0.090</td>\n",
       "    </tr>\n",
       "    <tr>\n",
       "      <th>9</th>\n",
       "      <td>X360</td>\n",
       "      <td>136.80</td>\n",
       "      <td>186</td>\n",
       "      <td>0.265</td>\n",
       "    </tr>\n",
       "    <tr>\n",
       "      <th>...</th>\n",
       "      <td>...</td>\n",
       "      <td>...</td>\n",
       "      <td>...</td>\n",
       "      <td>...</td>\n",
       "    </tr>\n",
       "    <tr>\n",
       "      <th>2</th>\n",
       "      <td>PC</td>\n",
       "      <td>39.43</td>\n",
       "      <td>189</td>\n",
       "      <td>0.080</td>\n",
       "    </tr>\n",
       "    <tr>\n",
       "      <th>6</th>\n",
       "      <td>PSV</td>\n",
       "      <td>32.99</td>\n",
       "      <td>358</td>\n",
       "      <td>0.040</td>\n",
       "    </tr>\n",
       "    <tr>\n",
       "      <th>7</th>\n",
       "      <td>Wii</td>\n",
       "      <td>13.66</td>\n",
       "      <td>23</td>\n",
       "      <td>0.180</td>\n",
       "    </tr>\n",
       "    <tr>\n",
       "      <th>5</th>\n",
       "      <td>PSP</td>\n",
       "      <td>3.50</td>\n",
       "      <td>67</td>\n",
       "      <td>0.020</td>\n",
       "    </tr>\n",
       "    <tr>\n",
       "      <th>1</th>\n",
       "      <td>DS</td>\n",
       "      <td>1.54</td>\n",
       "      <td>8</td>\n",
       "      <td>0.150</td>\n",
       "    </tr>\n",
       "  </tbody>\n",
       "</table>\n",
       "<p>11 rows × 4 columns</p>\n",
       "</div>"
      ],
      "text/plain": [
       "   platform     sum  count  median\n",
       "4       PS4  314.14    392   0.200\n",
       "3       PS3  181.43    345   0.150\n",
       "10     XOne  159.32    247   0.220\n",
       "0       3DS  143.25    303   0.090\n",
       "9      X360  136.80    186   0.265\n",
       "..      ...     ...    ...     ...\n",
       "2        PC   39.43    189   0.080\n",
       "6       PSV   32.99    358   0.040\n",
       "7       Wii   13.66     23   0.180\n",
       "5       PSP    3.50     67   0.020\n",
       "1        DS    1.54      8   0.150\n",
       "\n",
       "[11 rows x 4 columns]"
      ]
     },
     "execution_count": 16,
     "metadata": {},
     "output_type": "execute_result"
    }
   ],
   "source": [
    "data_new = data.query('year_of_release >= 2013')\n",
    "data_newest = data_new.pivot_table(index = 'platform', values = 'total_sales', \\\n",
    "                        aggfunc = ['sum','count','median']).reset_index()\n",
    "data_newest.columns = ['platform', 'sum','count','median']\n",
    "data_newest.sort_values(by = 'sum', ascending = False)\n",
    "#смотрим на продажи за последний период"
   ]
  },
  {
   "cell_type": "code",
   "execution_count": 18,
   "id": "850043de",
   "metadata": {},
   "outputs": [
    {
     "data": {
      "image/png": "[encoded data removed]",
      "text/plain": [
       "<Figure size 1080x360 with 1 Axes>"
      ]
     },
     "metadata": {
      "needs_background": "light"
     },
     "output_type": "display_data"
    }
   ],
   "source": [
    "ax = data_new.pivot_table(index = 'year_of_release', columns = 'platform', \\\n",
    "                     values = 'total_sales', aggfunc = 'sum') \\\n",
    "                        .plot(style='o-', grid = True, figsize = (15,5))\n",
    "ax.locator_params(integer=True)\n",
    "plt.title('Динамика продаж игр по платформам с 2013 по 2016 гг.')\n",
    "plt.xlabel('Год')\n",
    "plt.ylabel('Проданных копий, млн')\n",
    "plt.show()"
   ]
  },
  {
   "cell_type": "code",
   "execution_count": 19,
   "id": "87241998",
   "metadata": {},
   "outputs": [
    {
     "data": {
      "text/html": [
       "<div>\n",
       "<style scoped>\n",
       "    .dataframe tbody tr th:only-of-type {\n",
       "        vertical-align: middle;\n",
       "    }\n",
       "\n",
       "    .dataframe tbody tr th {\n",
       "        vertical-align: top;\n",
       "    }\n",
       "\n",
       "    .dataframe thead th {\n",
       "        text-align: right;\n",
       "    }\n",
       "</style>\n",
       "<table border=\"1\" class=\"dataframe\">\n",
       "  <thead>\n",
       "    <tr style=\"text-align: right;\">\n",
       "      <th></th>\n",
       "      <th>total_sales</th>\n",
       "    </tr>\n",
       "    <tr>\n",
       "      <th>platform</th>\n",
       "      <th></th>\n",
       "    </tr>\n",
       "  </thead>\n",
       "  <tbody>\n",
       "    <tr>\n",
       "      <th>PS4</th>\n",
       "      <td>188.15</td>\n",
       "    </tr>\n",
       "    <tr>\n",
       "      <th>XOne</th>\n",
       "      <td>86.29</td>\n",
       "    </tr>\n",
       "    <tr>\n",
       "      <th>3DS</th>\n",
       "      <td>42.92</td>\n",
       "    </tr>\n",
       "    <tr>\n",
       "      <th>WiiU</th>\n",
       "      <td>20.95</td>\n",
       "    </tr>\n",
       "    <tr>\n",
       "      <th>PS3</th>\n",
       "      <td>20.42</td>\n",
       "    </tr>\n",
       "  </tbody>\n",
       "</table>\n",
       "</div>"
      ],
      "text/plain": [
       "          total_sales\n",
       "platform             \n",
       "PS4            188.15\n",
       "XOne            86.29\n",
       "3DS             42.92\n",
       "WiiU            20.95\n",
       "PS3             20.42"
      ]
     },
     "execution_count": 19,
     "metadata": {},
     "output_type": "execute_result"
    }
   ],
   "source": [
    "data_new.query('year_of_release >= 2015')\\\n",
    ".pivot_table(index = 'platform', values = 'total_sales', aggfunc = 'sum')\\\n",
    ".sort_values(by = 'total_sales', ascending = False).head()"
   ]
  },
  {
   "cell_type": "markdown",
   "id": "d565022b",
   "metadata": {},
   "source": [
    "Исходя из построенных выше таблицы и графика необходимо скорректировать период выбранный для анализа. Все же рынок видеоигр развивается довольно быстро, и мы видим как старые поколения Playstation и Xbox уверенно сменяются новыми.\n",
    "\n",
    "Поэтому выберем 2015 г. началом отчетного периода. За последний год можно наблюдать у всех отрицательную динамику объема продаж, но все же заметными лидерами на рынке являются PS4, XOne и 3DS, по ним мы и будем проводить анализ, как у самых популярных для игроков."
   ]
  },
  {
   "cell_type": "markdown",
   "id": "dea0de1c",
   "metadata": {},
   "source": [
    "### «ящик с усами» по глобальным продажам игр в разбивке по платформам"
   ]
  },
  {
   "cell_type": "code",
   "execution_count": 20,
   "id": "e91418cf",
   "metadata": {},
   "outputs": [
    {
     "data": {
      "text/html": [
       "<div>\n",
       "<style scoped>\n",
       "    .dataframe tbody tr th:only-of-type {\n",
       "        vertical-align: middle;\n",
       "    }\n",
       "\n",
       "    .dataframe tbody tr th {\n",
       "        vertical-align: top;\n",
       "    }\n",
       "\n",
       "    .dataframe thead th {\n",
       "        text-align: right;\n",
       "    }\n",
       "</style>\n",
       "<table border=\"1\" class=\"dataframe\">\n",
       "  <thead>\n",
       "    <tr style=\"text-align: right;\">\n",
       "      <th></th>\n",
       "      <th>count</th>\n",
       "      <th>mean</th>\n",
       "      <th>std</th>\n",
       "      <th>min</th>\n",
       "      <th>25%</th>\n",
       "      <th>50%</th>\n",
       "      <th>75%</th>\n",
       "      <th>max</th>\n",
       "    </tr>\n",
       "    <tr>\n",
       "      <th>platform</th>\n",
       "      <th></th>\n",
       "      <th></th>\n",
       "      <th></th>\n",
       "      <th></th>\n",
       "      <th></th>\n",
       "      <th></th>\n",
       "      <th></th>\n",
       "      <th></th>\n",
       "    </tr>\n",
       "  </thead>\n",
       "  <tbody>\n",
       "    <tr>\n",
       "      <th>3DS</th>\n",
       "      <td>132.0</td>\n",
       "      <td>0.325152</td>\n",
       "      <td>0.798620</td>\n",
       "      <td>0.01</td>\n",
       "      <td>0.030</td>\n",
       "      <td>0.09</td>\n",
       "      <td>0.2325</td>\n",
       "      <td>7.14</td>\n",
       "    </tr>\n",
       "    <tr>\n",
       "      <th>PS4</th>\n",
       "      <td>301.0</td>\n",
       "      <td>0.625083</td>\n",
       "      <td>1.457063</td>\n",
       "      <td>0.01</td>\n",
       "      <td>0.050</td>\n",
       "      <td>0.12</td>\n",
       "      <td>0.4200</td>\n",
       "      <td>14.63</td>\n",
       "    </tr>\n",
       "    <tr>\n",
       "      <th>XOne</th>\n",
       "      <td>167.0</td>\n",
       "      <td>0.516707</td>\n",
       "      <td>0.965940</td>\n",
       "      <td>0.01</td>\n",
       "      <td>0.035</td>\n",
       "      <td>0.13</td>\n",
       "      <td>0.5550</td>\n",
       "      <td>7.39</td>\n",
       "    </tr>\n",
       "  </tbody>\n",
       "</table>\n",
       "</div>"
      ],
      "text/plain": [
       "          count      mean       std   min    25%   50%     75%    max\n",
       "platform                                                             \n",
       "3DS       132.0  0.325152  0.798620  0.01  0.030  0.09  0.2325   7.14\n",
       "PS4       301.0  0.625083  1.457063  0.01  0.050  0.12  0.4200  14.63\n",
       "XOne      167.0  0.516707  0.965940  0.01  0.035  0.13  0.5550   7.39"
      ]
     },
     "execution_count": 20,
     "metadata": {},
     "output_type": "execute_result"
    },
    {
     "data": {
      "image/png": "[encoded data removed]",
      "text/plain": [
       "<Figure size 360x720 with 1 Axes>"
      ]
     },
     "metadata": {
      "needs_background": "light"
     },
     "output_type": "display_data"
    }
   ],
   "source": [
    "data_new = data_new.query('year_of_release >= 2015')\n",
    "data_popular = data_new.query('platform == \"PS4\" or platform == \"XOne\" or platform == \"3DS\"')\n",
    "data_popular.boxplot(by = 'platform', column = 'total_sales', figsize = (5, 10))\n",
    "plt.title('«Ящик с усами» по глобальным продажам игр в разбивке по платформам')\n",
    "plt.xlabel('Платформа')\n",
    "plt.ylabel('Проданных копий, млн')\n",
    "data_popular.groupby('platform')['total_sales'].describe()"
   ]
  },
  {
   "cell_type": "code",
   "execution_count": 21,
   "id": "fc424e2c",
   "metadata": {},
   "outputs": [
    {
     "data": {
      "image/png": "[encoded data removed]",
      "text/plain": [
       "<Figure size 360x360 with 1 Axes>"
      ]
     },
     "metadata": {
      "needs_background": "light"
     },
     "output_type": "display_data"
    }
   ],
   "source": [
    "data_popular.boxplot(by = 'platform', column = 'total_sales', figsize = (5, 5), showfliers=False)\n",
    "plt.title('«Ящик с усами» по глобальным продажам игр в разбивке по платформам без выбросов')\n",
    "plt.xlabel('Платформа')\n",
    "plt.ylabel('Проданных копий, млн')\n",
    "plt.show()"
   ]
  },
  {
   "cell_type": "code",
   "execution_count": 22,
   "id": "fca626dd",
   "metadata": {},
   "outputs": [
    {
     "data": {
      "text/html": [
       "<div>\n",
       "<style scoped>\n",
       "    .dataframe tbody tr th:only-of-type {\n",
       "        vertical-align: middle;\n",
       "    }\n",
       "\n",
       "    .dataframe tbody tr th {\n",
       "        vertical-align: top;\n",
       "    }\n",
       "\n",
       "    .dataframe thead th {\n",
       "        text-align: right;\n",
       "    }\n",
       "</style>\n",
       "<table border=\"1\" class=\"dataframe\">\n",
       "  <thead>\n",
       "    <tr style=\"text-align: right;\">\n",
       "      <th></th>\n",
       "      <th>eu_sales</th>\n",
       "      <th>jp_sales</th>\n",
       "      <th>na_sales</th>\n",
       "      <th>other_sales</th>\n",
       "      <th>total_sales</th>\n",
       "    </tr>\n",
       "    <tr>\n",
       "      <th>platform</th>\n",
       "      <th></th>\n",
       "      <th></th>\n",
       "      <th></th>\n",
       "      <th></th>\n",
       "      <th></th>\n",
       "    </tr>\n",
       "  </thead>\n",
       "  <tbody>\n",
       "    <tr>\n",
       "      <th>3DS</th>\n",
       "      <td>7.39</td>\n",
       "      <td>23.55</td>\n",
       "      <td>10.31</td>\n",
       "      <td>1.67</td>\n",
       "      <td>42.92</td>\n",
       "    </tr>\n",
       "    <tr>\n",
       "      <th>PS4</th>\n",
       "      <td>83.54</td>\n",
       "      <td>12.05</td>\n",
       "      <td>63.86</td>\n",
       "      <td>28.70</td>\n",
       "      <td>188.15</td>\n",
       "    </tr>\n",
       "    <tr>\n",
       "      <th>XOne</th>\n",
       "      <td>28.10</td>\n",
       "      <td>0.18</td>\n",
       "      <td>50.30</td>\n",
       "      <td>7.71</td>\n",
       "      <td>86.29</td>\n",
       "    </tr>\n",
       "  </tbody>\n",
       "</table>\n",
       "</div>"
      ],
      "text/plain": [
       "          eu_sales  jp_sales  na_sales  other_sales  total_sales\n",
       "platform                                                        \n",
       "3DS           7.39     23.55     10.31         1.67        42.92\n",
       "PS4          83.54     12.05     63.86        28.70       188.15\n",
       "XOne         28.10      0.18     50.30         7.71        86.29"
      ]
     },
     "execution_count": 22,
     "metadata": {},
     "output_type": "execute_result"
    }
   ],
   "source": [
    "data_popular.pivot_table(index = 'platform',\\\n",
    "                         values = ['na_sales', 'eu_sales', 'jp_sales', 'other_sales', 'total_sales'],\\\n",
    "                         aggfunc = 'sum')"
   ]
  },
  {
   "cell_type": "markdown",
   "id": "0a38eaab",
   "metadata": {},
   "source": [
    "По количеству проданных игр однозначно лидирует PS4. Медианное значение количества проданных копий одной игры у PS4 немногим больше, чем у XOne. 3дс значительно уступает. У XOne самый большой межквартильный размах, что свидетельствует о том, что игры могут как оказаться крайне неприбыльными, так и значительно превысить медиану. У PS4 межквартильный размах довольно меньше, но куда больше количество аномальных выбросов. Выпускаются супер популярные игры продаваемые по всему миру. \n",
    "\n",
    "В Америке PS4 и XOne находятся примерно на одном уровне по объему продаж, в то время как в Европе большая часть игроков предпочитает PS4. В Японии популярнее всего 3DS, а XOne почти никто и не пользуется."
   ]
  },
  {
   "cell_type": "markdown",
   "id": "0417cbd6",
   "metadata": {},
   "source": [
    "### Корреляция между отзывами и продажами"
   ]
  },
  {
   "cell_type": "code",
   "execution_count": 24,
   "id": "d0966b15",
   "metadata": {},
   "outputs": [
    {
     "data": {
      "image/png": "[encoded data removed]",
      "text/plain": [
       "<Figure size 288x216 with 1 Axes>"
      ]
     },
     "metadata": {
      "needs_background": "light"
     },
     "output_type": "display_data"
    },
    {
     "name": "stdout",
     "output_type": "stream",
     "text": [
      "Коэффициент корреляции: 0.406567902061781\n"
     ]
    },
    {
     "data": {
      "image/png": "[encoded data removed]",
      "text/plain": [
       "<Figure size 288x216 with 1 Axes>"
      ]
     },
     "metadata": {
      "needs_background": "light"
     },
     "output_type": "display_data"
    },
    {
     "name": "stdout",
     "output_type": "stream",
     "text": [
      "Коэффициент корреляции: -0.031957110204556376\n"
     ]
    }
   ],
   "source": [
    "data.query('platform == \"PS4\"') \\\n",
    ".plot(x = 'total_sales', \n",
    "      y = 'critic_score', \n",
    "      kind='scatter', \n",
    "      alpha = 0.3, \n",
    "      figsize=(4, 3), \n",
    "      grid=True,\n",
    "      xlabel = 'Проданный копий, млн',\n",
    "      ylabel = 'Оценка критиков').set_title('Корреляция между продажами и оценками критиков для PS4')\n",
    "plt.show()\n",
    "\n",
    "print('Коэффициент корреляции:', \\\n",
    "      data.query('platform == \"PS4\"')['total_sales']\\\n",
    "      .corr(data.query('platform == \"PS4\"')['critic_score']))\n",
    "\n",
    "data.query('platform == \"PS4\"') \\\n",
    ".plot(x = 'total_sales', \n",
    "      y = 'user_score', \n",
    "      kind='scatter', \n",
    "      alpha = 0.3, \n",
    "      figsize=(4, 3), \n",
    "      grid=True,\n",
    "      xlabel = 'Проданный копий, млн',\n",
    "      ylabel = 'Оценка критиков').set_title('Корреляция между продажами и оценками пользователей для PS4')\n",
    "plt.show()\n",
    "\n",
    "print('Коэффициент корреляции:', \\\n",
    "      data.query('platform == \"PS4\"')['total_sales']\\\n",
    "      .corr(data.query('platform == \"PS4\"')['user_score']))"
   ]
  },
  {
   "cell_type": "code",
   "execution_count": 25,
   "id": "f435ce90",
   "metadata": {},
   "outputs": [
    {
     "data": {
      "image/png": "[encoded data removed]",
      "text/plain": [
       "<Figure size 288x216 with 1 Axes>"
      ]
     },
     "metadata": {
      "needs_background": "light"
     },
     "output_type": "display_data"
    },
    {
     "name": "stdout",
     "output_type": "stream",
     "text": [
      "Коэффициент корреляции: 0.41699832800840175\n"
     ]
    },
    {
     "data": {
      "image/png": "[encoded data removed]",
      "text/plain": [
       "<Figure size 288x216 with 1 Axes>"
      ]
     },
     "metadata": {
      "needs_background": "light"
     },
     "output_type": "display_data"
    },
    {
     "name": "stdout",
     "output_type": "stream",
     "text": [
      "Коэффициент корреляции: -0.06892505328279412\n"
     ]
    }
   ],
   "source": [
    "data.query('platform == \"XOne\"') \\\n",
    ".plot(x = 'total_sales', \n",
    "      y = 'critic_score', \n",
    "      kind='scatter', \n",
    "      alpha = 0.3, \n",
    "      figsize=(4, 3), \n",
    "      grid=True,\n",
    "      xlabel = 'Проданный копий, млн',\n",
    "      ylabel = 'Оценка критиков').set_title('Корреляция между продажами и оценками критиков для XOne')\n",
    "plt.show()\n",
    "\n",
    "print('Коэффициент корреляции:', \\\n",
    "      data.query('platform == \"XOne\"')['total_sales']\\\n",
    "      .corr(data.query('platform == \"XOne\"')['critic_score']))\n",
    "\n",
    "data.query('platform == \"XOne\"') \\\n",
    ".plot(x = 'total_sales', \n",
    "      y = 'user_score', \n",
    "      kind='scatter', \n",
    "      alpha = 0.3, \n",
    "      figsize=(4, 3), \n",
    "      grid=True,\n",
    "      xlabel = 'Проданный копий, млн',\n",
    "      ylabel = 'Оценка критиков').set_title('Корреляция между продажами и оценками пользователей для XOne')\n",
    "plt.show()\n",
    "\n",
    "print('Коэффициент корреляции:', \\\n",
    "      data.query('platform == \"XOne\"')['total_sales']\\\n",
    "      .corr(data.query('platform == \"XOne\"')['user_score']))"
   ]
  },
  {
   "cell_type": "code",
   "execution_count": 26,
   "id": "6d95b2c9",
   "metadata": {},
   "outputs": [
    {
     "data": {
      "image/png": "[encoded data removed]",
      "text/plain": [
       "<Figure size 288x216 with 1 Axes>"
      ]
     },
     "metadata": {
      "needs_background": "light"
     },
     "output_type": "display_data"
    },
    {
     "name": "stdout",
     "output_type": "stream",
     "text": [
      "Коэффициент корреляции: 0.34873973059848346\n"
     ]
    },
    {
     "data": {
      "image/png": "[encoded data removed]",
      "text/plain": [
       "<Figure size 288x216 with 1 Axes>"
      ]
     },
     "metadata": {
      "needs_background": "light"
     },
     "output_type": "display_data"
    },
    {
     "name": "stdout",
     "output_type": "stream",
     "text": [
      "Коэффициент корреляции: 0.22207843643390884\n"
     ]
    }
   ],
   "source": [
    "data.query('platform == \"3DS\"') \\\n",
    ".plot(x = 'total_sales', \n",
    "      y = 'critic_score', \n",
    "      kind='scatter', \n",
    "      alpha = 0.3, \n",
    "      figsize=(4, 3), \n",
    "      grid=True,\n",
    "      xlabel = 'Проданный копий, млн',\n",
    "      ylabel = 'Оценка критиков').set_title('Корреляция между продажами и оценками критиков для 3DS')\n",
    "plt.show()\n",
    "\n",
    "print('Коэффициент корреляции:', \\\n",
    "      data.query('platform == \"3DS\"')['total_sales']\\\n",
    "      .corr(data.query('platform == \"3DS\"')['critic_score']))\n",
    "\n",
    "data.query('platform == \"3DS\"') \\\n",
    ".plot(x = 'total_sales', \n",
    "      y = 'user_score', \n",
    "      kind='scatter', \n",
    "      alpha = 0.3, \n",
    "      figsize=(4, 3), \n",
    "      grid=True,\n",
    "      xlabel = 'Проданный копий, млн',\n",
    "      ylabel = 'Оценка критиков').set_title('Корреляция между продажами и оценками пользователей для 3DS')\n",
    "plt.show()\n",
    "\n",
    "print('Коэффициент корреляции:', \\\n",
    "      data.query('platform == \"3DS\"')['total_sales']\\\n",
    "      .corr(data.query('platform == \"3DS\"')['user_score']))"
   ]
  },
  {
   "cell_type": "markdown",
   "id": "6b9facc8",
   "metadata": {},
   "source": [
    "Для PS4 и XOne присутствует средняя прямая зависимость между оценками критиков и общими продажами. С оценками пользователей у данных платформ корреляция значительно меньше. Для 3DS одинаково небольшая корреляция как с отзывами критиков, так и с отзывами игроков\n"
   ]
  },
  {
   "cell_type": "markdown",
   "id": "8fa01747",
   "metadata": {},
   "source": [
    "### Распределение игр по жанрам"
   ]
  },
  {
   "cell_type": "markdown",
   "id": "8a507a2e",
   "metadata": {},
   "source": [
    "Посмотрим на самые прибыльные жанры. Для этого возьмем медианное значение продаж, чтобы игнорировать выбросы"
   ]
  },
  {
   "cell_type": "code",
   "execution_count": 27,
   "id": "6093b573",
   "metadata": {},
   "outputs": [
    {
     "data": {
      "image/png": "[encoded data removed]",
      "text/plain": [
       "<Figure size 432x288 with 1 Axes>"
      ]
     },
     "metadata": {},
     "output_type": "display_data"
    }
   ],
   "source": [
    "explode = [0.3,0.2,0.2,0.2,0.1,0.1,0.1,0.1,0.1,0.1,0.1,0.1]\n",
    "data_popular.pivot_table(index = 'genre', values = 'total_sales', aggfunc = 'median')\\\n",
    ".sort_values(by = 'total_sales', ascending = False)\\\n",
    ".plot(y= 'total_sales', \n",
    "      kind = 'pie', \n",
    "      radius = 1.8,\n",
    "      legend = None, \n",
    "      rotatelabels = True, \n",
    "      counterclock = True, \n",
    "      colors=plt.cm.Dark2.colors, \n",
    "      explode = explode,\n",
    "      autopct='%.2f%%')\n",
    "plt.ylabel(\"\")\n",
    "plt.show()"
   ]
  },
  {
   "cell_type": "markdown",
   "id": "98bb452f",
   "metadata": {},
   "source": [
    "Стабильно высокий доход чаще всего приносят шутеры. За ними примерно поровну разделяют рынок спортивные игры, ролевые и файтинги."
   ]
  },
  {
   "cell_type": "code",
   "execution_count": 28,
   "id": "636cf9a9",
   "metadata": {},
   "outputs": [
    {
     "data": {
      "text/html": [
       "<div>\n",
       "<style scoped>\n",
       "    .dataframe tbody tr th:only-of-type {\n",
       "        vertical-align: middle;\n",
       "    }\n",
       "\n",
       "    .dataframe tbody tr th {\n",
       "        vertical-align: top;\n",
       "    }\n",
       "\n",
       "    .dataframe thead th {\n",
       "        text-align: right;\n",
       "    }\n",
       "</style>\n",
       "<table border=\"1\" class=\"dataframe\">\n",
       "  <thead>\n",
       "    <tr style=\"text-align: right;\">\n",
       "      <th></th>\n",
       "      <th></th>\n",
       "      <th>total_sales</th>\n",
       "    </tr>\n",
       "    <tr>\n",
       "      <th>platform</th>\n",
       "      <th>genre</th>\n",
       "      <th></th>\n",
       "    </tr>\n",
       "  </thead>\n",
       "  <tbody>\n",
       "    <tr>\n",
       "      <th>XOne</th>\n",
       "      <th>Shooter</th>\n",
       "      <td>0.695</td>\n",
       "    </tr>\n",
       "    <tr>\n",
       "      <th>PS4</th>\n",
       "      <th>Shooter</th>\n",
       "      <td>0.490</td>\n",
       "    </tr>\n",
       "    <tr>\n",
       "      <th>XOne</th>\n",
       "      <th>Fighting</th>\n",
       "      <td>0.310</td>\n",
       "    </tr>\n",
       "    <tr>\n",
       "      <th>PS4</th>\n",
       "      <th>Sports</th>\n",
       "      <td>0.300</td>\n",
       "    </tr>\n",
       "    <tr>\n",
       "      <th>XOne</th>\n",
       "      <th>Role-Playing</th>\n",
       "      <td>0.250</td>\n",
       "    </tr>\n",
       "    <tr>\n",
       "      <th>3DS</th>\n",
       "      <th>Role-Playing</th>\n",
       "      <td>0.225</td>\n",
       "    </tr>\n",
       "    <tr>\n",
       "      <th>PS4</th>\n",
       "      <th>Simulation</th>\n",
       "      <td>0.210</td>\n",
       "    </tr>\n",
       "    <tr>\n",
       "      <th>XOne</th>\n",
       "      <th>Sports</th>\n",
       "      <td>0.180</td>\n",
       "    </tr>\n",
       "    <tr>\n",
       "      <th>PS4</th>\n",
       "      <th>Fighting</th>\n",
       "      <td>0.165</td>\n",
       "    </tr>\n",
       "    <tr>\n",
       "      <th>3DS</th>\n",
       "      <th>Sports</th>\n",
       "      <td>0.140</td>\n",
       "    </tr>\n",
       "  </tbody>\n",
       "</table>\n",
       "</div>"
      ],
      "text/plain": [
       "                       total_sales\n",
       "platform genre                    \n",
       "XOne     Shooter             0.695\n",
       "PS4      Shooter             0.490\n",
       "XOne     Fighting            0.310\n",
       "PS4      Sports              0.300\n",
       "XOne     Role-Playing        0.250\n",
       "3DS      Role-Playing        0.225\n",
       "PS4      Simulation          0.210\n",
       "XOne     Sports              0.180\n",
       "PS4      Fighting            0.165\n",
       "3DS      Sports              0.140"
      ]
     },
     "execution_count": 28,
     "metadata": {},
     "output_type": "execute_result"
    }
   ],
   "source": [
    "data_popular.pivot_table(index = ['platform', 'genre'], values = 'total_sales', aggfunc = 'median')\\\n",
    ".sort_values(by = 'total_sales', ascending = False).head(10)\n"
   ]
  },
  {
   "cell_type": "markdown",
   "id": "291b756e",
   "metadata": {},
   "source": [
    "На таблице выше можно видеть наиболее прибыльные платформы с наиболее прибыльными жанрами в ней. Шутеры на PS4 судя по всему должны принести больше всего денег. Также не стоит пренебрегать файтингами на XOne, спортивными играми на PS4 и ролевыми играми на XOne и 3DS\n",
    "\n",
    "Посмотрим на самые популярные платформы в каждом регионе"
   ]
  },
  {
   "cell_type": "markdown",
   "id": "8555537a",
   "metadata": {},
   "source": [
    "### Популярность платформ по регионам"
   ]
  },
  {
   "cell_type": "code",
   "execution_count": 29,
   "id": "e7f6641a",
   "metadata": {},
   "outputs": [
    {
     "data": {
      "image/png": "[encoded data removed]",
      "text/plain": [
       "<Figure size 432x288 with 1 Axes>"
      ]
     },
     "metadata": {},
     "output_type": "display_data"
    },
    {
     "data": {
      "image/png": "[encoded data removed]",
      "text/plain": [
       "<Figure size 432x288 with 1 Axes>"
      ]
     },
     "metadata": {},
     "output_type": "display_data"
    },
    {
     "data": {
      "image/png": "[encoded data removed]",
      "text/plain": [
       "<Figure size 432x288 with 1 Axes>"
      ]
     },
     "metadata": {},
     "output_type": "display_data"
    }
   ],
   "source": [
    "explode = [0.1,0.1,0.1,0.1,0.1]\n",
    "data_new.pivot_table(index = 'platform', values = 'na_sales', aggfunc = 'sum')\\\n",
    ".sort_values(by = 'na_sales', ascending = False).head() \\\n",
    ".plot(kind = 'pie', \n",
    "      y = 'na_sales',\n",
    "      legend = None, \n",
    "      counterclock = True, \n",
    "      colors=plt.cm.Dark2.colors, \n",
    "      explode = explode,\n",
    "      autopct='%.2f%%')\n",
    "plt.xlabel(\"Популярность платформ в Америке\")\n",
    "plt.ylabel('')\n",
    "\n",
    "plt.show()\n",
    "\n",
    "data_new.pivot_table(index = 'platform', values = 'eu_sales', aggfunc = 'sum')\\\n",
    ".sort_values(by = 'eu_sales', ascending = False).head()\\\n",
    ".plot(kind = 'pie', \n",
    "      y = 'eu_sales',\n",
    "      legend = None, \n",
    "      counterclock = True, \n",
    "      colors=plt.cm.Dark2.colors, \n",
    "      explode = explode,\n",
    "      autopct='%.2f%%')\n",
    "plt.xlabel(\"Популярность платформ в Европе\")\n",
    "plt.ylabel('')\n",
    "\n",
    "plt.show()\n",
    "\n",
    "data_new.pivot_table(index = 'platform', values = 'jp_sales', aggfunc = 'sum')\\\n",
    ".sort_values(by = 'jp_sales', ascending = False).head()\\\n",
    ".plot(kind = 'pie', \n",
    "      y = 'jp_sales',\n",
    "      legend = None, \n",
    "      counterclock = True, \n",
    "      colors=plt.cm.Dark2.colors, \n",
    "      explode = explode,\n",
    "      autopct='%.2f%%')\n",
    "plt.xlabel(\"Популярность платформ в Японии\")\n",
    "plt.ylabel('')\n",
    "\n",
    "plt.show()"
   ]
  },
  {
   "cell_type": "markdown",
   "id": "441258da",
   "metadata": {},
   "source": [
    "В Америке продажи PS4 немногим опережают XOne, в то время как в Европе этот разрыв значительно больше, а в Японии больше всего приносят продажи 3DS, затем с небольшим отставанием PS4, а XOne совсем не пользуется популярностью\n",
    "\n",
    "Оценим популярность жанров в каждом регионе"
   ]
  },
  {
   "cell_type": "markdown",
   "id": "5121bec2",
   "metadata": {},
   "source": [
    "### Популярность жанров по регионам"
   ]
  },
  {
   "cell_type": "code",
   "execution_count": 30,
   "id": "37f46ec0",
   "metadata": {},
   "outputs": [
    {
     "data": {
      "image/png": "[encoded data removed]",
      "text/plain": [
       "<Figure size 432x288 with 1 Axes>"
      ]
     },
     "metadata": {},
     "output_type": "display_data"
    },
    {
     "data": {
      "image/png": "[encoded data removed]",
      "text/plain": [
       "<Figure size 432x288 with 1 Axes>"
      ]
     },
     "metadata": {},
     "output_type": "display_data"
    },
    {
     "data": {
      "image/png": "[encoded data removed]",
      "text/plain": [
       "<Figure size 432x288 with 1 Axes>"
      ]
     },
     "metadata": {},
     "output_type": "display_data"
    }
   ],
   "source": [
    "data_new.pivot_table(index = 'genre', values = 'na_sales', aggfunc = 'mean')\\\n",
    ".sort_values(by = 'na_sales', ascending = False).head()\\\n",
    ".plot(kind = 'pie', \n",
    "      y = 'na_sales',\n",
    "      legend = None, \n",
    "      counterclock = True, \n",
    "      colors=plt.cm.Dark2.colors, \n",
    "      explode = explode,\n",
    "      autopct='%.2f%%')\n",
    "plt.xlabel(\"Популярность жанров в Америке\")\n",
    "plt.ylabel('')\n",
    "\n",
    "plt.show()\n",
    "\n",
    "data_new.pivot_table(index = 'genre', values = 'eu_sales', aggfunc = 'mean')\\\n",
    ".sort_values(by = 'eu_sales', ascending = False).head()\\\n",
    ".plot(kind = 'pie', \n",
    "      y = 'eu_sales',\n",
    "      legend = None, \n",
    "      counterclock = True, \n",
    "      colors=plt.cm.Dark2.colors, \n",
    "      explode = explode,\n",
    "      autopct='%.2f%%')\n",
    "plt.xlabel(\"Популярность жанров в Европе\")\n",
    "plt.ylabel('')\n",
    "\n",
    "plt.show()\n",
    "\n",
    "data_new.pivot_table(index = 'genre', values = 'jp_sales', aggfunc = 'mean')\\\n",
    ".sort_values(by = 'jp_sales', ascending = False).head()\\\n",
    ".plot(kind = 'pie', \n",
    "      y = 'jp_sales',\n",
    "      legend = None, \n",
    "      counterclock = True, \n",
    "      colors=plt.cm.Dark2.colors, \n",
    "      explode = explode,\n",
    "      autopct='%.2f%%',\n",
    "    normalize=True)\n",
    "plt.xlabel(\"Популярность жанров в Японии\")\n",
    "plt.ylabel('')\n",
    "\n",
    "plt.show()"
   ]
  },
  {
   "cell_type": "markdown",
   "id": "397b6f95",
   "metadata": {},
   "source": [
    "Рынок Америки и Европы практически одинаковый, и распределение по жанрам как и в круговой диаграмме выше, а вот в Японии все индивидуально. В приоритете ролевые игры, паззлы, а за ними симуляторы, экшен и платформенные игры\n",
    "\n",
    "Посмотрим как влияет на продажи возрастной рейтинг от организации ESRB"
   ]
  },
  {
   "cell_type": "markdown",
   "id": "07798c7f",
   "metadata": {},
   "source": [
    "### Влияние возрастного рейтинга по регионам"
   ]
  },
  {
   "cell_type": "code",
   "execution_count": 31,
   "id": "f7057915",
   "metadata": {},
   "outputs": [
    {
     "data": {
      "image/png": "[encoded data removed]",
      "text/plain": [
       "<Figure size 432x288 with 1 Axes>"
      ]
     },
     "metadata": {
      "needs_background": "light"
     },
     "output_type": "display_data"
    },
    {
     "data": {
      "image/png": "[encoded data removed]",
      "text/plain": [
       "<Figure size 432x288 with 1 Axes>"
      ]
     },
     "metadata": {
      "needs_background": "light"
     },
     "output_type": "display_data"
    },
    {
     "data": {
      "image/png": "[encoded data removed]",
      "text/plain": [
       "<Figure size 432x288 with 1 Axes>"
      ]
     },
     "metadata": {
      "needs_background": "light"
     },
     "output_type": "display_data"
    }
   ],
   "source": [
    "data_rating = data.pivot_table(index = 'rating', \n",
    "                               values = ['na_sales', 'eu_sales', 'jp_sales'], \n",
    "                               aggfunc = 'sum').reset_index()\n",
    "\n",
    "column = ['na_sales', 'eu_sales', 'jp_sales']\n",
    "\n",
    "for col in column:\n",
    "    data_rating[col] /= data[col].sum()\n",
    "\n",
    "    \n",
    "data_rating.sort_values(by = 'na_sales', ascending = False) \\\n",
    ".plot(kind = 'bar',\n",
    "      x = 'rating',                    \n",
    "      y = 'na_sales', \n",
    "      xlabel = 'Категория рейтинга', \n",
    "      ylabel = 'Доля', \n",
    "      legend = None) \n",
    "plt.title('Распределение игр по возрастному рейтингу в Америке')\n",
    "\n",
    "plt.show()\n",
    "\n",
    "data_rating.sort_values(by = 'eu_sales', ascending = False) \\\n",
    ".plot(kind = 'bar',\n",
    "      x = 'rating',                    \n",
    "      y = 'eu_sales', \n",
    "      xlabel = 'Категория рейтинга', \n",
    "      ylabel = 'Доля', \n",
    "      legend = None) \n",
    "plt.title('Распределение игр по возрастному рейтингу в Европе')\n",
    "\n",
    "plt.show()\n",
    "\n",
    "data_rating.sort_values(by = 'jp_sales', ascending = False) \\\n",
    ".plot(kind = 'bar',\n",
    "      x = 'rating',                    \n",
    "      y = 'jp_sales', \n",
    "      xlabel = 'Категория рейтинга', \n",
    "      ylabel = 'Доля', \n",
    "      legend = None) \n",
    "plt.title('Распределение игр по возрастному рейтингу в Японии')\n",
    "\n",
    "plt.show()"
   ]
  },
  {
   "cell_type": "markdown",
   "id": "901203e7",
   "metadata": {},
   "source": [
    "В Европе и Америке определенно лидируют игры с рейтингом Е - для всех. В Японии больше всего игр без рейтинга"
   ]
  },
  {
   "cell_type": "markdown",
   "id": "2c1ce1a6",
   "metadata": {},
   "source": [
    "## Проверка гипотез"
   ]
  },
  {
   "cell_type": "markdown",
   "id": "f8510f82",
   "metadata": {},
   "source": [
    "Приступим к проверки гипотезу и сформулируем первую:\n",
    "\n",
    "H0: Средние пользовательские рейтинги платформ Xbox One и PC одинаковые\n",
    "\n",
    "H1: Средние пользовательские рейтинги платформ Xbox One и PC разные"
   ]
  },
  {
   "cell_type": "code",
   "execution_count": 32,
   "id": "9c719ecd",
   "metadata": {},
   "outputs": [
    {
     "name": "stdout",
     "output_type": "stream",
     "text": [
      "p-значение: 0.3280257221394691\n",
      "Не получилось отвергнуть нулевую гипотезу\n"
     ]
    }
   ],
   "source": [
    "data_hypothesis = data_new.query('not critic_score.isna() and not user_score.isna()')\n",
    "\n",
    "sample_1 = data_hypothesis.loc[data_hypothesis['platform'] == \"PC\", 'user_score']\n",
    "sample_2 = data_hypothesis.loc[data_hypothesis['platform'] == \"XOne\", 'user_score']\n",
    "\n",
    "alpha = 0.05 \n",
    "\n",
    "results = st.ttest_ind(sample_1, sample_2)\n",
    "\n",
    "print('p-значение:', results.pvalue)\n",
    "if results.pvalue < alpha:\n",
    "    print('Отвергаем нулевую гипотезу')\n",
    "else:\n",
    "    print('Не получилось отвергнуть нулевую гипотезу') "
   ]
  },
  {
   "cell_type": "markdown",
   "id": "f582c233",
   "metadata": {},
   "source": [
    "И вторую:\n",
    "\n",
    "H0: Средние пользовательские рейтинги жанров Action и Sports одинаковые \n",
    "\n",
    "H1: Средние пользовательские рейтинги жанров Action и Sports разные"
   ]
  },
  {
   "cell_type": "code",
   "execution_count": 33,
   "id": "c698b128",
   "metadata": {},
   "outputs": [
    {
     "name": "stdout",
     "output_type": "stream",
     "text": [
      "p-значение: 3.5087325539494814e-07\n",
      "Отвергаем нулевую гипотезу\n"
     ]
    }
   ],
   "source": [
    "sample_1 = data_hypothesis.loc[data_hypothesis['genre'] == \"Action\", 'user_score']\n",
    "sample_2 = data_hypothesis.loc[data_hypothesis['genre'] == \"Sports\", 'user_score']\n",
    "\n",
    "alpha = 0.05 \n",
    "\n",
    "results = st.ttest_ind(sample_1, sample_2)\n",
    "\n",
    "print('p-значение:', results.pvalue)\n",
    "if results.pvalue < alpha:\n",
    "    print('Отвергаем нулевую гипотезу')\n",
    "else:\n",
    "    print('Не получилось отвергнуть нулевую гипотезу') "
   ]
  },
  {
   "cell_type": "markdown",
   "id": "cc4304ed",
   "metadata": {},
   "source": [
    "Мы проверили гипотезы тестом Стьюдента, т.к. у нас независимые генеральные совокупности с нормальным распределением.\n",
    "\n",
    "Не удалось отвергнуть гипотезу о равенстве средних пользовательских рейтингов платформ Xbox One и PC \n",
    "\n",
    "Но гипотезу о том, что средние пользовательских рейтингов жанров Action и Sports одинаковые, отвергнуть удалось"
   ]
  },
  {
   "cell_type": "markdown",
   "id": "c8b222c9",
   "metadata": {},
   "source": [
    "## Вывод"
   ]
  },
  {
   "cell_type": "markdown",
   "id": "fdbd7067",
   "metadata": {},
   "source": [
    "Мы проанализировали рынок гейм-индустрии и посмотрели на влияние различных факторов. В результате мы можем описать универсальную успешную игру, которая принесет много продаж по всему миру:\n",
    "\n",
    "1. Если наши покупатели не в Японии, то игра должна быть разработана для PS4, игра на XOne принесет немногим меньше прибыли. Для рынка в Японии игры на XOne неинтересны совсем, в приоритете консоль 3DS\n",
    "\n",
    "2. Больше всего прибыли принесут шутеры, чуть менее популярны спортивные игры, ролевые и файтинги (Япония исключение)\n",
    "\n",
    "3. Нельзя не пренебрегать рейтингами критиков, для некоторых игроков это становится важным фактором при покупке игры. А вот рейтинги пользователей с коммерческой точки зрения совсем неинтересны.\n",
    "\n",
    "4. И последний немаловажный пункт - возрастной рейтинг. В Европе и Америке наиболее интересны игры для всех с рейтингом Е, за ними идут игры без рейтинга, и нормальным спросом пользуются игры для подростков и взрослых. В Японии все снова наоборот, и большую часть рынка занимают игры без рейтинга\n",
    "\n"
   ]
  },
  {
   "cell_type": "code",
   "execution_count": null,
   "id": "c4b3fc60",
   "metadata": {},
   "outputs": [],
   "source": []
  }
 ],
 "metadata": {
  "ExecuteTimeLog": [
   {
    "duration": 1416,
    "start_time": "2023-02-02T15:42:16.961Z"
   },
   {
    "duration": 131,
    "start_time": "2023-02-02T15:42:18.756Z"
   },
   {
    "duration": 46,
    "start_time": "2023-02-05T04:01:13.903Z"
   },
   {
    "duration": 1289,
    "start_time": "2023-02-05T04:01:19.314Z"
   },
   {
    "duration": 156,
    "start_time": "2023-02-05T04:01:20.605Z"
   },
   {
    "duration": 3,
    "start_time": "2023-02-05T04:01:20.762Z"
   },
   {
    "duration": 6,
    "start_time": "2023-02-05T04:01:20.767Z"
   },
   {
    "duration": 33,
    "start_time": "2023-02-05T04:01:20.774Z"
   },
   {
    "duration": 32,
    "start_time": "2023-02-05T04:01:20.808Z"
   },
   {
    "duration": 14,
    "start_time": "2023-02-05T04:01:20.841Z"
   },
   {
    "duration": 2,
    "start_time": "2023-02-05T04:01:20.857Z"
   },
   {
    "duration": 15,
    "start_time": "2023-02-05T04:01:20.861Z"
   },
   {
    "duration": 29,
    "start_time": "2023-02-05T04:01:20.878Z"
   },
   {
    "duration": 13,
    "start_time": "2023-02-05T04:01:20.908Z"
   },
   {
    "duration": 22,
    "start_time": "2023-02-05T04:01:20.923Z"
   },
   {
    "duration": 357,
    "start_time": "2023-02-05T04:01:20.947Z"
   },
   {
    "duration": 77,
    "start_time": "2023-02-05T04:01:21.306Z"
   },
   {
    "duration": 25,
    "start_time": "2023-02-05T04:01:21.385Z"
   },
   {
    "duration": 30,
    "start_time": "2023-02-05T04:01:21.411Z"
   },
   {
    "duration": 321,
    "start_time": "2023-02-05T04:01:21.443Z"
   },
   {
    "duration": 17,
    "start_time": "2023-02-05T04:01:21.766Z"
   },
   {
    "duration": 196,
    "start_time": "2023-02-05T04:01:21.785Z"
   },
   {
    "duration": 152,
    "start_time": "2023-02-05T04:01:21.983Z"
   },
   {
    "duration": 16,
    "start_time": "2023-02-05T04:01:22.137Z"
   },
   {
    "duration": 2,
    "start_time": "2023-02-05T04:01:22.155Z"
   },
   {
    "duration": 280,
    "start_time": "2023-02-05T04:01:22.159Z"
   },
   {
    "duration": 260,
    "start_time": "2023-02-05T04:01:22.440Z"
   },
   {
    "duration": 364,
    "start_time": "2023-02-05T04:01:22.702Z"
   },
   {
    "duration": 2,
    "start_time": "2023-02-05T04:01:23.068Z"
   },
   {
    "duration": 180,
    "start_time": "2023-02-05T04:01:23.071Z"
   },
   {
    "duration": 14,
    "start_time": "2023-02-05T04:01:23.254Z"
   },
   {
    "duration": 293,
    "start_time": "2023-02-05T04:01:23.269Z"
   },
   {
    "duration": 305,
    "start_time": "2023-02-05T04:01:23.564Z"
   },
   {
    "duration": 556,
    "start_time": "2023-02-05T04:01:23.871Z"
   },
   {
    "duration": 10,
    "start_time": "2023-02-05T04:01:24.429Z"
   },
   {
    "duration": 7,
    "start_time": "2023-02-05T04:01:24.441Z"
   },
   {
    "duration": 294,
    "start_time": "2023-02-05T04:06:04.494Z"
   },
   {
    "duration": 257,
    "start_time": "2023-02-05T04:06:15.878Z"
   },
   {
    "duration": 256,
    "start_time": "2023-02-05T04:06:19.826Z"
   },
   {
    "duration": 230,
    "start_time": "2023-02-05T04:06:31.991Z"
   },
   {
    "duration": 254,
    "start_time": "2023-02-05T04:07:48.176Z"
   },
   {
    "duration": 1156,
    "start_time": "2023-02-05T04:07:56.303Z"
   },
   {
    "duration": 107,
    "start_time": "2023-02-05T04:07:57.461Z"
   },
   {
    "duration": 3,
    "start_time": "2023-02-05T04:07:57.569Z"
   },
   {
    "duration": 4,
    "start_time": "2023-02-05T04:07:57.574Z"
   },
   {
    "duration": 17,
    "start_time": "2023-02-05T04:07:57.581Z"
   },
   {
    "duration": 35,
    "start_time": "2023-02-05T04:07:57.602Z"
   },
   {
    "duration": 15,
    "start_time": "2023-02-05T04:07:57.639Z"
   },
   {
    "duration": 2,
    "start_time": "2023-02-05T04:07:57.656Z"
   },
   {
    "duration": 18,
    "start_time": "2023-02-05T04:07:57.659Z"
   },
   {
    "duration": 32,
    "start_time": "2023-02-05T04:07:57.678Z"
   },
   {
    "duration": 14,
    "start_time": "2023-02-05T04:07:57.712Z"
   },
   {
    "duration": 22,
    "start_time": "2023-02-05T04:07:57.728Z"
   },
   {
    "duration": 322,
    "start_time": "2023-02-05T04:07:57.751Z"
   },
   {
    "duration": 86,
    "start_time": "2023-02-05T04:07:58.075Z"
   },
   {
    "duration": 15,
    "start_time": "2023-02-05T04:07:58.162Z"
   },
   {
    "duration": 49,
    "start_time": "2023-02-05T04:07:58.179Z"
   },
   {
    "duration": 327,
    "start_time": "2023-02-05T04:07:58.230Z"
   },
   {
    "duration": 284,
    "start_time": "2023-02-05T04:07:58.558Z"
   },
   {
    "duration": 17,
    "start_time": "2023-02-05T04:07:58.843Z"
   },
   {
    "duration": 218,
    "start_time": "2023-02-05T04:07:58.862Z"
   },
   {
    "duration": 162,
    "start_time": "2023-02-05T04:07:59.082Z"
   },
   {
    "duration": 17,
    "start_time": "2023-02-05T04:07:59.245Z"
   },
   {
    "duration": 5,
    "start_time": "2023-02-05T04:07:59.264Z"
   },
   {
    "duration": 304,
    "start_time": "2023-02-05T04:07:59.271Z"
   },
   {
    "duration": 357,
    "start_time": "2023-02-05T04:07:59.577Z"
   },
   {
    "duration": 302,
    "start_time": "2023-02-05T04:07:59.936Z"
   },
   {
    "duration": 3,
    "start_time": "2023-02-05T04:08:00.240Z"
   },
   {
    "duration": 210,
    "start_time": "2023-02-05T04:08:00.245Z"
   },
   {
    "duration": 16,
    "start_time": "2023-02-05T04:08:00.458Z"
   },
   {
    "duration": 355,
    "start_time": "2023-02-05T04:08:00.476Z"
   },
   {
    "duration": 336,
    "start_time": "2023-02-05T04:08:00.833Z"
   },
   {
    "duration": 513,
    "start_time": "2023-02-05T04:08:01.171Z"
   },
   {
    "duration": 19,
    "start_time": "2023-02-05T04:08:01.685Z"
   },
   {
    "duration": 9,
    "start_time": "2023-02-05T04:08:01.706Z"
   },
   {
    "duration": 262,
    "start_time": "2023-02-05T04:08:49.366Z"
   },
   {
    "duration": 1123,
    "start_time": "2023-02-05T04:08:54.211Z"
   },
   {
    "duration": 111,
    "start_time": "2023-02-05T04:08:55.336Z"
   },
   {
    "duration": 3,
    "start_time": "2023-02-05T04:08:55.448Z"
   },
   {
    "duration": 4,
    "start_time": "2023-02-05T04:08:55.453Z"
   },
   {
    "duration": 18,
    "start_time": "2023-02-05T04:08:55.459Z"
   },
   {
    "duration": 45,
    "start_time": "2023-02-05T04:08:55.478Z"
   },
   {
    "duration": 15,
    "start_time": "2023-02-05T04:08:55.525Z"
   },
   {
    "duration": 2,
    "start_time": "2023-02-05T04:08:55.542Z"
   },
   {
    "duration": 13,
    "start_time": "2023-02-05T04:08:55.546Z"
   },
   {
    "duration": 7,
    "start_time": "2023-02-05T04:08:55.562Z"
   },
   {
    "duration": 43,
    "start_time": "2023-02-05T04:08:55.571Z"
   },
   {
    "duration": 24,
    "start_time": "2023-02-05T04:08:55.615Z"
   },
   {
    "duration": 325,
    "start_time": "2023-02-05T04:08:55.641Z"
   },
   {
    "duration": 82,
    "start_time": "2023-02-05T04:08:55.968Z"
   },
   {
    "duration": 14,
    "start_time": "2023-02-05T04:08:56.051Z"
   },
   {
    "duration": 44,
    "start_time": "2023-02-05T04:08:56.066Z"
   },
   {
    "duration": 305,
    "start_time": "2023-02-05T04:08:56.112Z"
   },
   {
    "duration": 277,
    "start_time": "2023-02-05T04:08:56.418Z"
   },
   {
    "duration": 20,
    "start_time": "2023-02-05T04:08:56.697Z"
   },
   {
    "duration": 201,
    "start_time": "2023-02-05T04:08:56.719Z"
   },
   {
    "duration": 155,
    "start_time": "2023-02-05T04:08:56.922Z"
   },
   {
    "duration": 15,
    "start_time": "2023-02-05T04:08:57.079Z"
   },
   {
    "duration": 3,
    "start_time": "2023-02-05T04:08:57.103Z"
   },
   {
    "duration": 295,
    "start_time": "2023-02-05T04:08:57.107Z"
   },
   {
    "duration": 345,
    "start_time": "2023-02-05T04:08:57.403Z"
   },
   {
    "duration": 288,
    "start_time": "2023-02-05T04:08:57.749Z"
   },
   {
    "duration": 2,
    "start_time": "2023-02-05T04:08:58.038Z"
   },
   {
    "duration": 196,
    "start_time": "2023-02-05T04:08:58.043Z"
   },
   {
    "duration": 17,
    "start_time": "2023-02-05T04:08:58.240Z"
   },
   {
    "duration": 300,
    "start_time": "2023-02-05T04:08:58.259Z"
   },
   {
    "duration": 315,
    "start_time": "2023-02-05T04:08:58.561Z"
   },
   {
    "duration": 528,
    "start_time": "2023-02-05T04:08:58.878Z"
   },
   {
    "duration": 12,
    "start_time": "2023-02-05T04:08:59.408Z"
   },
   {
    "duration": 9,
    "start_time": "2023-02-05T04:08:59.421Z"
   },
   {
    "duration": 5,
    "start_time": "2023-02-05T04:14:20.435Z"
   },
   {
    "duration": 21,
    "start_time": "2023-02-05T04:14:27.889Z"
   },
   {
    "duration": 49,
    "start_time": "2023-02-05T10:01:15.612Z"
   },
   {
    "duration": 1272,
    "start_time": "2023-02-05T10:01:27.993Z"
   },
   {
    "duration": 257,
    "start_time": "2023-02-05T10:01:29.267Z"
   },
   {
    "duration": 3,
    "start_time": "2023-02-05T10:01:29.525Z"
   },
   {
    "duration": 7,
    "start_time": "2023-02-05T10:01:29.530Z"
   },
   {
    "duration": 17,
    "start_time": "2023-02-05T10:01:29.539Z"
   },
   {
    "duration": 36,
    "start_time": "2023-02-05T10:01:29.558Z"
   },
   {
    "duration": 15,
    "start_time": "2023-02-05T10:01:29.596Z"
   },
   {
    "duration": 3,
    "start_time": "2023-02-05T10:01:29.612Z"
   },
   {
    "duration": 19,
    "start_time": "2023-02-05T10:01:29.616Z"
   },
   {
    "duration": 7,
    "start_time": "2023-02-05T10:01:29.649Z"
   },
   {
    "duration": 16,
    "start_time": "2023-02-05T10:01:29.657Z"
   },
   {
    "duration": 22,
    "start_time": "2023-02-05T10:01:29.675Z"
   },
   {
    "duration": 344,
    "start_time": "2023-02-05T10:01:29.699Z"
   },
   {
    "duration": 83,
    "start_time": "2023-02-05T10:01:30.048Z"
   },
   {
    "duration": 26,
    "start_time": "2023-02-05T10:01:30.133Z"
   },
   {
    "duration": 39,
    "start_time": "2023-02-05T10:01:30.160Z"
   },
   {
    "duration": 312,
    "start_time": "2023-02-05T10:01:30.201Z"
   },
   {
    "duration": 275,
    "start_time": "2023-02-05T10:01:30.515Z"
   },
   {
    "duration": 16,
    "start_time": "2023-02-05T10:01:30.792Z"
   },
   {
    "duration": 219,
    "start_time": "2023-02-05T10:01:30.809Z"
   },
   {
    "duration": 174,
    "start_time": "2023-02-05T10:01:31.030Z"
   },
   {
    "duration": 18,
    "start_time": "2023-02-05T10:01:31.206Z"
   },
   {
    "duration": 18,
    "start_time": "2023-02-05T10:01:31.226Z"
   },
   {
    "duration": 307,
    "start_time": "2023-02-05T10:01:31.245Z"
   },
   {
    "duration": 322,
    "start_time": "2023-02-05T10:01:31.554Z"
   },
   {
    "duration": 286,
    "start_time": "2023-02-05T10:01:31.878Z"
   },
   {
    "duration": 2,
    "start_time": "2023-02-05T10:01:32.166Z"
   },
   {
    "duration": 188,
    "start_time": "2023-02-05T10:01:32.169Z"
   },
   {
    "duration": 15,
    "start_time": "2023-02-05T10:01:32.358Z"
   },
   {
    "duration": 302,
    "start_time": "2023-02-05T10:01:32.374Z"
   },
   {
    "duration": 306,
    "start_time": "2023-02-05T10:01:32.678Z"
   },
   {
    "duration": 508,
    "start_time": "2023-02-05T10:01:32.986Z"
   },
   {
    "duration": 11,
    "start_time": "2023-02-05T10:01:33.496Z"
   },
   {
    "duration": 6,
    "start_time": "2023-02-05T10:01:33.509Z"
   },
   {
    "duration": 268,
    "start_time": "2023-02-05T10:02:20.842Z"
   },
   {
    "duration": 252,
    "start_time": "2023-02-05T10:02:26.457Z"
   },
   {
    "duration": 283,
    "start_time": "2023-02-05T10:03:59.557Z"
   },
   {
    "duration": 275,
    "start_time": "2023-02-05T10:04:30.320Z"
   },
   {
    "duration": 291,
    "start_time": "2023-02-05T10:05:33.261Z"
   },
   {
    "duration": 388,
    "start_time": "2023-02-05T10:06:10.470Z"
   },
   {
    "duration": 6,
    "start_time": "2023-02-05T10:08:48.290Z"
   },
   {
    "duration": 6,
    "start_time": "2023-02-05T10:09:07.964Z"
   },
   {
    "duration": 1157,
    "start_time": "2023-02-05T10:15:28.023Z"
   },
   {
    "duration": 114,
    "start_time": "2023-02-05T10:15:29.182Z"
   },
   {
    "duration": 3,
    "start_time": "2023-02-05T10:15:29.297Z"
   },
   {
    "duration": 5,
    "start_time": "2023-02-05T10:15:29.302Z"
   },
   {
    "duration": 18,
    "start_time": "2023-02-05T10:15:29.308Z"
   },
   {
    "duration": 49,
    "start_time": "2023-02-05T10:15:29.328Z"
   },
   {
    "duration": 19,
    "start_time": "2023-02-05T10:15:29.379Z"
   },
   {
    "duration": 3,
    "start_time": "2023-02-05T10:15:29.400Z"
   },
   {
    "duration": 16,
    "start_time": "2023-02-05T10:15:29.405Z"
   },
   {
    "duration": 30,
    "start_time": "2023-02-05T10:15:29.425Z"
   },
   {
    "duration": 13,
    "start_time": "2023-02-05T10:15:29.457Z"
   },
   {
    "duration": 22,
    "start_time": "2023-02-05T10:15:29.472Z"
   },
   {
    "duration": 352,
    "start_time": "2023-02-05T10:15:29.496Z"
   },
   {
    "duration": 80,
    "start_time": "2023-02-05T10:15:29.850Z"
   },
   {
    "duration": 24,
    "start_time": "2023-02-05T10:15:29.932Z"
   },
   {
    "duration": 30,
    "start_time": "2023-02-05T10:15:29.958Z"
   },
   {
    "duration": 323,
    "start_time": "2023-02-05T10:15:29.990Z"
   },
   {
    "duration": 278,
    "start_time": "2023-02-05T10:15:30.315Z"
   },
   {
    "duration": 15,
    "start_time": "2023-02-05T10:15:30.595Z"
   },
   {
    "duration": 218,
    "start_time": "2023-02-05T10:15:30.612Z"
   },
   {
    "duration": 152,
    "start_time": "2023-02-05T10:15:30.832Z"
   },
   {
    "duration": 15,
    "start_time": "2023-02-05T10:15:30.986Z"
   },
   {
    "duration": 15,
    "start_time": "2023-02-05T10:15:31.002Z"
   },
   {
    "duration": 296,
    "start_time": "2023-02-05T10:15:31.018Z"
   },
   {
    "duration": 359,
    "start_time": "2023-02-05T10:15:31.316Z"
   },
   {
    "duration": 294,
    "start_time": "2023-02-05T10:15:31.677Z"
   },
   {
    "duration": 179,
    "start_time": "2023-02-05T10:15:31.972Z"
   },
   {
    "duration": 16,
    "start_time": "2023-02-05T10:15:32.153Z"
   },
   {
    "duration": 295,
    "start_time": "2023-02-05T10:15:32.170Z"
   },
   {
    "duration": 303,
    "start_time": "2023-02-05T10:15:32.466Z"
   },
   {
    "duration": 495,
    "start_time": "2023-02-05T10:15:32.770Z"
   },
   {
    "duration": 11,
    "start_time": "2023-02-05T10:15:33.267Z"
   },
   {
    "duration": 8,
    "start_time": "2023-02-05T10:15:33.279Z"
   }
  ],
  "kernelspec": {
   "display_name": "Python 3 (ipykernel)",
   "language": "python",
   "name": "python3"
  },
  "language_info": {
   "codemirror_mode": {
    "name": "ipython",
    "version": 3
   },
   "file_extension": ".py",
   "mimetype": "text/x-python",
   "name": "python",
   "nbconvert_exporter": "python",
   "pygments_lexer": "ipython3",
   "version": "3.9.13"
  },
  "toc": {
   "base_numbering": 1,
   "nav_menu": {},
   "number_sections": true,
   "sideBar": true,
   "skip_h1_title": true,
   "title_cell": "Table of Contents",
   "title_sidebar": "Contents",
   "toc_cell": true,
   "toc_position": {
    "height": "calc(100% - 180px)",
    "left": "10px",
    "top": "150px",
    "width": "165px"
   },
   "toc_section_display": true,
   "toc_window_display": true
  }
 },
 "nbformat": 4,
 "nbformat_minor": 5
}
